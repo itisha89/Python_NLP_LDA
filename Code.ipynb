{
 "cells": [
  {
   "cell_type": "markdown",
   "metadata": {
    "cell_id": "b93ba4c9e1624d35ba21ca0a204eecda",
    "deepnote_app_block_visible": true,
    "deepnote_cell_type": "markdown",
    "id": "ib7zUXyyMnlV"
   },
   "source": [
    "# EDA and necessary pre-processing steps in dataset."
   ]
  },
  {
   "cell_type": "markdown",
   "metadata": {
    "cell_id": "50edbc41988c40cca1642f63eb8ee7e8",
    "deepnote_app_block_visible": true,
    "deepnote_cell_type": "markdown",
    "id": "tr9F-s2MMnlZ"
   },
   "source": [
    "## Import LIBRARIES"
   ]
  },
  {
   "cell_type": "code",
   "execution_count": null,
   "metadata": {
    "cell_id": "3623fe19c2b74b988066bfce05a77bc3",
    "deepnote_app_block_visible": true,
    "deepnote_cell_type": "code",
    "deepnote_to_be_reexecuted": false,
    "execution_millis": 632,
    "execution_start": 1709975109936,
    "id": "un9jQUWhMnla",
    "outputId": "9b5b4ef5-5479-4ec5-9a22-cd051b995cc6",
    "source_hash": "d8637a31"
   },
   "outputs": [
    {
     "name": "stderr",
     "output_type": "stream",
     "text": [
      "[nltk_data] Downloading package stopwords to /root/nltk_data...\n",
      "[nltk_data]   Package stopwords is already up-to-date!\n",
      "[nltk_data] Downloading package averaged_perceptron_tagger to\n",
      "[nltk_data]     /root/nltk_data...\n",
      "[nltk_data]   Package averaged_perceptron_tagger is already up-to-\n",
      "[nltk_data]       date!\n",
      "[nltk_data] Downloading package wordnet to /root/nltk_data...\n",
      "[nltk_data]   Package wordnet is already up-to-date!\n"
     ]
    }
   ],
   "source": [
    "# data wrangling\n",
    "\n",
    "import os\n",
    "import re\n",
    "import string\n",
    "import pandas as pd\n",
    "import numpy as np\n",
    "import spacy\n",
    "import textwrap\n",
    "\n",
    "# data visualization\n",
    "\n",
    "import matplotlib.pyplot as plt\n",
    "import seaborn as sns\n",
    "import pyLDAvis\n",
    "import pyLDAvis.gensim as gensimvis\n",
    "\n",
    "# text modelling\n",
    "\n",
    "import nltk\n",
    "nltk.download('stopwords')\n",
    "nltk.download('averaged_perceptron_tagger')\n",
    "nltk.download('wordnet')\n",
    "from nltk.corpus import stopwords\n",
    "from nltk.stem import WordNetLemmatizer\n",
    "from nltk.corpus import wordnet\n",
    "import en_core_web_sm\n",
    "import gensim\n",
    "from gensim import corpora\n",
    "from gensim.corpora.dictionary import Dictionary\n",
    "from gensim.models.coherencemodel import CoherenceModel\n",
    "from gensim.models.ldamodel import LdaModel\n",
    "from spacy import displacy\n",
    "import random\n",
    "\n",
    "# filter warning\n",
    "\n",
    "import warnings\n",
    "warnings.filterwarnings('ignore',category=DeprecationWarning)"
   ]
  },
  {
   "cell_type": "markdown",
   "metadata": {
    "cell_id": "8f978a2384e94c368ea2ba67b1c11c8c",
    "deepnote_app_block_visible": true,
    "deepnote_cell_type": "markdown",
    "id": "R6YypOJvMYUp"
   },
   "source": [
    "## Dataset Collection"
   ]
  },
  {
   "cell_type": "code",
   "execution_count": null,
   "metadata": {
    "cell_id": "6922cf86e07a4d40834f70b3bfb6d4c5",
    "deepnote_app_block_visible": true,
    "deepnote_cell_type": "code",
    "deepnote_to_be_reexecuted": false,
    "execution_millis": 3746,
    "execution_start": 1709975161640,
    "id": "T0ICY9ySMnlc",
    "outputId": "929011ff-e62f-4707-97fa-1784df16a13e",
    "source_hash": "4c508ce5"
   },
   "outputs": [
    {
     "name": "stdout",
     "output_type": "stream",
     "text": [
      "File Size of BoatProduct.csv  :-  (1449, 7)\n",
      "File Size of Immortal gaming.csv  :-  (0, 7)\n",
      "File Size of Limited Edition.csv  :-  (140, 7)\n",
      "File Size of Misfit.csv  :-  (48, 7)\n",
      "File Size of Mobile Accessories.csv  :-  (118, 7)\n",
      "File Size of TRebel.csv  :-  (143, 7)\n",
      "File Size of bluetooth speakers.csv  :-  (114, 7)\n",
      "File Size of smart watches.csv  :-  (196, 7)\n",
      "File Size of wired headphones.csv  :-  (153, 7)\n",
      "File Size of wireless earbuds.csv  :-  (209, 7)\n",
      "File Size of wireless headphones.csv  :-  (287, 7)\n",
      "Total Records in all files :-  2857\n",
      "\n",
      "To join all the CSV files and create a new file merged_data.csv with an additional column that contains the filename itself :- \n",
      "\n",
      "File size of merged_data.csv file :-  (2857, 8)\n",
      "Total Records in merged_data.csv file :-  2857\n"
     ]
    }
   ],
   "source": [
    "# Path of downloaded CSV files\n",
    "directory = os.getcwd() + \"/notebook/Dataset_archive\"\n",
    "all_dataframes = []\n",
    "total_sum = 0\n",
    "\n",
    "for filename in os.listdir(directory):\n",
    "    if filename.endswith(\".csv\"): # replace with the extension of the files you want to merge\n",
    "        filepath = os.path.join(directory, filename)\n",
    "        # Load the CSV file into a pandas\n",
    "        df = pd.read_csv(filepath)\n",
    "        row_sum = df.shape[0]\n",
    "        print(\"File Size of\",filename,\" :- \",df.shape)\n",
    "        total_sum += row_sum\n",
    "        df[\"Filename\"] = filename # add new column with filename\n",
    "        all_dataframes.append(df)\n",
    "\n",
    "merged_df = pd.concat(all_dataframes, ignore_index=True)\n",
    "merged_df.to_csv(os.getcwd() + \"/merged_data.csv\", index=False)\n",
    "\n",
    "print(\"Total Records in all files :- \",total_sum)\n",
    "print(\"\\nTo join all the CSV files and create a new file merged_data.csv with an additional column that contains the filename itself :- \\n\")\n",
    "print(\"File size of merged_data.csv file :- \",merged_df.shape)\n",
    "print(\"Total Records in merged_data.csv file :- \",merged_df.shape[0])\n"
   ]
  },
  {
   "cell_type": "markdown",
   "metadata": {
    "cell_id": "c6c8f35854e149ad8cbfac8be3756975",
    "deepnote_app_block_visible": true,
    "deepnote_cell_type": "markdown",
    "id": "L6fWv5UuMnld"
   },
   "source": [
    "### Obervations :-\n",
    "Assumption - We are going to extract summary column from all the files and use them as one data set for this assignment.\n",
    "Here we read downloaded files from given link and checking how many rows & columns we have in each CSV file and then reading all the files one by one and joined all the files in one master file called merged_data.csv file. Here we can see that master file have with an additional column that contains the filename itself."
   ]
  },
  {
   "cell_type": "code",
   "execution_count": null,
   "metadata": {
    "cell_id": "a68be80a5c2042dfaf9ebfb52732ed2e",
    "deepnote_app_block_visible": true,
    "deepnote_cell_type": "code",
    "deepnote_to_be_reexecuted": false,
    "execution_millis": 42,
    "execution_start": 1709975176868,
    "id": "6daBb-4GMnld",
    "outputId": "5307b57a-0d25-4043-c6b0-78b77e0fc6d7",
    "source_hash": "8b6923eb"
   },
   "outputs": [
    {
     "data": {
      "text/plain": [
       "(2857, 8)"
      ]
     },
     "execution_count": 19,
     "metadata": {},
     "output_type": "execute_result"
    }
   ],
   "source": [
    "# Taking backcup copy of master DataFrame\n",
    "master_df = merged_df.copy(deep=True)\n",
    "master_df.shape"
   ]
  },
  {
   "cell_type": "markdown",
   "metadata": {
    "cell_id": "da4c77ecd0054ac8a9a4f12c29c39823",
    "deepnote_app_block_visible": true,
    "deepnote_cell_type": "markdown",
    "id": "EhGFRpugMnle"
   },
   "source": [
    "### Obervations :-\n",
    "Here, we use the .copy() method to create a deep copy of the merged_df DataFrame, which means both the data and index are copied. We pass deep=True to ensure that all nested objects are copied as well."
   ]
  },
  {
   "cell_type": "code",
   "execution_count": null,
   "metadata": {
    "cell_id": "1d0c17d3fdb54db488ebb4086594f192",
    "deepnote_app_block_visible": true,
    "deepnote_cell_type": "code",
    "deepnote_to_be_reexecuted": false,
    "execution_millis": 267,
    "execution_start": 1709975192196,
    "id": "E-Qkpu4mMnle",
    "outputId": "49d1372a-a9ab-4c7e-dc29-b5dd4ebb73e7",
    "scrolled": true,
    "source_hash": "3cc13320"
   },
   "outputs": [
    {
     "data": {
      "application/vnd.deepnote.dataframe.v3+json": {
       "column_count": 8,
       "columns": [
        {
         "dtype": "object",
         "name": "ProductName",
         "stats": {
          "categories": [
           {
            "count": 5,
            "name": " Stone 1000v2 "
           }
          ],
          "nan_count": 0,
          "unique_count": 1
         }
        },
        {
         "dtype": "object",
         "name": "ProductPrice",
         "stats": {
          "categories": [
           {
            "count": 4,
            "name": "\nSale price₹ 3,999"
           },
           {
            "count": 1,
            "name": "Sale price₹ 3,999"
           }
          ],
          "nan_count": 0,
          "unique_count": 2
         }
        },
        {
         "dtype": "object",
         "name": "Discount",
         "stats": {
          "categories": [
           {
            "count": 5,
            "name": "43% off"
           }
          ],
          "nan_count": 0,
          "unique_count": 1
         }
        },
        {
         "dtype": "object",
         "name": "NumberofReviews",
         "stats": {
          "categories": [
           {
            "count": 5,
            "name": "7 reviews"
           }
          ],
          "nan_count": 0,
          "unique_count": 1
         }
        },
        {
         "dtype": "object",
         "name": "Rate",
         "stats": {
          "categories": [
           {
            "count": 5,
            "name": "★\n  5.0\n    "
           }
          ],
          "nan_count": 0,
          "unique_count": 1
         }
        },
        {
         "dtype": "object",
         "name": "Review",
         "stats": {
          "categories": [
           {
            "count": 1,
            "name": "Fantastic product"
           },
           {
            "count": 1,
            "name": "Outstanding"
           },
           {
            "count": 3,
            "name": "3 others"
           }
          ],
          "nan_count": 0,
          "unique_count": 5
         }
        },
        {
         "dtype": "object",
         "name": "Summary",
         "stats": {
          "categories": [
           {
            "count": 1,
            "name": "Very good product in this price range.."
           },
           {
            "count": 1,
            "name": "Outstanding Product"
           },
           {
            "count": 3,
            "name": "3 others"
           }
          ],
          "nan_count": 0,
          "unique_count": 5
         }
        },
        {
         "dtype": "object",
         "name": "Filename",
         "stats": {
          "categories": [
           {
            "count": 5,
            "name": "BoatProduct.csv"
           }
          ],
          "nan_count": 0,
          "unique_count": 1
         }
        },
        {
         "dtype": "int64",
         "name": "_deepnote_index_column"
        }
       ],
       "row_count": 5,
       "rows": [
        {
         "Discount": "43% off",
         "Filename": "BoatProduct.csv",
         "NumberofReviews": "7 reviews",
         "ProductName": " Stone 1000v2 ",
         "ProductPrice": "\nSale price₹ 3,999",
         "Rate": "★\n  5.0\n    ",
         "Review": "Fantastic product",
         "Summary": "Very good product in this price range..",
         "_deepnote_index_column": 0
        },
        {
         "Discount": "43% off",
         "Filename": "BoatProduct.csv",
         "NumberofReviews": "7 reviews",
         "ProductName": " Stone 1000v2 ",
         "ProductPrice": "Sale price₹ 3,999",
         "Rate": "★\n  5.0\n    ",
         "Review": "Outstanding",
         "Summary": "Outstanding Product",
         "_deepnote_index_column": 1
        },
        {
         "Discount": "43% off",
         "Filename": "BoatProduct.csv",
         "NumberofReviews": "7 reviews",
         "ProductName": " Stone 1000v2 ",
         "ProductPrice": "\nSale price₹ 3,999",
         "Rate": "★\n  5.0\n    ",
         "Review": "Awesome",
         "Summary": "Works like a charm. Good sound quality. Visually more attractive than v1.",
         "_deepnote_index_column": 2
        },
        {
         "Discount": "43% off",
         "Filename": "BoatProduct.csv",
         "NumberofReviews": "7 reviews",
         "ProductName": " Stone 1000v2 ",
         "ProductPrice": "\nSale price₹ 3,999",
         "Rate": "★\n  5.0\n    ",
         "Review": "Boat stone 1000 v2",
         "Summary": "Great",
         "_deepnote_index_column": 3
        },
        {
         "Discount": "43% off",
         "Filename": "BoatProduct.csv",
         "NumberofReviews": "7 reviews",
         "ProductName": " Stone 1000v2 ",
         "ProductPrice": "\nSale price₹ 3,999",
         "Rate": "★\n  5.0\n    ",
         "Review": "Quality sound",
         "Summary": "Amazing sound quality.totally premium.&.affordable.",
         "_deepnote_index_column": 4
        }
       ]
      },
      "text/html": [
       "<div>\n",
       "<style scoped>\n",
       "    .dataframe tbody tr th:only-of-type {\n",
       "        vertical-align: middle;\n",
       "    }\n",
       "\n",
       "    .dataframe tbody tr th {\n",
       "        vertical-align: top;\n",
       "    }\n",
       "\n",
       "    .dataframe thead th {\n",
       "        text-align: right;\n",
       "    }\n",
       "</style>\n",
       "<table border=\"1\" class=\"dataframe\">\n",
       "  <thead>\n",
       "    <tr style=\"text-align: right;\">\n",
       "      <th></th>\n",
       "      <th>ProductName</th>\n",
       "      <th>ProductPrice</th>\n",
       "      <th>Discount</th>\n",
       "      <th>NumberofReviews</th>\n",
       "      <th>Rate</th>\n",
       "      <th>Review</th>\n",
       "      <th>Summary</th>\n",
       "      <th>Filename</th>\n",
       "    </tr>\n",
       "  </thead>\n",
       "  <tbody>\n",
       "    <tr>\n",
       "      <th>0</th>\n",
       "      <td>Stone 1000v2</td>\n",
       "      <td>\\nSale price₹ 3,999</td>\n",
       "      <td>43% off</td>\n",
       "      <td>7 reviews</td>\n",
       "      <td>★\\n  5.0\\n</td>\n",
       "      <td>Fantastic product</td>\n",
       "      <td>Very good product in this price range..</td>\n",
       "      <td>BoatProduct.csv</td>\n",
       "    </tr>\n",
       "    <tr>\n",
       "      <th>1</th>\n",
       "      <td>Stone 1000v2</td>\n",
       "      <td>Sale price₹ 3,999</td>\n",
       "      <td>43% off</td>\n",
       "      <td>7 reviews</td>\n",
       "      <td>★\\n  5.0\\n</td>\n",
       "      <td>Outstanding</td>\n",
       "      <td>Outstanding Product</td>\n",
       "      <td>BoatProduct.csv</td>\n",
       "    </tr>\n",
       "    <tr>\n",
       "      <th>2</th>\n",
       "      <td>Stone 1000v2</td>\n",
       "      <td>\\nSale price₹ 3,999</td>\n",
       "      <td>43% off</td>\n",
       "      <td>7 reviews</td>\n",
       "      <td>★\\n  5.0\\n</td>\n",
       "      <td>Awesome</td>\n",
       "      <td>Works like a charm. Good sound quality. Visual...</td>\n",
       "      <td>BoatProduct.csv</td>\n",
       "    </tr>\n",
       "    <tr>\n",
       "      <th>3</th>\n",
       "      <td>Stone 1000v2</td>\n",
       "      <td>\\nSale price₹ 3,999</td>\n",
       "      <td>43% off</td>\n",
       "      <td>7 reviews</td>\n",
       "      <td>★\\n  5.0\\n</td>\n",
       "      <td>Boat stone 1000 v2</td>\n",
       "      <td>Great</td>\n",
       "      <td>BoatProduct.csv</td>\n",
       "    </tr>\n",
       "    <tr>\n",
       "      <th>4</th>\n",
       "      <td>Stone 1000v2</td>\n",
       "      <td>\\nSale price₹ 3,999</td>\n",
       "      <td>43% off</td>\n",
       "      <td>7 reviews</td>\n",
       "      <td>★\\n  5.0\\n</td>\n",
       "      <td>Quality sound</td>\n",
       "      <td>Amazing sound quality.totally premium.&amp;.afford...</td>\n",
       "      <td>BoatProduct.csv</td>\n",
       "    </tr>\n",
       "  </tbody>\n",
       "</table>\n",
       "</div>"
      ],
      "text/plain": [
       "      ProductName         ProductPrice Discount NumberofReviews  \\\n",
       "0   Stone 1000v2   \\nSale price₹ 3,999  43% off       7 reviews   \n",
       "1   Stone 1000v2     Sale price₹ 3,999  43% off       7 reviews   \n",
       "2   Stone 1000v2   \\nSale price₹ 3,999  43% off       7 reviews   \n",
       "3   Stone 1000v2   \\nSale price₹ 3,999  43% off       7 reviews   \n",
       "4   Stone 1000v2   \\nSale price₹ 3,999  43% off       7 reviews   \n",
       "\n",
       "             Rate              Review  \\\n",
       "0  ★\\n  5.0\\n       Fantastic product   \n",
       "1  ★\\n  5.0\\n             Outstanding   \n",
       "2  ★\\n  5.0\\n                 Awesome   \n",
       "3  ★\\n  5.0\\n      Boat stone 1000 v2   \n",
       "4  ★\\n  5.0\\n           Quality sound   \n",
       "\n",
       "                                             Summary         Filename  \n",
       "0            Very good product in this price range..  BoatProduct.csv  \n",
       "1                                Outstanding Product  BoatProduct.csv  \n",
       "2  Works like a charm. Good sound quality. Visual...  BoatProduct.csv  \n",
       "3                                              Great  BoatProduct.csv  \n",
       "4  Amazing sound quality.totally premium.&.afford...  BoatProduct.csv  "
      ]
     },
     "execution_count": 20,
     "metadata": {},
     "output_type": "execute_result"
    }
   ],
   "source": [
    "merged_df.head(5)"
   ]
  },
  {
   "cell_type": "code",
   "execution_count": null,
   "metadata": {
    "cell_id": "5f6a3bb366514e0f9cd80104241ddff6",
    "deepnote_app_block_visible": true,
    "deepnote_cell_type": "code",
    "deepnote_to_be_reexecuted": false,
    "execution_millis": 197,
    "execution_start": 1709975201550,
    "id": "w9VwEhqmMnle",
    "outputId": "15574fc5-acd2-4856-a7ac-a678f70152af",
    "scrolled": true,
    "source_hash": "1e66817e"
   },
   "outputs": [
    {
     "data": {
      "application/vnd.deepnote.dataframe.v3+json": {
       "column_count": 8,
       "columns": [
        {
         "dtype": "object",
         "name": "ProductName",
         "stats": {
          "categories": [
           {
            "count": 5,
            "name": " Trebel Rockerz 255 Pro+ "
           }
          ],
          "nan_count": 0,
          "unique_count": 1
         }
        },
        {
         "dtype": "object",
         "name": "ProductPrice",
         "stats": {
          "categories": [
           {
            "count": 5,
            "name": "\nSale price₹ 1,599"
           }
          ],
          "nan_count": 0,
          "unique_count": 1
         }
        },
        {
         "dtype": "object",
         "name": "Discount",
         "stats": {
          "categories": [
           {
            "count": 5,
            "name": "60% off"
           }
          ],
          "nan_count": 0,
          "unique_count": 1
         }
        },
        {
         "dtype": "object",
         "name": "NumberofReviews",
         "stats": {
          "categories": [
           {
            "count": 5,
            "name": "7 reviews"
           }
          ],
          "nan_count": 0,
          "unique_count": 1
         }
        },
        {
         "dtype": "object",
         "name": "Rate",
         "stats": {
          "categories": [
           {
            "count": 5,
            "name": "★\n  4.7\n    "
           }
          ],
          "nan_count": 0,
          "unique_count": 1
         }
        },
        {
         "dtype": "object",
         "name": "Review",
         "stats": {
          "categories": [
           {
            "count": 1,
            "name": "Awesome product"
           },
           {
            "count": 3,
            "name": "3 others"
           },
           {
            "count": 1,
            "name": "Missing"
           }
          ],
          "nan_count": 1,
          "unique_count": 4
         }
        },
        {
         "dtype": "object",
         "name": "Summary",
         "stats": {
          "categories": [
           {
            "count": 1,
            "name": "Trebel Rockerz 255 Pro+"
           },
           {
            "count": 1,
            "name": "I am using this since 10 months and fully satisfied with rockerz 255 pro+ awesome battery backup"
           },
           {
            "count": 3,
            "name": "3 others"
           }
          ],
          "nan_count": 0,
          "unique_count": 5
         }
        },
        {
         "dtype": "object",
         "name": "Filename",
         "stats": {
          "categories": [
           {
            "count": 5,
            "name": "wireless headphones.csv"
           }
          ],
          "nan_count": 0,
          "unique_count": 1
         }
        },
        {
         "dtype": "int64",
         "name": "_deepnote_index_column"
        }
       ],
       "row_count": 5,
       "rows": [
        {
         "Discount": "60% off",
         "Filename": "wireless headphones.csv",
         "NumberofReviews": "7 reviews",
         "ProductName": " Trebel Rockerz 255 Pro+ ",
         "ProductPrice": "\nSale price₹ 1,599",
         "Rate": "★\n  4.7\n    ",
         "Review": "nan",
         "Summary": "Trebel Rockerz 255 Pro+",
         "_deepnote_index_column": 2852
        },
        {
         "Discount": "60% off",
         "Filename": "wireless headphones.csv",
         "NumberofReviews": "7 reviews",
         "ProductName": " Trebel Rockerz 255 Pro+ ",
         "ProductPrice": "\nSale price₹ 1,599",
         "Rate": "★\n  4.7\n    ",
         "Review": "Awesome product",
         "Summary": "I am using this since 10 months and fully satisfied with rockerz 255 pro+ awesome battery backup",
         "_deepnote_index_column": 2853
        },
        {
         "Discount": "60% off",
         "Filename": "wireless headphones.csv",
         "NumberofReviews": "7 reviews",
         "ProductName": " Trebel Rockerz 255 Pro+ ",
         "ProductPrice": "\nSale price₹ 1,599",
         "Rate": "★\n  4.7\n    ",
         "Review": "Awesome",
         "Summary": "Sound quality good best Material",
         "_deepnote_index_column": 2854
        },
        {
         "Discount": "60% off",
         "Filename": "wireless headphones.csv",
         "NumberofReviews": "7 reviews",
         "ProductName": " Trebel Rockerz 255 Pro+ ",
         "ProductPrice": "\nSale price₹ 1,599",
         "Rate": "★\n  4.7\n    ",
         "Review": "Best service",
         "Summary": "Best service  and best product very staisfied",
         "_deepnote_index_column": 2855
        },
        {
         "Discount": "60% off",
         "Filename": "wireless headphones.csv",
         "NumberofReviews": "7 reviews",
         "ProductName": " Trebel Rockerz 255 Pro+ ",
         "ProductPrice": "\nSale price₹ 1,599",
         "Rate": "★\n  4.7\n    ",
         "Review": "Worthy deal except the ipl tickets :|",
         "Summary": "Haven't heard my friends saying,\" tu earphones hata ke baat kar bc\". XD I am completely satisfied with going handsfree while I talk and work/cook/ walk etc etc.\nNot to forget, the audio quality is good enough for me get me into a high end club while being in PJs ( does a hair flip :p) \nAlso, they are great enough to block the creep and their comments while I go for my early morning runs ( social cause - ✅)\nAlso, a good hack to avoid small talks with cab wale bhaiyya :p ( cons- people presume you to be rude and cocky, but that's the truth, right ) \nAlsoooo, audio partners can sponsor ipl matches ke tickets, right ?",
         "_deepnote_index_column": 2856
        }
       ]
      },
      "text/html": [
       "<div>\n",
       "<style scoped>\n",
       "    .dataframe tbody tr th:only-of-type {\n",
       "        vertical-align: middle;\n",
       "    }\n",
       "\n",
       "    .dataframe tbody tr th {\n",
       "        vertical-align: top;\n",
       "    }\n",
       "\n",
       "    .dataframe thead th {\n",
       "        text-align: right;\n",
       "    }\n",
       "</style>\n",
       "<table border=\"1\" class=\"dataframe\">\n",
       "  <thead>\n",
       "    <tr style=\"text-align: right;\">\n",
       "      <th></th>\n",
       "      <th>ProductName</th>\n",
       "      <th>ProductPrice</th>\n",
       "      <th>Discount</th>\n",
       "      <th>NumberofReviews</th>\n",
       "      <th>Rate</th>\n",
       "      <th>Review</th>\n",
       "      <th>Summary</th>\n",
       "      <th>Filename</th>\n",
       "    </tr>\n",
       "  </thead>\n",
       "  <tbody>\n",
       "    <tr>\n",
       "      <th>2852</th>\n",
       "      <td>Trebel Rockerz 255 Pro+</td>\n",
       "      <td>\\nSale price₹ 1,599</td>\n",
       "      <td>60% off</td>\n",
       "      <td>7 reviews</td>\n",
       "      <td>★\\n  4.7\\n</td>\n",
       "      <td>NaN</td>\n",
       "      <td>Trebel Rockerz 255 Pro+</td>\n",
       "      <td>wireless headphones.csv</td>\n",
       "    </tr>\n",
       "    <tr>\n",
       "      <th>2853</th>\n",
       "      <td>Trebel Rockerz 255 Pro+</td>\n",
       "      <td>\\nSale price₹ 1,599</td>\n",
       "      <td>60% off</td>\n",
       "      <td>7 reviews</td>\n",
       "      <td>★\\n  4.7\\n</td>\n",
       "      <td>Awesome product</td>\n",
       "      <td>I am using this since 10 months and fully sati...</td>\n",
       "      <td>wireless headphones.csv</td>\n",
       "    </tr>\n",
       "    <tr>\n",
       "      <th>2854</th>\n",
       "      <td>Trebel Rockerz 255 Pro+</td>\n",
       "      <td>\\nSale price₹ 1,599</td>\n",
       "      <td>60% off</td>\n",
       "      <td>7 reviews</td>\n",
       "      <td>★\\n  4.7\\n</td>\n",
       "      <td>Awesome</td>\n",
       "      <td>Sound quality good best Material</td>\n",
       "      <td>wireless headphones.csv</td>\n",
       "    </tr>\n",
       "    <tr>\n",
       "      <th>2855</th>\n",
       "      <td>Trebel Rockerz 255 Pro+</td>\n",
       "      <td>\\nSale price₹ 1,599</td>\n",
       "      <td>60% off</td>\n",
       "      <td>7 reviews</td>\n",
       "      <td>★\\n  4.7\\n</td>\n",
       "      <td>Best service</td>\n",
       "      <td>Best service  and best product very staisfied</td>\n",
       "      <td>wireless headphones.csv</td>\n",
       "    </tr>\n",
       "    <tr>\n",
       "      <th>2856</th>\n",
       "      <td>Trebel Rockerz 255 Pro+</td>\n",
       "      <td>\\nSale price₹ 1,599</td>\n",
       "      <td>60% off</td>\n",
       "      <td>7 reviews</td>\n",
       "      <td>★\\n  4.7\\n</td>\n",
       "      <td>Worthy deal except the ipl tickets :|</td>\n",
       "      <td>Haven't heard my friends saying,\" tu earphones...</td>\n",
       "      <td>wireless headphones.csv</td>\n",
       "    </tr>\n",
       "  </tbody>\n",
       "</table>\n",
       "</div>"
      ],
      "text/plain": [
       "                    ProductName         ProductPrice Discount NumberofReviews  \\\n",
       "2852   Trebel Rockerz 255 Pro+   \\nSale price₹ 1,599  60% off       7 reviews   \n",
       "2853   Trebel Rockerz 255 Pro+   \\nSale price₹ 1,599  60% off       7 reviews   \n",
       "2854   Trebel Rockerz 255 Pro+   \\nSale price₹ 1,599  60% off       7 reviews   \n",
       "2855   Trebel Rockerz 255 Pro+   \\nSale price₹ 1,599  60% off       7 reviews   \n",
       "2856   Trebel Rockerz 255 Pro+   \\nSale price₹ 1,599  60% off       7 reviews   \n",
       "\n",
       "                Rate                                 Review  \\\n",
       "2852  ★\\n  4.7\\n                                        NaN   \n",
       "2853  ★\\n  4.7\\n                            Awesome product   \n",
       "2854  ★\\n  4.7\\n                                    Awesome   \n",
       "2855  ★\\n  4.7\\n                               Best service   \n",
       "2856  ★\\n  4.7\\n      Worthy deal except the ipl tickets :|   \n",
       "\n",
       "                                                Summary  \\\n",
       "2852                            Trebel Rockerz 255 Pro+   \n",
       "2853  I am using this since 10 months and fully sati...   \n",
       "2854                   Sound quality good best Material   \n",
       "2855      Best service  and best product very staisfied   \n",
       "2856  Haven't heard my friends saying,\" tu earphones...   \n",
       "\n",
       "                     Filename  \n",
       "2852  wireless headphones.csv  \n",
       "2853  wireless headphones.csv  \n",
       "2854  wireless headphones.csv  \n",
       "2855  wireless headphones.csv  \n",
       "2856  wireless headphones.csv  "
      ]
     },
     "execution_count": 21,
     "metadata": {},
     "output_type": "execute_result"
    }
   ],
   "source": [
    "merged_df.tail(5)"
   ]
  },
  {
   "cell_type": "code",
   "execution_count": null,
   "metadata": {
    "cell_id": "dc9dceeb71264a6a9b5fce7e00fb475c",
    "deepnote_app_block_visible": true,
    "deepnote_cell_type": "code",
    "deepnote_to_be_reexecuted": false,
    "execution_millis": 25,
    "execution_start": 1709975205124,
    "id": "ILvRO303Mnlg",
    "outputId": "16b85bf6-93ff-4b19-c363-c80206886b3d",
    "source_hash": "d8779575"
   },
   "outputs": [
    {
     "data": {
      "text/plain": [
       "Index(['ProductName', 'ProductPrice', 'Discount', 'NumberofReviews', 'Rate',\n",
       "       'Review', 'Summary', 'Filename'],\n",
       "      dtype='object')"
      ]
     },
     "execution_count": 22,
     "metadata": {},
     "output_type": "execute_result"
    }
   ],
   "source": [
    "merged_df.columns"
   ]
  },
  {
   "cell_type": "code",
   "execution_count": null,
   "metadata": {
    "cell_id": "d0be61945d8c4a108882721bed36be41",
    "deepnote_app_block_visible": true,
    "deepnote_cell_type": "code",
    "deepnote_to_be_reexecuted": false,
    "execution_millis": 182,
    "execution_start": 1709975208108,
    "id": "2TOB9U2XMnlg",
    "outputId": "d63f9edb-7e97-41c6-8825-fd93b71c0451",
    "scrolled": true,
    "source_hash": "ffa87baf"
   },
   "outputs": [
    {
     "data": {
      "application/vnd.deepnote.dataframe.v3+json": {
       "column_count": 8,
       "columns": [
        {
         "dtype": "object",
         "name": "ProductName",
         "stats": {
          "categories": [
           {
            "count": 1,
            "name": "2857"
           },
           {
            "count": 1,
            "name": "184"
           },
           {
            "count": 2,
            "name": "2 others"
           }
          ],
          "nan_count": 0,
          "unique_count": 4
         }
        },
        {
         "dtype": "object",
         "name": "ProductPrice",
         "stats": {
          "categories": [
           {
            "count": 1,
            "name": "2856"
           },
           {
            "count": 1,
            "name": "49"
           },
           {
            "count": 2,
            "name": "2 others"
           }
          ],
          "nan_count": 0,
          "unique_count": 4
         }
        },
        {
         "dtype": "object",
         "name": "Discount",
         "stats": {
          "categories": [
           {
            "count": 1,
            "name": "2856"
           },
           {
            "count": 1,
            "name": "44"
           },
           {
            "count": 2,
            "name": "2 others"
           }
          ],
          "nan_count": 0,
          "unique_count": 4
         }
        },
        {
         "dtype": "object",
         "name": "NumberofReviews",
         "stats": {
          "categories": [
           {
            "count": 1,
            "name": "2856"
           },
           {
            "count": 1,
            "name": "90"
           },
           {
            "count": 2,
            "name": "2 others"
           }
          ],
          "nan_count": 0,
          "unique_count": 4
         }
        },
        {
         "dtype": "object",
         "name": "Rate",
         "stats": {
          "categories": [
           {
            "count": 1,
            "name": "2856"
           },
           {
            "count": 1,
            "name": "8"
           },
           {
            "count": 2,
            "name": "2 others"
           }
          ],
          "nan_count": 0,
          "unique_count": 4
         }
        },
        {
         "dtype": "object",
         "name": "Review",
         "stats": {
          "categories": [
           {
            "count": 1,
            "name": "1710"
           },
           {
            "count": 1,
            "name": "374"
           },
           {
            "count": 2,
            "name": "2 others"
           }
          ],
          "nan_count": 0,
          "unique_count": 4
         }
        },
        {
         "dtype": "object",
         "name": "Summary",
         "stats": {
          "categories": [
           {
            "count": 1,
            "name": "2856"
           },
           {
            "count": 1,
            "name": "734"
           },
           {
            "count": 2,
            "name": "2 others"
           }
          ],
          "nan_count": 0,
          "unique_count": 4
         }
        },
        {
         "dtype": "object",
         "name": "Filename",
         "stats": {
          "categories": [
           {
            "count": 1,
            "name": "2857"
           },
           {
            "count": 1,
            "name": "10"
           },
           {
            "count": 2,
            "name": "2 others"
           }
          ],
          "nan_count": 0,
          "unique_count": 4
         }
        },
        {
         "dtype": "object",
         "name": "_deepnote_index_column"
        }
       ],
       "row_count": 4,
       "rows": [
        {
         "Discount": "2856",
         "Filename": "2857",
         "NumberofReviews": "2856",
         "ProductName": "2857",
         "ProductPrice": "2856",
         "Rate": "2856",
         "Review": "1710",
         "Summary": "2856",
         "_deepnote_index_column": "count"
        },
        {
         "Discount": "44",
         "Filename": "10",
         "NumberofReviews": "90",
         "ProductName": "184",
         "ProductPrice": "49",
         "Rate": "8",
         "Review": "374",
         "Summary": "734",
         "_deepnote_index_column": "unique"
        },
        {
         "Discount": "60% off",
         "Filename": "BoatProduct.csv",
         "NumberofReviews": "7 reviews",
         "ProductName": "TRebel Airdopes 141 ",
         "ProductPrice": "\nSale price₹ 1,499",
         "Rate": "★\n  4.8\n    ",
         "Review": "Good",
         "Summary": "Good",
         "_deepnote_index_column": "top"
        },
        {
         "Discount": "446",
         "Filename": "1449",
         "NumberofReviews": "150",
         "ProductName": "48",
         "ProductPrice": "328",
         "Rate": "1084",
         "Review": "129",
         "Summary": "121",
         "_deepnote_index_column": "freq"
        }
       ]
      },
      "text/html": [
       "<div>\n",
       "<style scoped>\n",
       "    .dataframe tbody tr th:only-of-type {\n",
       "        vertical-align: middle;\n",
       "    }\n",
       "\n",
       "    .dataframe tbody tr th {\n",
       "        vertical-align: top;\n",
       "    }\n",
       "\n",
       "    .dataframe thead th {\n",
       "        text-align: right;\n",
       "    }\n",
       "</style>\n",
       "<table border=\"1\" class=\"dataframe\">\n",
       "  <thead>\n",
       "    <tr style=\"text-align: right;\">\n",
       "      <th></th>\n",
       "      <th>ProductName</th>\n",
       "      <th>ProductPrice</th>\n",
       "      <th>Discount</th>\n",
       "      <th>NumberofReviews</th>\n",
       "      <th>Rate</th>\n",
       "      <th>Review</th>\n",
       "      <th>Summary</th>\n",
       "      <th>Filename</th>\n",
       "    </tr>\n",
       "  </thead>\n",
       "  <tbody>\n",
       "    <tr>\n",
       "      <th>count</th>\n",
       "      <td>2857</td>\n",
       "      <td>2856</td>\n",
       "      <td>2856</td>\n",
       "      <td>2856</td>\n",
       "      <td>2856</td>\n",
       "      <td>1710</td>\n",
       "      <td>2856</td>\n",
       "      <td>2857</td>\n",
       "    </tr>\n",
       "    <tr>\n",
       "      <th>unique</th>\n",
       "      <td>184</td>\n",
       "      <td>49</td>\n",
       "      <td>44</td>\n",
       "      <td>90</td>\n",
       "      <td>8</td>\n",
       "      <td>374</td>\n",
       "      <td>734</td>\n",
       "      <td>10</td>\n",
       "    </tr>\n",
       "    <tr>\n",
       "      <th>top</th>\n",
       "      <td>TRebel Airdopes 141</td>\n",
       "      <td>\\nSale price₹ 1,499</td>\n",
       "      <td>60% off</td>\n",
       "      <td>7 reviews</td>\n",
       "      <td>★\\n  4.8\\n</td>\n",
       "      <td>Good</td>\n",
       "      <td>Good</td>\n",
       "      <td>BoatProduct.csv</td>\n",
       "    </tr>\n",
       "    <tr>\n",
       "      <th>freq</th>\n",
       "      <td>48</td>\n",
       "      <td>328</td>\n",
       "      <td>446</td>\n",
       "      <td>150</td>\n",
       "      <td>1084</td>\n",
       "      <td>129</td>\n",
       "      <td>121</td>\n",
       "      <td>1449</td>\n",
       "    </tr>\n",
       "  </tbody>\n",
       "</table>\n",
       "</div>"
      ],
      "text/plain": [
       "                 ProductName         ProductPrice Discount NumberofReviews  \\\n",
       "count                   2857                 2856     2856            2856   \n",
       "unique                   184                   49       44              90   \n",
       "top     TRebel Airdopes 141   \\nSale price₹ 1,499  60% off       7 reviews   \n",
       "freq                      48                  328      446             150   \n",
       "\n",
       "                  Rate Review Summary         Filename  \n",
       "count             2856   1710    2856             2857  \n",
       "unique               8    374     734               10  \n",
       "top     ★\\n  4.8\\n       Good    Good  BoatProduct.csv  \n",
       "freq              1084    129     121             1449  "
      ]
     },
     "execution_count": 23,
     "metadata": {},
     "output_type": "execute_result"
    }
   ],
   "source": [
    "merged_df.describe()"
   ]
  },
  {
   "cell_type": "code",
   "execution_count": null,
   "metadata": {
    "cell_id": "7f28eb734781407989f1097605d92ac4",
    "deepnote_app_block_visible": true,
    "deepnote_cell_type": "code",
    "deepnote_to_be_reexecuted": false,
    "execution_millis": 38,
    "execution_start": 1709975213560,
    "id": "WOfnUfICMnlh",
    "outputId": "5cc0e09e-c9bf-43ba-c62e-6373275478f5",
    "scrolled": true,
    "source_hash": "20e9269c"
   },
   "outputs": [
    {
     "name": "stdout",
     "output_type": "stream",
     "text": [
      "<class 'pandas.core.frame.DataFrame'>\n",
      "RangeIndex: 2857 entries, 0 to 2856\n",
      "Data columns (total 8 columns):\n",
      " #   Column           Non-Null Count  Dtype \n",
      "---  ------           --------------  ----- \n",
      " 0   ProductName      2857 non-null   object\n",
      " 1   ProductPrice     2856 non-null   object\n",
      " 2   Discount         2856 non-null   object\n",
      " 3   NumberofReviews  2856 non-null   object\n",
      " 4   Rate             2856 non-null   object\n",
      " 5   Review           1710 non-null   object\n",
      " 6   Summary          2856 non-null   object\n",
      " 7   Filename         2857 non-null   object\n",
      "dtypes: object(8)\n",
      "memory usage: 178.7+ KB\n"
     ]
    }
   ],
   "source": [
    "merged_df.info()"
   ]
  },
  {
   "cell_type": "markdown",
   "metadata": {
    "cell_id": "5c588ec5512f42d281e81fd7dd18a2b7",
    "deepnote_app_block_visible": true,
    "deepnote_cell_type": "markdown",
    "id": "QZnXwOvoMnlh"
   },
   "source": [
    "### Obervations :-\n",
    "All columns have object Datatype. In our this assigment we are going to use \"Summary\" column for further processing."
   ]
  },
  {
   "cell_type": "code",
   "execution_count": null,
   "metadata": {
    "cell_id": "6205ee3784fe4d9b8340bb5690068ebb",
    "deepnote_app_block_visible": true,
    "deepnote_cell_type": "code",
    "deepnote_to_be_reexecuted": false,
    "execution_millis": 33,
    "execution_start": 1709975221159,
    "id": "dER89SYAMnli",
    "outputId": "9174ea20-f28d-4482-9649-c60197afb512",
    "scrolled": true,
    "source_hash": "8490e1b6"
   },
   "outputs": [
    {
     "data": {
      "text/plain": [
       "ProductName           0\n",
       "ProductPrice          1\n",
       "Discount              1\n",
       "NumberofReviews       1\n",
       "Rate                  1\n",
       "Review             1147\n",
       "Summary               1\n",
       "Filename              0\n",
       "dtype: int64"
      ]
     },
     "execution_count": 25,
     "metadata": {},
     "output_type": "execute_result"
    }
   ],
   "source": [
    "# Checkig for null values\n",
    "merged_df.isnull().sum()"
   ]
  },
  {
   "cell_type": "markdown",
   "metadata": {
    "cell_id": "a6a20e8fc5af4e71b2be4b79c4ce51c1",
    "deepnote_app_block_visible": true,
    "deepnote_cell_type": "markdown",
    "id": "qrii1rAJMnli"
   },
   "source": [
    "### Obervations :-\n",
    "\"Review\" column have more null values. \"Summary\" column have only one null entry. Since the null values are not more than 1% of the total data for Summary column, we can drop the null values."
   ]
  },
  {
   "cell_type": "code",
   "execution_count": null,
   "metadata": {
    "cell_id": "b18ab029042e4bdea14be05108fc3b9a",
    "deepnote_app_block_visible": true,
    "deepnote_cell_type": "code",
    "deepnote_to_be_reexecuted": false,
    "execution_millis": 74,
    "execution_start": 1709975242976,
    "id": "h4pBnZpHMnlk",
    "outputId": "4f2f4acf-b445-485e-c1bd-2658c576badf",
    "scrolled": true,
    "source_hash": "b3f0869e"
   },
   "outputs": [
    {
     "data": {
      "text/plain": [
       "ProductName           0\n",
       "ProductPrice          0\n",
       "Discount              0\n",
       "NumberofReviews       0\n",
       "Rate                  0\n",
       "Review             1146\n",
       "Summary               0\n",
       "Filename              0\n",
       "dtype: int64"
      ]
     },
     "execution_count": 26,
     "metadata": {},
     "output_type": "execute_result"
    }
   ],
   "source": [
    "# Droping out Null value of \"Summary\" column\n",
    "merged_df = merged_df.dropna(subset=[\"Summary\"])\n",
    "\n",
    "# Checkig again for null values\n",
    "merged_df.isnull().sum()"
   ]
  },
  {
   "cell_type": "markdown",
   "metadata": {
    "cell_id": "68069dc63bf542209ec492d6bb5c3a7c",
    "deepnote_app_block_visible": true,
    "deepnote_cell_type": "markdown",
    "id": "Pl-bl-4CMnlk"
   },
   "source": [
    "### Obervations :-\n",
    "Removed Null Values from \"Summary\" column"
   ]
  },
  {
   "cell_type": "code",
   "execution_count": null,
   "metadata": {
    "cell_id": "1e794ecb52c04e0c9609838cc621dbfb",
    "deepnote_app_block_visible": true,
    "deepnote_cell_type": "code",
    "deepnote_to_be_reexecuted": false,
    "execution_millis": 267,
    "execution_start": 1709975248887,
    "id": "TdX8T2mDMnll",
    "outputId": "2abcb8d2-3855-4803-b4a3-2b3ec63e1005",
    "source_hash": "be0aaf1"
   },
   "outputs": [
    {
     "data": {
      "application/vnd.deepnote.dataframe.v3+json": {
       "column_count": 8,
       "columns": [
        {
         "dtype": "object",
         "name": "ProductName",
         "stats": {
          "categories": [
           {
            "count": 48,
            "name": "TRebel Airdopes 141 "
           },
           {
            "count": 38,
            "name": " Airdopes 131 "
           },
           {
            "count": 2770,
            "name": "181 others"
           }
          ],
          "nan_count": 0,
          "unique_count": 183
         }
        },
        {
         "dtype": "object",
         "name": "ProductPrice",
         "stats": {
          "categories": [
           {
            "count": 328,
            "name": "\nSale price₹ 1,499"
           },
           {
            "count": 288,
            "name": "\nSale price₹ 1,299"
           },
           {
            "count": 2240,
            "name": "47 others"
           }
          ],
          "nan_count": 0,
          "unique_count": 49
         }
        },
        {
         "dtype": "object",
         "name": "Discount",
         "stats": {
          "categories": [
           {
            "count": 446,
            "name": "60% off"
           },
           {
            "count": 320,
            "name": "57% off"
           },
           {
            "count": 2090,
            "name": "42 others"
           }
          ],
          "nan_count": 0,
          "unique_count": 44
         }
        },
        {
         "dtype": "object",
         "name": "NumberofReviews",
         "stats": {
          "categories": [
           {
            "count": 150,
            "name": "7 reviews"
           },
           {
            "count": 132,
            "name": "20 reviews"
           },
           {
            "count": 2574,
            "name": "88 others"
           }
          ],
          "nan_count": 0,
          "unique_count": 90
         }
        },
        {
         "dtype": "object",
         "name": "Rate",
         "stats": {
          "categories": [
           {
            "count": 1084,
            "name": "★\n  4.8\n    "
           },
           {
            "count": 900,
            "name": "★\n  4.9\n    "
           },
           {
            "count": 872,
            "name": "6 others"
           }
          ],
          "nan_count": 0,
          "unique_count": 8
         }
        },
        {
         "dtype": "object",
         "name": "Review",
         "stats": {
          "categories": [
           {
            "count": 129,
            "name": "Good"
           },
           {
            "count": 1581,
            "name": "373 others"
           },
           {
            "count": 1146,
            "name": "Missing"
           }
          ],
          "nan_count": 1146,
          "unique_count": 374
         }
        },
        {
         "dtype": "object",
         "name": "Summary",
         "stats": {
          "categories": [
           {
            "count": 121,
            "name": "Good"
           },
           {
            "count": 45,
            "name": "Good product"
           },
           {
            "count": 2690,
            "name": "732 others"
           }
          ],
          "nan_count": 0,
          "unique_count": 734
         }
        },
        {
         "dtype": "object",
         "name": "Filename",
         "stats": {
          "categories": [
           {
            "count": 1448,
            "name": "BoatProduct.csv"
           },
           {
            "count": 287,
            "name": "wireless headphones.csv"
           },
           {
            "count": 1121,
            "name": "8 others"
           }
          ],
          "nan_count": 0,
          "unique_count": 10
         }
        },
        {
         "dtype": "int64",
         "name": "_deepnote_index_column"
        }
       ],
       "row_count": 2856,
       "rows": [
        {
         "Discount": "43% off",
         "Filename": "BoatProduct.csv",
         "NumberofReviews": "7 reviews",
         "ProductName": " Stone 1000v2 ",
         "ProductPrice": "\nSale price₹ 3,999",
         "Rate": "★\n  5.0\n    ",
         "Review": "Fantastic product",
         "Summary": "Very good product in this price range..",
         "_deepnote_index_column": 0
        },
        {
         "Discount": "43% off",
         "Filename": "BoatProduct.csv",
         "NumberofReviews": "7 reviews",
         "ProductName": " Stone 1000v2 ",
         "ProductPrice": "Sale price₹ 3,999",
         "Rate": "★\n  5.0\n    ",
         "Review": "Outstanding",
         "Summary": "Outstanding Product",
         "_deepnote_index_column": 1
        },
        {
         "Discount": "43% off",
         "Filename": "BoatProduct.csv",
         "NumberofReviews": "7 reviews",
         "ProductName": " Stone 1000v2 ",
         "ProductPrice": "\nSale price₹ 3,999",
         "Rate": "★\n  5.0\n    ",
         "Review": "Awesome",
         "Summary": "Works like a charm. Good sound quality. Visually more attractive than v1.",
         "_deepnote_index_column": 2
        },
        {
         "Discount": "43% off",
         "Filename": "BoatProduct.csv",
         "NumberofReviews": "7 reviews",
         "ProductName": " Stone 1000v2 ",
         "ProductPrice": "\nSale price₹ 3,999",
         "Rate": "★\n  5.0\n    ",
         "Review": "Boat stone 1000 v2",
         "Summary": "Great",
         "_deepnote_index_column": 3
        },
        {
         "Discount": "43% off",
         "Filename": "BoatProduct.csv",
         "NumberofReviews": "7 reviews",
         "ProductName": " Stone 1000v2 ",
         "ProductPrice": "\nSale price₹ 3,999",
         "Rate": "★\n  5.0\n    ",
         "Review": "Quality sound",
         "Summary": "Amazing sound quality.totally premium.&.affordable.",
         "_deepnote_index_column": 4
        },
        {
         "Discount": "43% off",
         "Filename": "BoatProduct.csv",
         "NumberofReviews": "7 reviews",
         "ProductName": " Stone 1000v2 ",
         "ProductPrice": "\nSale price₹ 3,999",
         "Rate": "★\n  5.0\n    ",
         "Review": "nan",
         "Summary": "boAt Stone 1000v2",
         "_deepnote_index_column": 5
        },
        {
         "Discount": "62% off",
         "Filename": "BoatProduct.csv",
         "NumberofReviews": "92 reviews",
         "ProductName": " Stone Grenade ",
         "ProductPrice": "\nSale price₹ 1,499",
         "Rate": "★\n  4.9\n    ",
         "Review": "nan",
         "Summary": "Nice product",
         "_deepnote_index_column": 6
        },
        {
         "Discount": "62% off",
         "Filename": "BoatProduct.csv",
         "NumberofReviews": "92 reviews",
         "ProductName": " Stone Grenade ",
         "ProductPrice": "\nSale price₹ 1,499",
         "Rate": "★\n  4.9\n    ",
         "Review": "nan",
         "Summary": "boAt Stone Grenade | Bluetooth Speakers with 1.75” Full-range Drivers, High Fidelity Stereo Sound, Up to 7hrs Nonstop Playback",
         "_deepnote_index_column": 7
        },
        {
         "Discount": "62% off",
         "Filename": "BoatProduct.csv",
         "NumberofReviews": "92 reviews",
         "ProductName": " Stone Grenade ",
         "ProductPrice": "\nSale price₹ 1,499",
         "Rate": "★\n  4.9\n    ",
         "Review": "Very nice quality and where is amazing flight best product on the boat granite",
         "Summary": "Very nice quality and where is amazing flight best",
         "_deepnote_index_column": 8
        },
        {
         "Discount": "62% off",
         "Filename": "BoatProduct.csv",
         "NumberofReviews": "92 reviews",
         "ProductName": " Stone Grenade ",
         "ProductPrice": "\nSale price₹ 1,499",
         "Rate": "★\n  4.9\n    ",
         "Review": "Best quality",
         "Summary": "Sound like a good",
         "_deepnote_index_column": 9
        }
       ]
      },
      "text/html": [
       "<div>\n",
       "<style scoped>\n",
       "    .dataframe tbody tr th:only-of-type {\n",
       "        vertical-align: middle;\n",
       "    }\n",
       "\n",
       "    .dataframe tbody tr th {\n",
       "        vertical-align: top;\n",
       "    }\n",
       "\n",
       "    .dataframe thead th {\n",
       "        text-align: right;\n",
       "    }\n",
       "</style>\n",
       "<table border=\"1\" class=\"dataframe\">\n",
       "  <thead>\n",
       "    <tr style=\"text-align: right;\">\n",
       "      <th></th>\n",
       "      <th>ProductName</th>\n",
       "      <th>ProductPrice</th>\n",
       "      <th>Discount</th>\n",
       "      <th>NumberofReviews</th>\n",
       "      <th>Rate</th>\n",
       "      <th>Review</th>\n",
       "      <th>Summary</th>\n",
       "      <th>Filename</th>\n",
       "    </tr>\n",
       "  </thead>\n",
       "  <tbody>\n",
       "    <tr>\n",
       "      <th>0</th>\n",
       "      <td>Stone 1000v2</td>\n",
       "      <td>\\nSale price₹ 3,999</td>\n",
       "      <td>43% off</td>\n",
       "      <td>7 reviews</td>\n",
       "      <td>★\\n  5.0\\n</td>\n",
       "      <td>Fantastic product</td>\n",
       "      <td>Very good product in this price range..</td>\n",
       "      <td>BoatProduct.csv</td>\n",
       "    </tr>\n",
       "    <tr>\n",
       "      <th>1</th>\n",
       "      <td>Stone 1000v2</td>\n",
       "      <td>Sale price₹ 3,999</td>\n",
       "      <td>43% off</td>\n",
       "      <td>7 reviews</td>\n",
       "      <td>★\\n  5.0\\n</td>\n",
       "      <td>Outstanding</td>\n",
       "      <td>Outstanding Product</td>\n",
       "      <td>BoatProduct.csv</td>\n",
       "    </tr>\n",
       "    <tr>\n",
       "      <th>2</th>\n",
       "      <td>Stone 1000v2</td>\n",
       "      <td>\\nSale price₹ 3,999</td>\n",
       "      <td>43% off</td>\n",
       "      <td>7 reviews</td>\n",
       "      <td>★\\n  5.0\\n</td>\n",
       "      <td>Awesome</td>\n",
       "      <td>Works like a charm. Good sound quality. Visual...</td>\n",
       "      <td>BoatProduct.csv</td>\n",
       "    </tr>\n",
       "    <tr>\n",
       "      <th>3</th>\n",
       "      <td>Stone 1000v2</td>\n",
       "      <td>\\nSale price₹ 3,999</td>\n",
       "      <td>43% off</td>\n",
       "      <td>7 reviews</td>\n",
       "      <td>★\\n  5.0\\n</td>\n",
       "      <td>Boat stone 1000 v2</td>\n",
       "      <td>Great</td>\n",
       "      <td>BoatProduct.csv</td>\n",
       "    </tr>\n",
       "    <tr>\n",
       "      <th>4</th>\n",
       "      <td>Stone 1000v2</td>\n",
       "      <td>\\nSale price₹ 3,999</td>\n",
       "      <td>43% off</td>\n",
       "      <td>7 reviews</td>\n",
       "      <td>★\\n  5.0\\n</td>\n",
       "      <td>Quality sound</td>\n",
       "      <td>Amazing sound quality.totally premium.&amp;.afford...</td>\n",
       "      <td>BoatProduct.csv</td>\n",
       "    </tr>\n",
       "    <tr>\n",
       "      <th>...</th>\n",
       "      <td>...</td>\n",
       "      <td>...</td>\n",
       "      <td>...</td>\n",
       "      <td>...</td>\n",
       "      <td>...</td>\n",
       "      <td>...</td>\n",
       "      <td>...</td>\n",
       "      <td>...</td>\n",
       "    </tr>\n",
       "    <tr>\n",
       "      <th>2852</th>\n",
       "      <td>Trebel Rockerz 255 Pro+</td>\n",
       "      <td>\\nSale price₹ 1,599</td>\n",
       "      <td>60% off</td>\n",
       "      <td>7 reviews</td>\n",
       "      <td>★\\n  4.7\\n</td>\n",
       "      <td>NaN</td>\n",
       "      <td>Trebel Rockerz 255 Pro+</td>\n",
       "      <td>wireless headphones.csv</td>\n",
       "    </tr>\n",
       "    <tr>\n",
       "      <th>2853</th>\n",
       "      <td>Trebel Rockerz 255 Pro+</td>\n",
       "      <td>\\nSale price₹ 1,599</td>\n",
       "      <td>60% off</td>\n",
       "      <td>7 reviews</td>\n",
       "      <td>★\\n  4.7\\n</td>\n",
       "      <td>Awesome product</td>\n",
       "      <td>I am using this since 10 months and fully sati...</td>\n",
       "      <td>wireless headphones.csv</td>\n",
       "    </tr>\n",
       "    <tr>\n",
       "      <th>2854</th>\n",
       "      <td>Trebel Rockerz 255 Pro+</td>\n",
       "      <td>\\nSale price₹ 1,599</td>\n",
       "      <td>60% off</td>\n",
       "      <td>7 reviews</td>\n",
       "      <td>★\\n  4.7\\n</td>\n",
       "      <td>Awesome</td>\n",
       "      <td>Sound quality good best Material</td>\n",
       "      <td>wireless headphones.csv</td>\n",
       "    </tr>\n",
       "    <tr>\n",
       "      <th>2855</th>\n",
       "      <td>Trebel Rockerz 255 Pro+</td>\n",
       "      <td>\\nSale price₹ 1,599</td>\n",
       "      <td>60% off</td>\n",
       "      <td>7 reviews</td>\n",
       "      <td>★\\n  4.7\\n</td>\n",
       "      <td>Best service</td>\n",
       "      <td>Best service  and best product very staisfied</td>\n",
       "      <td>wireless headphones.csv</td>\n",
       "    </tr>\n",
       "    <tr>\n",
       "      <th>2856</th>\n",
       "      <td>Trebel Rockerz 255 Pro+</td>\n",
       "      <td>\\nSale price₹ 1,599</td>\n",
       "      <td>60% off</td>\n",
       "      <td>7 reviews</td>\n",
       "      <td>★\\n  4.7\\n</td>\n",
       "      <td>Worthy deal except the ipl tickets :|</td>\n",
       "      <td>Haven't heard my friends saying,\" tu earphones...</td>\n",
       "      <td>wireless headphones.csv</td>\n",
       "    </tr>\n",
       "  </tbody>\n",
       "</table>\n",
       "<p>2856 rows × 8 columns</p>\n",
       "</div>"
      ],
      "text/plain": [
       "                    ProductName         ProductPrice Discount NumberofReviews  \\\n",
       "0                 Stone 1000v2   \\nSale price₹ 3,999  43% off       7 reviews   \n",
       "1                 Stone 1000v2     Sale price₹ 3,999  43% off       7 reviews   \n",
       "2                 Stone 1000v2   \\nSale price₹ 3,999  43% off       7 reviews   \n",
       "3                 Stone 1000v2   \\nSale price₹ 3,999  43% off       7 reviews   \n",
       "4                 Stone 1000v2   \\nSale price₹ 3,999  43% off       7 reviews   \n",
       "...                         ...                  ...      ...             ...   \n",
       "2852   Trebel Rockerz 255 Pro+   \\nSale price₹ 1,599  60% off       7 reviews   \n",
       "2853   Trebel Rockerz 255 Pro+   \\nSale price₹ 1,599  60% off       7 reviews   \n",
       "2854   Trebel Rockerz 255 Pro+   \\nSale price₹ 1,599  60% off       7 reviews   \n",
       "2855   Trebel Rockerz 255 Pro+   \\nSale price₹ 1,599  60% off       7 reviews   \n",
       "2856   Trebel Rockerz 255 Pro+   \\nSale price₹ 1,599  60% off       7 reviews   \n",
       "\n",
       "                Rate                                 Review  \\\n",
       "0     ★\\n  5.0\\n                          Fantastic product   \n",
       "1     ★\\n  5.0\\n                                Outstanding   \n",
       "2     ★\\n  5.0\\n                                    Awesome   \n",
       "3     ★\\n  5.0\\n                         Boat stone 1000 v2   \n",
       "4     ★\\n  5.0\\n                              Quality sound   \n",
       "...              ...                                    ...   \n",
       "2852  ★\\n  4.7\\n                                        NaN   \n",
       "2853  ★\\n  4.7\\n                            Awesome product   \n",
       "2854  ★\\n  4.7\\n                                    Awesome   \n",
       "2855  ★\\n  4.7\\n                               Best service   \n",
       "2856  ★\\n  4.7\\n      Worthy deal except the ipl tickets :|   \n",
       "\n",
       "                                                Summary  \\\n",
       "0               Very good product in this price range..   \n",
       "1                                   Outstanding Product   \n",
       "2     Works like a charm. Good sound quality. Visual...   \n",
       "3                                                 Great   \n",
       "4     Amazing sound quality.totally premium.&.afford...   \n",
       "...                                                 ...   \n",
       "2852                            Trebel Rockerz 255 Pro+   \n",
       "2853  I am using this since 10 months and fully sati...   \n",
       "2854                   Sound quality good best Material   \n",
       "2855      Best service  and best product very staisfied   \n",
       "2856  Haven't heard my friends saying,\" tu earphones...   \n",
       "\n",
       "                     Filename  \n",
       "0             BoatProduct.csv  \n",
       "1             BoatProduct.csv  \n",
       "2             BoatProduct.csv  \n",
       "3             BoatProduct.csv  \n",
       "4             BoatProduct.csv  \n",
       "...                       ...  \n",
       "2852  wireless headphones.csv  \n",
       "2853  wireless headphones.csv  \n",
       "2854  wireless headphones.csv  \n",
       "2855  wireless headphones.csv  \n",
       "2856  wireless headphones.csv  \n",
       "\n",
       "[2856 rows x 8 columns]"
      ]
     },
     "execution_count": 27,
     "metadata": {},
     "output_type": "execute_result"
    }
   ],
   "source": [
    "merged_df"
   ]
  },
  {
   "cell_type": "code",
   "execution_count": null,
   "metadata": {
    "cell_id": "073e98f59f2241a8a197b18f3ea9dc72",
    "deepnote_app_block_visible": true,
    "deepnote_cell_type": "code",
    "deepnote_to_be_reexecuted": false,
    "execution_millis": 211,
    "execution_start": 1709975285247,
    "id": "U1UvVvtcMnll",
    "outputId": "aacf5578-6ecb-41a9-a35d-e050bba9dece",
    "source_hash": "5c5349e6"
   },
   "outputs": [
    {
     "data": {
      "application/vnd.deepnote.dataframe.v3+json": {
       "column_count": 8,
       "columns": [
        {
         "dtype": "object",
         "name": "ProductName",
         "stats": {
          "categories": [
           {
            "count": 48,
            "name": "TRebel Airdopes 141 "
           },
           {
            "count": 38,
            "name": " Airdopes 131 "
           },
           {
            "count": 2770,
            "name": "181 others"
           }
          ],
          "nan_count": 0,
          "unique_count": 183
         }
        },
        {
         "dtype": "float64",
         "name": "ProductPrice",
         "stats": {
          "histogram": [
           {
            "bin_end": 1279,
            "bin_start": 199,
            "count": 1038
           },
           {
            "bin_end": 2359,
            "bin_start": 1279,
            "count": 1392
           },
           {
            "bin_end": 3439,
            "bin_start": 2359,
            "count": 232
           },
           {
            "bin_end": 4519,
            "bin_start": 3439,
            "count": 159
           },
           {
            "bin_end": 5599,
            "bin_start": 4519,
            "count": 4
           },
           {
            "bin_end": 6679,
            "bin_start": 5599,
            "count": 0
           },
           {
            "bin_end": 7759,
            "bin_start": 6679,
            "count": 6
           },
           {
            "bin_end": 8839,
            "bin_start": 7759,
            "count": 0
           },
           {
            "bin_end": 9919,
            "bin_start": 8839,
            "count": 7
           },
           {
            "bin_end": 10999,
            "bin_start": 9919,
            "count": 8
           }
          ],
          "max": "10999.0",
          "min": "199.0",
          "nan_count": 10,
          "unique_count": 47
         }
        },
        {
         "dtype": "object",
         "name": "Discount",
         "stats": {
          "categories": [
           {
            "count": 446,
            "name": "60% off"
           },
           {
            "count": 320,
            "name": "57% off"
           },
           {
            "count": 2090,
            "name": "42 others"
           }
          ],
          "nan_count": 0,
          "unique_count": 44
         }
        },
        {
         "dtype": "object",
         "name": "NumberofReviews",
         "stats": {
          "categories": [
           {
            "count": 150,
            "name": "7 reviews"
           },
           {
            "count": 132,
            "name": "20 reviews"
           },
           {
            "count": 2574,
            "name": "88 others"
           }
          ],
          "nan_count": 0,
          "unique_count": 90
         }
        },
        {
         "dtype": "object",
         "name": "Rate",
         "stats": {
          "categories": [
           {
            "count": 1084,
            "name": "★\n  4.8\n    "
           },
           {
            "count": 900,
            "name": "★\n  4.9\n    "
           },
           {
            "count": 872,
            "name": "6 others"
           }
          ],
          "nan_count": 0,
          "unique_count": 8
         }
        },
        {
         "dtype": "object",
         "name": "Review",
         "stats": {
          "categories": [
           {
            "count": 129,
            "name": "Good"
           },
           {
            "count": 1581,
            "name": "373 others"
           },
           {
            "count": 1146,
            "name": "Missing"
           }
          ],
          "nan_count": 1146,
          "unique_count": 374
         }
        },
        {
         "dtype": "object",
         "name": "Summary",
         "stats": {
          "categories": [
           {
            "count": 121,
            "name": "Good"
           },
           {
            "count": 45,
            "name": "Good product"
           },
           {
            "count": 2690,
            "name": "732 others"
           }
          ],
          "nan_count": 0,
          "unique_count": 734
         }
        },
        {
         "dtype": "object",
         "name": "Filename",
         "stats": {
          "categories": [
           {
            "count": 1448,
            "name": "BoatProduct.csv"
           },
           {
            "count": 287,
            "name": "wireless headphones.csv"
           },
           {
            "count": 1121,
            "name": "8 others"
           }
          ],
          "nan_count": 0,
          "unique_count": 10
         }
        },
        {
         "dtype": "int64",
         "name": "_deepnote_index_column"
        }
       ],
       "row_count": 2856,
       "rows": [
        {
         "Discount": "43% off",
         "Filename": "BoatProduct.csv",
         "NumberofReviews": "7 reviews",
         "ProductName": " Stone 1000v2 ",
         "ProductPrice": 3999,
         "Rate": "★\n  5.0\n    ",
         "Review": "Fantastic product",
         "Summary": "Very good product in this price range..",
         "_deepnote_index_column": 0
        },
        {
         "Discount": "43% off",
         "Filename": "BoatProduct.csv",
         "NumberofReviews": "7 reviews",
         "ProductName": " Stone 1000v2 ",
         "ProductPrice": 3999,
         "Rate": "★\n  5.0\n    ",
         "Review": "Outstanding",
         "Summary": "Outstanding Product",
         "_deepnote_index_column": 1
        },
        {
         "Discount": "43% off",
         "Filename": "BoatProduct.csv",
         "NumberofReviews": "7 reviews",
         "ProductName": " Stone 1000v2 ",
         "ProductPrice": 3999,
         "Rate": "★\n  5.0\n    ",
         "Review": "Awesome",
         "Summary": "Works like a charm. Good sound quality. Visually more attractive than v1.",
         "_deepnote_index_column": 2
        },
        {
         "Discount": "43% off",
         "Filename": "BoatProduct.csv",
         "NumberofReviews": "7 reviews",
         "ProductName": " Stone 1000v2 ",
         "ProductPrice": 3999,
         "Rate": "★\n  5.0\n    ",
         "Review": "Boat stone 1000 v2",
         "Summary": "Great",
         "_deepnote_index_column": 3
        },
        {
         "Discount": "43% off",
         "Filename": "BoatProduct.csv",
         "NumberofReviews": "7 reviews",
         "ProductName": " Stone 1000v2 ",
         "ProductPrice": 3999,
         "Rate": "★\n  5.0\n    ",
         "Review": "Quality sound",
         "Summary": "Amazing sound quality.totally premium.&.affordable.",
         "_deepnote_index_column": 4
        },
        {
         "Discount": "43% off",
         "Filename": "BoatProduct.csv",
         "NumberofReviews": "7 reviews",
         "ProductName": " Stone 1000v2 ",
         "ProductPrice": 3999,
         "Rate": "★\n  5.0\n    ",
         "Review": "nan",
         "Summary": "boAt Stone 1000v2",
         "_deepnote_index_column": 5
        },
        {
         "Discount": "62% off",
         "Filename": "BoatProduct.csv",
         "NumberofReviews": "92 reviews",
         "ProductName": " Stone Grenade ",
         "ProductPrice": 1499,
         "Rate": "★\n  4.9\n    ",
         "Review": "nan",
         "Summary": "Nice product",
         "_deepnote_index_column": 6
        },
        {
         "Discount": "62% off",
         "Filename": "BoatProduct.csv",
         "NumberofReviews": "92 reviews",
         "ProductName": " Stone Grenade ",
         "ProductPrice": 1499,
         "Rate": "★\n  4.9\n    ",
         "Review": "nan",
         "Summary": "boAt Stone Grenade | Bluetooth Speakers with 1.75” Full-range Drivers, High Fidelity Stereo Sound, Up to 7hrs Nonstop Playback",
         "_deepnote_index_column": 7
        },
        {
         "Discount": "62% off",
         "Filename": "BoatProduct.csv",
         "NumberofReviews": "92 reviews",
         "ProductName": " Stone Grenade ",
         "ProductPrice": 1499,
         "Rate": "★\n  4.9\n    ",
         "Review": "Very nice quality and where is amazing flight best product on the boat granite",
         "Summary": "Very nice quality and where is amazing flight best",
         "_deepnote_index_column": 8
        },
        {
         "Discount": "62% off",
         "Filename": "BoatProduct.csv",
         "NumberofReviews": "92 reviews",
         "ProductName": " Stone Grenade ",
         "ProductPrice": 1499,
         "Rate": "★\n  4.9\n    ",
         "Review": "Best quality",
         "Summary": "Sound like a good",
         "_deepnote_index_column": 9
        }
       ]
      },
      "text/html": [
       "<div>\n",
       "<style scoped>\n",
       "    .dataframe tbody tr th:only-of-type {\n",
       "        vertical-align: middle;\n",
       "    }\n",
       "\n",
       "    .dataframe tbody tr th {\n",
       "        vertical-align: top;\n",
       "    }\n",
       "\n",
       "    .dataframe thead th {\n",
       "        text-align: right;\n",
       "    }\n",
       "</style>\n",
       "<table border=\"1\" class=\"dataframe\">\n",
       "  <thead>\n",
       "    <tr style=\"text-align: right;\">\n",
       "      <th></th>\n",
       "      <th>ProductName</th>\n",
       "      <th>ProductPrice</th>\n",
       "      <th>Discount</th>\n",
       "      <th>NumberofReviews</th>\n",
       "      <th>Rate</th>\n",
       "      <th>Review</th>\n",
       "      <th>Summary</th>\n",
       "      <th>Filename</th>\n",
       "    </tr>\n",
       "  </thead>\n",
       "  <tbody>\n",
       "    <tr>\n",
       "      <th>0</th>\n",
       "      <td>Stone 1000v2</td>\n",
       "      <td>3999.0</td>\n",
       "      <td>43% off</td>\n",
       "      <td>7 reviews</td>\n",
       "      <td>★\\n  5.0\\n</td>\n",
       "      <td>Fantastic product</td>\n",
       "      <td>Very good product in this price range..</td>\n",
       "      <td>BoatProduct.csv</td>\n",
       "    </tr>\n",
       "    <tr>\n",
       "      <th>1</th>\n",
       "      <td>Stone 1000v2</td>\n",
       "      <td>3999.0</td>\n",
       "      <td>43% off</td>\n",
       "      <td>7 reviews</td>\n",
       "      <td>★\\n  5.0\\n</td>\n",
       "      <td>Outstanding</td>\n",
       "      <td>Outstanding Product</td>\n",
       "      <td>BoatProduct.csv</td>\n",
       "    </tr>\n",
       "    <tr>\n",
       "      <th>2</th>\n",
       "      <td>Stone 1000v2</td>\n",
       "      <td>3999.0</td>\n",
       "      <td>43% off</td>\n",
       "      <td>7 reviews</td>\n",
       "      <td>★\\n  5.0\\n</td>\n",
       "      <td>Awesome</td>\n",
       "      <td>Works like a charm. Good sound quality. Visual...</td>\n",
       "      <td>BoatProduct.csv</td>\n",
       "    </tr>\n",
       "    <tr>\n",
       "      <th>3</th>\n",
       "      <td>Stone 1000v2</td>\n",
       "      <td>3999.0</td>\n",
       "      <td>43% off</td>\n",
       "      <td>7 reviews</td>\n",
       "      <td>★\\n  5.0\\n</td>\n",
       "      <td>Boat stone 1000 v2</td>\n",
       "      <td>Great</td>\n",
       "      <td>BoatProduct.csv</td>\n",
       "    </tr>\n",
       "    <tr>\n",
       "      <th>4</th>\n",
       "      <td>Stone 1000v2</td>\n",
       "      <td>3999.0</td>\n",
       "      <td>43% off</td>\n",
       "      <td>7 reviews</td>\n",
       "      <td>★\\n  5.0\\n</td>\n",
       "      <td>Quality sound</td>\n",
       "      <td>Amazing sound quality.totally premium.&amp;.afford...</td>\n",
       "      <td>BoatProduct.csv</td>\n",
       "    </tr>\n",
       "    <tr>\n",
       "      <th>...</th>\n",
       "      <td>...</td>\n",
       "      <td>...</td>\n",
       "      <td>...</td>\n",
       "      <td>...</td>\n",
       "      <td>...</td>\n",
       "      <td>...</td>\n",
       "      <td>...</td>\n",
       "      <td>...</td>\n",
       "    </tr>\n",
       "    <tr>\n",
       "      <th>2852</th>\n",
       "      <td>Trebel Rockerz 255 Pro+</td>\n",
       "      <td>1599.0</td>\n",
       "      <td>60% off</td>\n",
       "      <td>7 reviews</td>\n",
       "      <td>★\\n  4.7\\n</td>\n",
       "      <td>NaN</td>\n",
       "      <td>Trebel Rockerz 255 Pro+</td>\n",
       "      <td>wireless headphones.csv</td>\n",
       "    </tr>\n",
       "    <tr>\n",
       "      <th>2853</th>\n",
       "      <td>Trebel Rockerz 255 Pro+</td>\n",
       "      <td>1599.0</td>\n",
       "      <td>60% off</td>\n",
       "      <td>7 reviews</td>\n",
       "      <td>★\\n  4.7\\n</td>\n",
       "      <td>Awesome product</td>\n",
       "      <td>I am using this since 10 months and fully sati...</td>\n",
       "      <td>wireless headphones.csv</td>\n",
       "    </tr>\n",
       "    <tr>\n",
       "      <th>2854</th>\n",
       "      <td>Trebel Rockerz 255 Pro+</td>\n",
       "      <td>1599.0</td>\n",
       "      <td>60% off</td>\n",
       "      <td>7 reviews</td>\n",
       "      <td>★\\n  4.7\\n</td>\n",
       "      <td>Awesome</td>\n",
       "      <td>Sound quality good best Material</td>\n",
       "      <td>wireless headphones.csv</td>\n",
       "    </tr>\n",
       "    <tr>\n",
       "      <th>2855</th>\n",
       "      <td>Trebel Rockerz 255 Pro+</td>\n",
       "      <td>1599.0</td>\n",
       "      <td>60% off</td>\n",
       "      <td>7 reviews</td>\n",
       "      <td>★\\n  4.7\\n</td>\n",
       "      <td>Best service</td>\n",
       "      <td>Best service  and best product very staisfied</td>\n",
       "      <td>wireless headphones.csv</td>\n",
       "    </tr>\n",
       "    <tr>\n",
       "      <th>2856</th>\n",
       "      <td>Trebel Rockerz 255 Pro+</td>\n",
       "      <td>1599.0</td>\n",
       "      <td>60% off</td>\n",
       "      <td>7 reviews</td>\n",
       "      <td>★\\n  4.7\\n</td>\n",
       "      <td>Worthy deal except the ipl tickets :|</td>\n",
       "      <td>Haven't heard my friends saying,\" tu earphones...</td>\n",
       "      <td>wireless headphones.csv</td>\n",
       "    </tr>\n",
       "  </tbody>\n",
       "</table>\n",
       "<p>2856 rows × 8 columns</p>\n",
       "</div>"
      ],
      "text/plain": [
       "                    ProductName  ProductPrice Discount NumberofReviews  \\\n",
       "0                 Stone 1000v2         3999.0  43% off       7 reviews   \n",
       "1                 Stone 1000v2         3999.0  43% off       7 reviews   \n",
       "2                 Stone 1000v2         3999.0  43% off       7 reviews   \n",
       "3                 Stone 1000v2         3999.0  43% off       7 reviews   \n",
       "4                 Stone 1000v2         3999.0  43% off       7 reviews   \n",
       "...                         ...           ...      ...             ...   \n",
       "2852   Trebel Rockerz 255 Pro+         1599.0  60% off       7 reviews   \n",
       "2853   Trebel Rockerz 255 Pro+         1599.0  60% off       7 reviews   \n",
       "2854   Trebel Rockerz 255 Pro+         1599.0  60% off       7 reviews   \n",
       "2855   Trebel Rockerz 255 Pro+         1599.0  60% off       7 reviews   \n",
       "2856   Trebel Rockerz 255 Pro+         1599.0  60% off       7 reviews   \n",
       "\n",
       "                Rate                                 Review  \\\n",
       "0     ★\\n  5.0\\n                          Fantastic product   \n",
       "1     ★\\n  5.0\\n                                Outstanding   \n",
       "2     ★\\n  5.0\\n                                    Awesome   \n",
       "3     ★\\n  5.0\\n                         Boat stone 1000 v2   \n",
       "4     ★\\n  5.0\\n                              Quality sound   \n",
       "...              ...                                    ...   \n",
       "2852  ★\\n  4.7\\n                                        NaN   \n",
       "2853  ★\\n  4.7\\n                            Awesome product   \n",
       "2854  ★\\n  4.7\\n                                    Awesome   \n",
       "2855  ★\\n  4.7\\n                               Best service   \n",
       "2856  ★\\n  4.7\\n      Worthy deal except the ipl tickets :|   \n",
       "\n",
       "                                                Summary  \\\n",
       "0               Very good product in this price range..   \n",
       "1                                   Outstanding Product   \n",
       "2     Works like a charm. Good sound quality. Visual...   \n",
       "3                                                 Great   \n",
       "4     Amazing sound quality.totally premium.&.afford...   \n",
       "...                                                 ...   \n",
       "2852                            Trebel Rockerz 255 Pro+   \n",
       "2853  I am using this since 10 months and fully sati...   \n",
       "2854                   Sound quality good best Material   \n",
       "2855      Best service  and best product very staisfied   \n",
       "2856  Haven't heard my friends saying,\" tu earphones...   \n",
       "\n",
       "                     Filename  \n",
       "0             BoatProduct.csv  \n",
       "1             BoatProduct.csv  \n",
       "2             BoatProduct.csv  \n",
       "3             BoatProduct.csv  \n",
       "4             BoatProduct.csv  \n",
       "...                       ...  \n",
       "2852  wireless headphones.csv  \n",
       "2853  wireless headphones.csv  \n",
       "2854  wireless headphones.csv  \n",
       "2855  wireless headphones.csv  \n",
       "2856  wireless headphones.csv  \n",
       "\n",
       "[2856 rows x 8 columns]"
      ]
     },
     "execution_count": 28,
     "metadata": {},
     "output_type": "execute_result"
    }
   ],
   "source": [
    "# Cleaning ProductPrice Column\n",
    "\n",
    "def clean_price(price_str):\n",
    "    # Need to remove non-numeric characters using regular expression\n",
    "    price_str_clean = re.sub(r'[^0-9\\.]', '', price_str)\n",
    "    # convert remaining string to float\n",
    "    try:\n",
    "        price_clean = float(price_str_clean)\n",
    "    except ValueError:\n",
    "        # handle any remaining errors\n",
    "        price_clean = None\n",
    "    return price_clean\n",
    "\n",
    "merged_df['ProductPrice'] = merged_df['ProductPrice'].apply(clean_price)\n",
    "merged_df"
   ]
  },
  {
   "cell_type": "markdown",
   "metadata": {
    "cell_id": "ae601272aaa341c4a4e71765c20c2817",
    "deepnote_app_block_visible": true,
    "deepnote_cell_type": "markdown",
    "id": "GeCkWsjvMnll"
   },
   "source": [
    "### Obervations :-\n",
    "The clean_price() function cleans a string representing a price by removing all non-numeric characters and converting it to a float. It returns None if the string can't be converted. The function is applied to the 'ProductPrice' column of a Pandas dataframe, producing a new column with cleaned price values."
   ]
  },
  {
   "cell_type": "code",
   "execution_count": null,
   "metadata": {
    "cell_id": "d30b82f3a5cb40c784ad86c050ec5899",
    "deepnote_app_block_visible": true,
    "deepnote_cell_type": "code",
    "deepnote_to_be_reexecuted": false,
    "execution_millis": 231,
    "execution_start": 1709975620889,
    "id": "CsLynu4CMnlm",
    "outputId": "43c85409-3eff-40d1-e1f5-c8e12a747ed6",
    "scrolled": true,
    "source_hash": "9880b924"
   },
   "outputs": [
    {
     "data": {
      "application/vnd.deepnote.dataframe.v3+json": {
       "column_count": 8,
       "columns": [
        {
         "dtype": "object",
         "name": "ProductName",
         "stats": {
          "categories": [
           {
            "count": 48,
            "name": "TRebel Airdopes 141 "
           },
           {
            "count": 38,
            "name": " Airdopes 131 "
           },
           {
            "count": 2770,
            "name": "181 others"
           }
          ],
          "nan_count": 0,
          "unique_count": 183
         }
        },
        {
         "dtype": "float64",
         "name": "ProductPrice",
         "stats": {
          "histogram": [
           {
            "bin_end": 1279,
            "bin_start": 199,
            "count": 1038
           },
           {
            "bin_end": 2359,
            "bin_start": 1279,
            "count": 1392
           },
           {
            "bin_end": 3439,
            "bin_start": 2359,
            "count": 232
           },
           {
            "bin_end": 4519,
            "bin_start": 3439,
            "count": 159
           },
           {
            "bin_end": 5599,
            "bin_start": 4519,
            "count": 4
           },
           {
            "bin_end": 6679,
            "bin_start": 5599,
            "count": 0
           },
           {
            "bin_end": 7759,
            "bin_start": 6679,
            "count": 6
           },
           {
            "bin_end": 8839,
            "bin_start": 7759,
            "count": 0
           },
           {
            "bin_end": 9919,
            "bin_start": 8839,
            "count": 7
           },
           {
            "bin_end": 10999,
            "bin_start": 9919,
            "count": 8
           }
          ],
          "max": "10999.0",
          "min": "199.0",
          "nan_count": 10,
          "unique_count": 47
         }
        },
        {
         "dtype": "object",
         "name": "Discount",
         "stats": {
          "categories": [
           {
            "count": 446,
            "name": "60%"
           },
           {
            "count": 320,
            "name": "57%"
           },
           {
            "count": 2090,
            "name": "42 others"
           }
          ],
          "nan_count": 0,
          "unique_count": 44
         }
        },
        {
         "dtype": "object",
         "name": "NumberofReviews",
         "stats": {
          "categories": [
           {
            "count": 150,
            "name": "7 reviews"
           },
           {
            "count": 132,
            "name": "20 reviews"
           },
           {
            "count": 2574,
            "name": "88 others"
           }
          ],
          "nan_count": 0,
          "unique_count": 90
         }
        },
        {
         "dtype": "object",
         "name": "Rate",
         "stats": {
          "categories": [
           {
            "count": 1084,
            "name": "★\n  4.8\n    "
           },
           {
            "count": 900,
            "name": "★\n  4.9\n    "
           },
           {
            "count": 872,
            "name": "6 others"
           }
          ],
          "nan_count": 0,
          "unique_count": 8
         }
        },
        {
         "dtype": "object",
         "name": "Review",
         "stats": {
          "categories": [
           {
            "count": 129,
            "name": "Good"
           },
           {
            "count": 1581,
            "name": "373 others"
           },
           {
            "count": 1146,
            "name": "Missing"
           }
          ],
          "nan_count": 1146,
          "unique_count": 374
         }
        },
        {
         "dtype": "object",
         "name": "Summary",
         "stats": {
          "categories": [
           {
            "count": 121,
            "name": "Good"
           },
           {
            "count": 45,
            "name": "Good product"
           },
           {
            "count": 2690,
            "name": "732 others"
           }
          ],
          "nan_count": 0,
          "unique_count": 734
         }
        },
        {
         "dtype": "object",
         "name": "Filename",
         "stats": {
          "categories": [
           {
            "count": 1448,
            "name": "BoatProduct.csv"
           },
           {
            "count": 287,
            "name": "wireless headphones.csv"
           },
           {
            "count": 1121,
            "name": "8 others"
           }
          ],
          "nan_count": 0,
          "unique_count": 10
         }
        },
        {
         "dtype": "int64",
         "name": "_deepnote_index_column"
        }
       ],
       "row_count": 2856,
       "rows": [
        {
         "Discount": "43%",
         "Filename": "BoatProduct.csv",
         "NumberofReviews": "7 reviews",
         "ProductName": " Stone 1000v2 ",
         "ProductPrice": 3999,
         "Rate": "★\n  5.0\n    ",
         "Review": "Fantastic product",
         "Summary": "Very good product in this price range..",
         "_deepnote_index_column": 0
        },
        {
         "Discount": "43%",
         "Filename": "BoatProduct.csv",
         "NumberofReviews": "7 reviews",
         "ProductName": " Stone 1000v2 ",
         "ProductPrice": 3999,
         "Rate": "★\n  5.0\n    ",
         "Review": "Outstanding",
         "Summary": "Outstanding Product",
         "_deepnote_index_column": 1
        },
        {
         "Discount": "43%",
         "Filename": "BoatProduct.csv",
         "NumberofReviews": "7 reviews",
         "ProductName": " Stone 1000v2 ",
         "ProductPrice": 3999,
         "Rate": "★\n  5.0\n    ",
         "Review": "Awesome",
         "Summary": "Works like a charm. Good sound quality. Visually more attractive than v1.",
         "_deepnote_index_column": 2
        },
        {
         "Discount": "43%",
         "Filename": "BoatProduct.csv",
         "NumberofReviews": "7 reviews",
         "ProductName": " Stone 1000v2 ",
         "ProductPrice": 3999,
         "Rate": "★\n  5.0\n    ",
         "Review": "Boat stone 1000 v2",
         "Summary": "Great",
         "_deepnote_index_column": 3
        },
        {
         "Discount": "43%",
         "Filename": "BoatProduct.csv",
         "NumberofReviews": "7 reviews",
         "ProductName": " Stone 1000v2 ",
         "ProductPrice": 3999,
         "Rate": "★\n  5.0\n    ",
         "Review": "Quality sound",
         "Summary": "Amazing sound quality.totally premium.&.affordable.",
         "_deepnote_index_column": 4
        },
        {
         "Discount": "43%",
         "Filename": "BoatProduct.csv",
         "NumberofReviews": "7 reviews",
         "ProductName": " Stone 1000v2 ",
         "ProductPrice": 3999,
         "Rate": "★\n  5.0\n    ",
         "Review": "nan",
         "Summary": "boAt Stone 1000v2",
         "_deepnote_index_column": 5
        },
        {
         "Discount": "62%",
         "Filename": "BoatProduct.csv",
         "NumberofReviews": "92 reviews",
         "ProductName": " Stone Grenade ",
         "ProductPrice": 1499,
         "Rate": "★\n  4.9\n    ",
         "Review": "nan",
         "Summary": "Nice product",
         "_deepnote_index_column": 6
        },
        {
         "Discount": "62%",
         "Filename": "BoatProduct.csv",
         "NumberofReviews": "92 reviews",
         "ProductName": " Stone Grenade ",
         "ProductPrice": 1499,
         "Rate": "★\n  4.9\n    ",
         "Review": "nan",
         "Summary": "boAt Stone Grenade | Bluetooth Speakers with 1.75” Full-range Drivers, High Fidelity Stereo Sound, Up to 7hrs Nonstop Playback",
         "_deepnote_index_column": 7
        },
        {
         "Discount": "62%",
         "Filename": "BoatProduct.csv",
         "NumberofReviews": "92 reviews",
         "ProductName": " Stone Grenade ",
         "ProductPrice": 1499,
         "Rate": "★\n  4.9\n    ",
         "Review": "Very nice quality and where is amazing flight best product on the boat granite",
         "Summary": "Very nice quality and where is amazing flight best",
         "_deepnote_index_column": 8
        },
        {
         "Discount": "62%",
         "Filename": "BoatProduct.csv",
         "NumberofReviews": "92 reviews",
         "ProductName": " Stone Grenade ",
         "ProductPrice": 1499,
         "Rate": "★\n  4.9\n    ",
         "Review": "Best quality",
         "Summary": "Sound like a good",
         "_deepnote_index_column": 9
        }
       ]
      },
      "text/html": [
       "<div>\n",
       "<style scoped>\n",
       "    .dataframe tbody tr th:only-of-type {\n",
       "        vertical-align: middle;\n",
       "    }\n",
       "\n",
       "    .dataframe tbody tr th {\n",
       "        vertical-align: top;\n",
       "    }\n",
       "\n",
       "    .dataframe thead th {\n",
       "        text-align: right;\n",
       "    }\n",
       "</style>\n",
       "<table border=\"1\" class=\"dataframe\">\n",
       "  <thead>\n",
       "    <tr style=\"text-align: right;\">\n",
       "      <th></th>\n",
       "      <th>ProductName</th>\n",
       "      <th>ProductPrice</th>\n",
       "      <th>Discount</th>\n",
       "      <th>NumberofReviews</th>\n",
       "      <th>Rate</th>\n",
       "      <th>Review</th>\n",
       "      <th>Summary</th>\n",
       "      <th>Filename</th>\n",
       "    </tr>\n",
       "  </thead>\n",
       "  <tbody>\n",
       "    <tr>\n",
       "      <th>0</th>\n",
       "      <td>Stone 1000v2</td>\n",
       "      <td>3999.0</td>\n",
       "      <td>43%</td>\n",
       "      <td>7 reviews</td>\n",
       "      <td>★\\n  5.0\\n</td>\n",
       "      <td>Fantastic product</td>\n",
       "      <td>Very good product in this price range..</td>\n",
       "      <td>BoatProduct.csv</td>\n",
       "    </tr>\n",
       "    <tr>\n",
       "      <th>1</th>\n",
       "      <td>Stone 1000v2</td>\n",
       "      <td>3999.0</td>\n",
       "      <td>43%</td>\n",
       "      <td>7 reviews</td>\n",
       "      <td>★\\n  5.0\\n</td>\n",
       "      <td>Outstanding</td>\n",
       "      <td>Outstanding Product</td>\n",
       "      <td>BoatProduct.csv</td>\n",
       "    </tr>\n",
       "    <tr>\n",
       "      <th>2</th>\n",
       "      <td>Stone 1000v2</td>\n",
       "      <td>3999.0</td>\n",
       "      <td>43%</td>\n",
       "      <td>7 reviews</td>\n",
       "      <td>★\\n  5.0\\n</td>\n",
       "      <td>Awesome</td>\n",
       "      <td>Works like a charm. Good sound quality. Visual...</td>\n",
       "      <td>BoatProduct.csv</td>\n",
       "    </tr>\n",
       "    <tr>\n",
       "      <th>3</th>\n",
       "      <td>Stone 1000v2</td>\n",
       "      <td>3999.0</td>\n",
       "      <td>43%</td>\n",
       "      <td>7 reviews</td>\n",
       "      <td>★\\n  5.0\\n</td>\n",
       "      <td>Boat stone 1000 v2</td>\n",
       "      <td>Great</td>\n",
       "      <td>BoatProduct.csv</td>\n",
       "    </tr>\n",
       "    <tr>\n",
       "      <th>4</th>\n",
       "      <td>Stone 1000v2</td>\n",
       "      <td>3999.0</td>\n",
       "      <td>43%</td>\n",
       "      <td>7 reviews</td>\n",
       "      <td>★\\n  5.0\\n</td>\n",
       "      <td>Quality sound</td>\n",
       "      <td>Amazing sound quality.totally premium.&amp;.afford...</td>\n",
       "      <td>BoatProduct.csv</td>\n",
       "    </tr>\n",
       "    <tr>\n",
       "      <th>...</th>\n",
       "      <td>...</td>\n",
       "      <td>...</td>\n",
       "      <td>...</td>\n",
       "      <td>...</td>\n",
       "      <td>...</td>\n",
       "      <td>...</td>\n",
       "      <td>...</td>\n",
       "      <td>...</td>\n",
       "    </tr>\n",
       "    <tr>\n",
       "      <th>2852</th>\n",
       "      <td>Trebel Rockerz 255 Pro+</td>\n",
       "      <td>1599.0</td>\n",
       "      <td>60%</td>\n",
       "      <td>7 reviews</td>\n",
       "      <td>★\\n  4.7\\n</td>\n",
       "      <td>NaN</td>\n",
       "      <td>Trebel Rockerz 255 Pro+</td>\n",
       "      <td>wireless headphones.csv</td>\n",
       "    </tr>\n",
       "    <tr>\n",
       "      <th>2853</th>\n",
       "      <td>Trebel Rockerz 255 Pro+</td>\n",
       "      <td>1599.0</td>\n",
       "      <td>60%</td>\n",
       "      <td>7 reviews</td>\n",
       "      <td>★\\n  4.7\\n</td>\n",
       "      <td>Awesome product</td>\n",
       "      <td>I am using this since 10 months and fully sati...</td>\n",
       "      <td>wireless headphones.csv</td>\n",
       "    </tr>\n",
       "    <tr>\n",
       "      <th>2854</th>\n",
       "      <td>Trebel Rockerz 255 Pro+</td>\n",
       "      <td>1599.0</td>\n",
       "      <td>60%</td>\n",
       "      <td>7 reviews</td>\n",
       "      <td>★\\n  4.7\\n</td>\n",
       "      <td>Awesome</td>\n",
       "      <td>Sound quality good best Material</td>\n",
       "      <td>wireless headphones.csv</td>\n",
       "    </tr>\n",
       "    <tr>\n",
       "      <th>2855</th>\n",
       "      <td>Trebel Rockerz 255 Pro+</td>\n",
       "      <td>1599.0</td>\n",
       "      <td>60%</td>\n",
       "      <td>7 reviews</td>\n",
       "      <td>★\\n  4.7\\n</td>\n",
       "      <td>Best service</td>\n",
       "      <td>Best service  and best product very staisfied</td>\n",
       "      <td>wireless headphones.csv</td>\n",
       "    </tr>\n",
       "    <tr>\n",
       "      <th>2856</th>\n",
       "      <td>Trebel Rockerz 255 Pro+</td>\n",
       "      <td>1599.0</td>\n",
       "      <td>60%</td>\n",
       "      <td>7 reviews</td>\n",
       "      <td>★\\n  4.7\\n</td>\n",
       "      <td>Worthy deal except the ipl tickets :|</td>\n",
       "      <td>Haven't heard my friends saying,\" tu earphones...</td>\n",
       "      <td>wireless headphones.csv</td>\n",
       "    </tr>\n",
       "  </tbody>\n",
       "</table>\n",
       "<p>2856 rows × 8 columns</p>\n",
       "</div>"
      ],
      "text/plain": [
       "                    ProductName  ProductPrice Discount NumberofReviews  \\\n",
       "0                 Stone 1000v2         3999.0      43%       7 reviews   \n",
       "1                 Stone 1000v2         3999.0      43%       7 reviews   \n",
       "2                 Stone 1000v2         3999.0      43%       7 reviews   \n",
       "3                 Stone 1000v2         3999.0      43%       7 reviews   \n",
       "4                 Stone 1000v2         3999.0      43%       7 reviews   \n",
       "...                         ...           ...      ...             ...   \n",
       "2852   Trebel Rockerz 255 Pro+         1599.0      60%       7 reviews   \n",
       "2853   Trebel Rockerz 255 Pro+         1599.0      60%       7 reviews   \n",
       "2854   Trebel Rockerz 255 Pro+         1599.0      60%       7 reviews   \n",
       "2855   Trebel Rockerz 255 Pro+         1599.0      60%       7 reviews   \n",
       "2856   Trebel Rockerz 255 Pro+         1599.0      60%       7 reviews   \n",
       "\n",
       "                Rate                                 Review  \\\n",
       "0     ★\\n  5.0\\n                          Fantastic product   \n",
       "1     ★\\n  5.0\\n                                Outstanding   \n",
       "2     ★\\n  5.0\\n                                    Awesome   \n",
       "3     ★\\n  5.0\\n                         Boat stone 1000 v2   \n",
       "4     ★\\n  5.0\\n                              Quality sound   \n",
       "...              ...                                    ...   \n",
       "2852  ★\\n  4.7\\n                                        NaN   \n",
       "2853  ★\\n  4.7\\n                            Awesome product   \n",
       "2854  ★\\n  4.7\\n                                    Awesome   \n",
       "2855  ★\\n  4.7\\n                               Best service   \n",
       "2856  ★\\n  4.7\\n      Worthy deal except the ipl tickets :|   \n",
       "\n",
       "                                                Summary  \\\n",
       "0               Very good product in this price range..   \n",
       "1                                   Outstanding Product   \n",
       "2     Works like a charm. Good sound quality. Visual...   \n",
       "3                                                 Great   \n",
       "4     Amazing sound quality.totally premium.&.afford...   \n",
       "...                                                 ...   \n",
       "2852                            Trebel Rockerz 255 Pro+   \n",
       "2853  I am using this since 10 months and fully sati...   \n",
       "2854                   Sound quality good best Material   \n",
       "2855      Best service  and best product very staisfied   \n",
       "2856  Haven't heard my friends saying,\" tu earphones...   \n",
       "\n",
       "                     Filename  \n",
       "0             BoatProduct.csv  \n",
       "1             BoatProduct.csv  \n",
       "2             BoatProduct.csv  \n",
       "3             BoatProduct.csv  \n",
       "4             BoatProduct.csv  \n",
       "...                       ...  \n",
       "2852  wireless headphones.csv  \n",
       "2853  wireless headphones.csv  \n",
       "2854  wireless headphones.csv  \n",
       "2855  wireless headphones.csv  \n",
       "2856  wireless headphones.csv  \n",
       "\n",
       "[2856 rows x 8 columns]"
      ]
     },
     "execution_count": 29,
     "metadata": {},
     "output_type": "execute_result"
    }
   ],
   "source": [
    "# Cleaning Discount Column\n",
    "merged_df['Discount'] = merged_df['Discount'].str.split(\" \", n=1, expand=True)[0]\n",
    "merged_df"
   ]
  },
  {
   "cell_type": "markdown",
   "metadata": {
    "cell_id": "cc9bea0f344c4e8c9e4e54ca924621e1",
    "deepnote_app_block_visible": true,
    "deepnote_cell_type": "markdown",
    "id": "hGzUJBViMnlm"
   },
   "source": [
    "### Obervations :-\n",
    "Here we are cleaning the 'Discount' column in a Pandas dataframe by splitting it at the first space character and keeping only the first column containing the percentage amount as a string. The cleaned 'Discount' column replaces the original 'Discount' column."
   ]
  },
  {
   "cell_type": "code",
   "execution_count": null,
   "metadata": {
    "cell_id": "8d11c1fd903d49dd9120e035e1eaf835",
    "deepnote_app_block_visible": true,
    "deepnote_cell_type": "code",
    "deepnote_to_be_reexecuted": false,
    "execution_millis": 243,
    "execution_start": 1709811124888,
    "id": "1U0qSHYjMnlm",
    "outputId": "203cecd0-8511-4911-96a2-b9acef7ab97d",
    "scrolled": true,
    "source_hash": null
   },
   "outputs": [
    {
     "data": {
      "application/vnd.deepnote.dataframe.v3+json": {
       "column_count": 8,
       "columns": [
        {
         "dtype": "object",
         "name": "ProductName",
         "stats": {
          "categories": [
           {
            "count": 48,
            "name": "TRebel Airdopes 141 "
           },
           {
            "count": 38,
            "name": " Airdopes 131 "
           },
           {
            "count": 2770,
            "name": "181 others"
           }
          ],
          "nan_count": 0,
          "unique_count": 183
         }
        },
        {
         "dtype": "float64",
         "name": "ProductPrice",
         "stats": {
          "histogram": [
           {
            "bin_end": 1279,
            "bin_start": 199,
            "count": 1038
           },
           {
            "bin_end": 2359,
            "bin_start": 1279,
            "count": 1392
           },
           {
            "bin_end": 3439,
            "bin_start": 2359,
            "count": 232
           },
           {
            "bin_end": 4519,
            "bin_start": 3439,
            "count": 159
           },
           {
            "bin_end": 5599,
            "bin_start": 4519,
            "count": 4
           },
           {
            "bin_end": 6679,
            "bin_start": 5599,
            "count": 0
           },
           {
            "bin_end": 7759,
            "bin_start": 6679,
            "count": 6
           },
           {
            "bin_end": 8839,
            "bin_start": 7759,
            "count": 0
           },
           {
            "bin_end": 9919,
            "bin_start": 8839,
            "count": 7
           },
           {
            "bin_end": 10999,
            "bin_start": 9919,
            "count": 8
           }
          ],
          "max": "10999.0",
          "min": "199.0",
          "nan_count": 10,
          "unique_count": 47
         }
        },
        {
         "dtype": "object",
         "name": "Discount",
         "stats": {
          "categories": [
           {
            "count": 446,
            "name": "60%"
           },
           {
            "count": 320,
            "name": "57%"
           },
           {
            "count": 2090,
            "name": "42 others"
           }
          ],
          "nan_count": 0,
          "unique_count": 44
         }
        },
        {
         "dtype": "float64",
         "name": "NumberofReviews",
         "stats": {
          "histogram": [
           {
            "bin_end": 130.7,
            "bin_start": 1,
            "count": 2246
           },
           {
            "bin_end": 260.4,
            "bin_start": 130.7,
            "count": 252
           },
           {
            "bin_end": 390.09999999999997,
            "bin_start": 260.4,
            "count": 144
           },
           {
            "bin_end": 519.8,
            "bin_start": 390.09999999999997,
            "count": 72
           },
           {
            "bin_end": 649.5,
            "bin_start": 519.8,
            "count": 72
           },
           {
            "bin_end": 779.1999999999999,
            "bin_start": 649.5,
            "count": 0
           },
           {
            "bin_end": 908.8999999999999,
            "bin_start": 779.1999999999999,
            "count": 0
           },
           {
            "bin_end": 1038.6,
            "bin_start": 908.8999999999999,
            "count": 12
           },
           {
            "bin_end": 1168.3,
            "bin_start": 1038.6,
            "count": 24
           },
           {
            "bin_end": 1298,
            "bin_start": 1168.3,
            "count": 24
           }
          ],
          "max": "1298.0",
          "min": "1.0",
          "nan_count": 10,
          "unique_count": 89
         }
        },
        {
         "dtype": "object",
         "name": "Rate",
         "stats": {
          "categories": [
           {
            "count": 1084,
            "name": "★\n  4.8\n    "
           },
           {
            "count": 900,
            "name": "★\n  4.9\n    "
           },
           {
            "count": 872,
            "name": "6 others"
           }
          ],
          "nan_count": 0,
          "unique_count": 8
         }
        },
        {
         "dtype": "object",
         "name": "Review",
         "stats": {
          "categories": [
           {
            "count": 129,
            "name": "Good"
           },
           {
            "count": 1581,
            "name": "373 others"
           },
           {
            "count": 1146,
            "name": "Missing"
           }
          ],
          "nan_count": 1146,
          "unique_count": 374
         }
        },
        {
         "dtype": "object",
         "name": "Summary",
         "stats": {
          "categories": [
           {
            "count": 121,
            "name": "Good"
           },
           {
            "count": 45,
            "name": "Good product"
           },
           {
            "count": 2690,
            "name": "732 others"
           }
          ],
          "nan_count": 0,
          "unique_count": 734
         }
        },
        {
         "dtype": "object",
         "name": "Filename",
         "stats": {
          "categories": [
           {
            "count": 1448,
            "name": "BoatProduct.csv"
           },
           {
            "count": 287,
            "name": "wireless headphones.csv"
           },
           {
            "count": 1121,
            "name": "8 others"
           }
          ],
          "nan_count": 0,
          "unique_count": 10
         }
        },
        {
         "dtype": "int64",
         "name": "_deepnote_index_column"
        }
       ],
       "row_count": 2856,
       "rows": [
        {
         "Discount": "43%",
         "Filename": "BoatProduct.csv",
         "NumberofReviews": 7,
         "ProductName": " Stone 1000v2 ",
         "ProductPrice": 3999,
         "Rate": "★\n  5.0\n    ",
         "Review": "Fantastic product",
         "Summary": "Very good product in this price range..",
         "_deepnote_index_column": 0
        },
        {
         "Discount": "43%",
         "Filename": "BoatProduct.csv",
         "NumberofReviews": 7,
         "ProductName": " Stone 1000v2 ",
         "ProductPrice": 3999,
         "Rate": "★\n  5.0\n    ",
         "Review": "Outstanding",
         "Summary": "Outstanding Product",
         "_deepnote_index_column": 1
        },
        {
         "Discount": "43%",
         "Filename": "BoatProduct.csv",
         "NumberofReviews": 7,
         "ProductName": " Stone 1000v2 ",
         "ProductPrice": 3999,
         "Rate": "★\n  5.0\n    ",
         "Review": "Awesome",
         "Summary": "Works like a charm. Good sound quality. Visually more attractive than v1.",
         "_deepnote_index_column": 2
        },
        {
         "Discount": "43%",
         "Filename": "BoatProduct.csv",
         "NumberofReviews": 7,
         "ProductName": " Stone 1000v2 ",
         "ProductPrice": 3999,
         "Rate": "★\n  5.0\n    ",
         "Review": "Boat stone 1000 v2",
         "Summary": "Great",
         "_deepnote_index_column": 3
        },
        {
         "Discount": "43%",
         "Filename": "BoatProduct.csv",
         "NumberofReviews": 7,
         "ProductName": " Stone 1000v2 ",
         "ProductPrice": 3999,
         "Rate": "★\n  5.0\n    ",
         "Review": "Quality sound",
         "Summary": "Amazing sound quality.totally premium.&.affordable.",
         "_deepnote_index_column": 4
        },
        {
         "Discount": "43%",
         "Filename": "BoatProduct.csv",
         "NumberofReviews": 7,
         "ProductName": " Stone 1000v2 ",
         "ProductPrice": 3999,
         "Rate": "★\n  5.0\n    ",
         "Review": "nan",
         "Summary": "boAt Stone 1000v2",
         "_deepnote_index_column": 5
        },
        {
         "Discount": "62%",
         "Filename": "BoatProduct.csv",
         "NumberofReviews": 92,
         "ProductName": " Stone Grenade ",
         "ProductPrice": 1499,
         "Rate": "★\n  4.9\n    ",
         "Review": "nan",
         "Summary": "Nice product",
         "_deepnote_index_column": 6
        },
        {
         "Discount": "62%",
         "Filename": "BoatProduct.csv",
         "NumberofReviews": 92,
         "ProductName": " Stone Grenade ",
         "ProductPrice": 1499,
         "Rate": "★\n  4.9\n    ",
         "Review": "nan",
         "Summary": "boAt Stone Grenade | Bluetooth Speakers with 1.75” Full-range Drivers, High Fidelity Stereo Sound, Up to 7hrs Nonstop Playback",
         "_deepnote_index_column": 7
        },
        {
         "Discount": "62%",
         "Filename": "BoatProduct.csv",
         "NumberofReviews": 92,
         "ProductName": " Stone Grenade ",
         "ProductPrice": 1499,
         "Rate": "★\n  4.9\n    ",
         "Review": "Very nice quality and where is amazing flight best product on the boat granite",
         "Summary": "Very nice quality and where is amazing flight best",
         "_deepnote_index_column": 8
        },
        {
         "Discount": "62%",
         "Filename": "BoatProduct.csv",
         "NumberofReviews": 92,
         "ProductName": " Stone Grenade ",
         "ProductPrice": 1499,
         "Rate": "★\n  4.9\n    ",
         "Review": "Best quality",
         "Summary": "Sound like a good",
         "_deepnote_index_column": 9
        }
       ]
      },
      "text/html": [
       "<div>\n",
       "<style scoped>\n",
       "    .dataframe tbody tr th:only-of-type {\n",
       "        vertical-align: middle;\n",
       "    }\n",
       "\n",
       "    .dataframe tbody tr th {\n",
       "        vertical-align: top;\n",
       "    }\n",
       "\n",
       "    .dataframe thead th {\n",
       "        text-align: right;\n",
       "    }\n",
       "</style>\n",
       "<table border=\"1\" class=\"dataframe\">\n",
       "  <thead>\n",
       "    <tr style=\"text-align: right;\">\n",
       "      <th></th>\n",
       "      <th>ProductName</th>\n",
       "      <th>ProductPrice</th>\n",
       "      <th>Discount</th>\n",
       "      <th>NumberofReviews</th>\n",
       "      <th>Rate</th>\n",
       "      <th>Review</th>\n",
       "      <th>Summary</th>\n",
       "      <th>Filename</th>\n",
       "    </tr>\n",
       "  </thead>\n",
       "  <tbody>\n",
       "    <tr>\n",
       "      <th>0</th>\n",
       "      <td>Stone 1000v2</td>\n",
       "      <td>3999.0</td>\n",
       "      <td>43%</td>\n",
       "      <td>7.0</td>\n",
       "      <td>★\\n  5.0\\n</td>\n",
       "      <td>Fantastic product</td>\n",
       "      <td>Very good product in this price range..</td>\n",
       "      <td>BoatProduct.csv</td>\n",
       "    </tr>\n",
       "    <tr>\n",
       "      <th>1</th>\n",
       "      <td>Stone 1000v2</td>\n",
       "      <td>3999.0</td>\n",
       "      <td>43%</td>\n",
       "      <td>7.0</td>\n",
       "      <td>★\\n  5.0\\n</td>\n",
       "      <td>Outstanding</td>\n",
       "      <td>Outstanding Product</td>\n",
       "      <td>BoatProduct.csv</td>\n",
       "    </tr>\n",
       "    <tr>\n",
       "      <th>2</th>\n",
       "      <td>Stone 1000v2</td>\n",
       "      <td>3999.0</td>\n",
       "      <td>43%</td>\n",
       "      <td>7.0</td>\n",
       "      <td>★\\n  5.0\\n</td>\n",
       "      <td>Awesome</td>\n",
       "      <td>Works like a charm. Good sound quality. Visual...</td>\n",
       "      <td>BoatProduct.csv</td>\n",
       "    </tr>\n",
       "    <tr>\n",
       "      <th>3</th>\n",
       "      <td>Stone 1000v2</td>\n",
       "      <td>3999.0</td>\n",
       "      <td>43%</td>\n",
       "      <td>7.0</td>\n",
       "      <td>★\\n  5.0\\n</td>\n",
       "      <td>Boat stone 1000 v2</td>\n",
       "      <td>Great</td>\n",
       "      <td>BoatProduct.csv</td>\n",
       "    </tr>\n",
       "    <tr>\n",
       "      <th>4</th>\n",
       "      <td>Stone 1000v2</td>\n",
       "      <td>3999.0</td>\n",
       "      <td>43%</td>\n",
       "      <td>7.0</td>\n",
       "      <td>★\\n  5.0\\n</td>\n",
       "      <td>Quality sound</td>\n",
       "      <td>Amazing sound quality.totally premium.&amp;.afford...</td>\n",
       "      <td>BoatProduct.csv</td>\n",
       "    </tr>\n",
       "    <tr>\n",
       "      <th>...</th>\n",
       "      <td>...</td>\n",
       "      <td>...</td>\n",
       "      <td>...</td>\n",
       "      <td>...</td>\n",
       "      <td>...</td>\n",
       "      <td>...</td>\n",
       "      <td>...</td>\n",
       "      <td>...</td>\n",
       "    </tr>\n",
       "    <tr>\n",
       "      <th>2852</th>\n",
       "      <td>Trebel Rockerz 255 Pro+</td>\n",
       "      <td>1599.0</td>\n",
       "      <td>60%</td>\n",
       "      <td>7.0</td>\n",
       "      <td>★\\n  4.7\\n</td>\n",
       "      <td>NaN</td>\n",
       "      <td>Trebel Rockerz 255 Pro+</td>\n",
       "      <td>wireless headphones.csv</td>\n",
       "    </tr>\n",
       "    <tr>\n",
       "      <th>2853</th>\n",
       "      <td>Trebel Rockerz 255 Pro+</td>\n",
       "      <td>1599.0</td>\n",
       "      <td>60%</td>\n",
       "      <td>7.0</td>\n",
       "      <td>★\\n  4.7\\n</td>\n",
       "      <td>Awesome product</td>\n",
       "      <td>I am using this since 10 months and fully sati...</td>\n",
       "      <td>wireless headphones.csv</td>\n",
       "    </tr>\n",
       "    <tr>\n",
       "      <th>2854</th>\n",
       "      <td>Trebel Rockerz 255 Pro+</td>\n",
       "      <td>1599.0</td>\n",
       "      <td>60%</td>\n",
       "      <td>7.0</td>\n",
       "      <td>★\\n  4.7\\n</td>\n",
       "      <td>Awesome</td>\n",
       "      <td>Sound quality good best Material</td>\n",
       "      <td>wireless headphones.csv</td>\n",
       "    </tr>\n",
       "    <tr>\n",
       "      <th>2855</th>\n",
       "      <td>Trebel Rockerz 255 Pro+</td>\n",
       "      <td>1599.0</td>\n",
       "      <td>60%</td>\n",
       "      <td>7.0</td>\n",
       "      <td>★\\n  4.7\\n</td>\n",
       "      <td>Best service</td>\n",
       "      <td>Best service  and best product very staisfied</td>\n",
       "      <td>wireless headphones.csv</td>\n",
       "    </tr>\n",
       "    <tr>\n",
       "      <th>2856</th>\n",
       "      <td>Trebel Rockerz 255 Pro+</td>\n",
       "      <td>1599.0</td>\n",
       "      <td>60%</td>\n",
       "      <td>7.0</td>\n",
       "      <td>★\\n  4.7\\n</td>\n",
       "      <td>Worthy deal except the ipl tickets :|</td>\n",
       "      <td>Haven't heard my friends saying,\" tu earphones...</td>\n",
       "      <td>wireless headphones.csv</td>\n",
       "    </tr>\n",
       "  </tbody>\n",
       "</table>\n",
       "<p>2856 rows × 8 columns</p>\n",
       "</div>"
      ],
      "text/plain": [
       "                    ProductName  ProductPrice Discount  NumberofReviews  \\\n",
       "0                 Stone 1000v2         3999.0      43%              7.0   \n",
       "1                 Stone 1000v2         3999.0      43%              7.0   \n",
       "2                 Stone 1000v2         3999.0      43%              7.0   \n",
       "3                 Stone 1000v2         3999.0      43%              7.0   \n",
       "4                 Stone 1000v2         3999.0      43%              7.0   \n",
       "...                         ...           ...      ...              ...   \n",
       "2852   Trebel Rockerz 255 Pro+         1599.0      60%              7.0   \n",
       "2853   Trebel Rockerz 255 Pro+         1599.0      60%              7.0   \n",
       "2854   Trebel Rockerz 255 Pro+         1599.0      60%              7.0   \n",
       "2855   Trebel Rockerz 255 Pro+         1599.0      60%              7.0   \n",
       "2856   Trebel Rockerz 255 Pro+         1599.0      60%              7.0   \n",
       "\n",
       "                Rate                                 Review  \\\n",
       "0     ★\\n  5.0\\n                          Fantastic product   \n",
       "1     ★\\n  5.0\\n                                Outstanding   \n",
       "2     ★\\n  5.0\\n                                    Awesome   \n",
       "3     ★\\n  5.0\\n                         Boat stone 1000 v2   \n",
       "4     ★\\n  5.0\\n                              Quality sound   \n",
       "...              ...                                    ...   \n",
       "2852  ★\\n  4.7\\n                                        NaN   \n",
       "2853  ★\\n  4.7\\n                            Awesome product   \n",
       "2854  ★\\n  4.7\\n                                    Awesome   \n",
       "2855  ★\\n  4.7\\n                               Best service   \n",
       "2856  ★\\n  4.7\\n      Worthy deal except the ipl tickets :|   \n",
       "\n",
       "                                                Summary  \\\n",
       "0               Very good product in this price range..   \n",
       "1                                   Outstanding Product   \n",
       "2     Works like a charm. Good sound quality. Visual...   \n",
       "3                                                 Great   \n",
       "4     Amazing sound quality.totally premium.&.afford...   \n",
       "...                                                 ...   \n",
       "2852                            Trebel Rockerz 255 Pro+   \n",
       "2853  I am using this since 10 months and fully sati...   \n",
       "2854                   Sound quality good best Material   \n",
       "2855      Best service  and best product very staisfied   \n",
       "2856  Haven't heard my friends saying,\" tu earphones...   \n",
       "\n",
       "                     Filename  \n",
       "0             BoatProduct.csv  \n",
       "1             BoatProduct.csv  \n",
       "2             BoatProduct.csv  \n",
       "3             BoatProduct.csv  \n",
       "4             BoatProduct.csv  \n",
       "...                       ...  \n",
       "2852  wireless headphones.csv  \n",
       "2853  wireless headphones.csv  \n",
       "2854  wireless headphones.csv  \n",
       "2855  wireless headphones.csv  \n",
       "2856  wireless headphones.csv  \n",
       "\n",
       "[2856 rows x 8 columns]"
      ]
     },
     "execution_count": 48,
     "metadata": {},
     "output_type": "execute_result"
    }
   ],
   "source": [
    "# Cleaning NumberofReviews column\n",
    "merged_df['NumberofReviews'] = merged_df['NumberofReviews'].str.split(\" \", n=1, expand=True)[0].astype('category')\n",
    "merged_df['NumberofReviews'] = pd.to_numeric(merged_df['NumberofReviews'], errors='coerce')\n",
    "merged_df"
   ]
  },
  {
   "cell_type": "markdown",
   "metadata": {
    "cell_id": "5aa84d9a31144ae09f82beff313f53f5",
    "deepnote_app_block_visible": true,
    "deepnote_cell_type": "markdown",
    "id": "CiVIsdW6Mnln"
   },
   "source": [
    "### Obervations :-\n",
    "Here we are cleaning the 'NumberofReviews' column in a Pandas dataframe by removing non-numeric characters, converting the result to numeric data type, and keeping only the first column as a category data type. Non-numeric values are set to NaN, and the cleaned 'NumberofReviews' column replaces the original column."
   ]
  },
  {
   "cell_type": "code",
   "execution_count": null,
   "metadata": {
    "cell_id": "b07af27306114a749a3167a79e45ddd5",
    "deepnote_app_block_visible": true,
    "deepnote_cell_type": "code",
    "deepnote_to_be_reexecuted": false,
    "execution_millis": 200,
    "execution_start": 1709975949252,
    "id": "idbyGx5WMnln",
    "outputId": "42d9e231-5dc4-41b6-beb3-f19720e1a365",
    "scrolled": true,
    "source_hash": "2a53ba2f"
   },
   "outputs": [
    {
     "data": {
      "application/vnd.deepnote.dataframe.v3+json": {
       "column_count": 8,
       "columns": [
        {
         "dtype": "object",
         "name": "ProductName",
         "stats": {
          "categories": [
           {
            "count": 48,
            "name": "TRebel Airdopes 141 "
           },
           {
            "count": 38,
            "name": " Airdopes 131 "
           },
           {
            "count": 2770,
            "name": "181 others"
           }
          ],
          "nan_count": 0,
          "unique_count": 183
         }
        },
        {
         "dtype": "float64",
         "name": "ProductPrice",
         "stats": {
          "histogram": [
           {
            "bin_end": 1279,
            "bin_start": 199,
            "count": 1038
           },
           {
            "bin_end": 2359,
            "bin_start": 1279,
            "count": 1392
           },
           {
            "bin_end": 3439,
            "bin_start": 2359,
            "count": 232
           },
           {
            "bin_end": 4519,
            "bin_start": 3439,
            "count": 159
           },
           {
            "bin_end": 5599,
            "bin_start": 4519,
            "count": 4
           },
           {
            "bin_end": 6679,
            "bin_start": 5599,
            "count": 0
           },
           {
            "bin_end": 7759,
            "bin_start": 6679,
            "count": 6
           },
           {
            "bin_end": 8839,
            "bin_start": 7759,
            "count": 0
           },
           {
            "bin_end": 9919,
            "bin_start": 8839,
            "count": 7
           },
           {
            "bin_end": 10999,
            "bin_start": 9919,
            "count": 8
           }
          ],
          "max": "10999.0",
          "min": "199.0",
          "nan_count": 10,
          "unique_count": 47
         }
        },
        {
         "dtype": "object",
         "name": "Discount",
         "stats": {
          "categories": [
           {
            "count": 446,
            "name": "60%"
           },
           {
            "count": 320,
            "name": "57%"
           },
           {
            "count": 2090,
            "name": "42 others"
           }
          ],
          "nan_count": 0,
          "unique_count": 44
         }
        },
        {
         "dtype": "object",
         "name": "NumberofReviews",
         "stats": {
          "categories": [
           {
            "count": 150,
            "name": "7 reviews"
           },
           {
            "count": 132,
            "name": "20 reviews"
           },
           {
            "count": 2574,
            "name": "88 others"
           }
          ],
          "nan_count": 0,
          "unique_count": 90
         }
        },
        {
         "dtype": "float64",
         "name": "Rate",
         "stats": {
          "histogram": [
           {
            "bin_end": 4.1,
            "bin_start": 4,
            "count": 14
           },
           {
            "bin_end": 4.2,
            "bin_start": 4.1,
            "count": 0
           },
           {
            "bin_end": 4.3,
            "bin_start": 4.2,
            "count": 0
           },
           {
            "bin_end": 4.4,
            "bin_start": 4.3,
            "count": 0
           },
           {
            "bin_end": 4.5,
            "bin_start": 4.4,
            "count": 0
           },
           {
            "bin_end": 4.6,
            "bin_start": 4.5,
            "count": 16
           },
           {
            "bin_end": 4.7,
            "bin_start": 4.6,
            "count": 44
           },
           {
            "bin_end": 4.8,
            "bin_start": 4.7,
            "count": 162
           },
           {
            "bin_end": 4.9,
            "bin_start": 4.8,
            "count": 1084
           },
           {
            "bin_end": 5,
            "bin_start": 4.9,
            "count": 1526
           }
          ],
          "max": "5.0",
          "min": "4.0",
          "nan_count": 10,
          "unique_count": 7
         }
        },
        {
         "dtype": "object",
         "name": "Review",
         "stats": {
          "categories": [
           {
            "count": 129,
            "name": "Good"
           },
           {
            "count": 1581,
            "name": "373 others"
           },
           {
            "count": 1146,
            "name": "Missing"
           }
          ],
          "nan_count": 1146,
          "unique_count": 374
         }
        },
        {
         "dtype": "object",
         "name": "Summary",
         "stats": {
          "categories": [
           {
            "count": 121,
            "name": "Good"
           },
           {
            "count": 45,
            "name": "Good product"
           },
           {
            "count": 2690,
            "name": "732 others"
           }
          ],
          "nan_count": 0,
          "unique_count": 734
         }
        },
        {
         "dtype": "object",
         "name": "Filename",
         "stats": {
          "categories": [
           {
            "count": 1448,
            "name": "BoatProduct.csv"
           },
           {
            "count": 287,
            "name": "wireless headphones.csv"
           },
           {
            "count": 1121,
            "name": "8 others"
           }
          ],
          "nan_count": 0,
          "unique_count": 10
         }
        },
        {
         "dtype": "int64",
         "name": "_deepnote_index_column"
        }
       ],
       "row_count": 2856,
       "rows": [
        {
         "Discount": "43%",
         "Filename": "BoatProduct.csv",
         "NumberofReviews": "7 reviews",
         "ProductName": " Stone 1000v2 ",
         "ProductPrice": 3999,
         "Rate": 5,
         "Review": "Fantastic product",
         "Summary": "Very good product in this price range..",
         "_deepnote_index_column": 0
        },
        {
         "Discount": "43%",
         "Filename": "BoatProduct.csv",
         "NumberofReviews": "7 reviews",
         "ProductName": " Stone 1000v2 ",
         "ProductPrice": 3999,
         "Rate": 5,
         "Review": "Outstanding",
         "Summary": "Outstanding Product",
         "_deepnote_index_column": 1
        },
        {
         "Discount": "43%",
         "Filename": "BoatProduct.csv",
         "NumberofReviews": "7 reviews",
         "ProductName": " Stone 1000v2 ",
         "ProductPrice": 3999,
         "Rate": 5,
         "Review": "Awesome",
         "Summary": "Works like a charm. Good sound quality. Visually more attractive than v1.",
         "_deepnote_index_column": 2
        },
        {
         "Discount": "43%",
         "Filename": "BoatProduct.csv",
         "NumberofReviews": "7 reviews",
         "ProductName": " Stone 1000v2 ",
         "ProductPrice": 3999,
         "Rate": 5,
         "Review": "Boat stone 1000 v2",
         "Summary": "Great",
         "_deepnote_index_column": 3
        },
        {
         "Discount": "43%",
         "Filename": "BoatProduct.csv",
         "NumberofReviews": "7 reviews",
         "ProductName": " Stone 1000v2 ",
         "ProductPrice": 3999,
         "Rate": 5,
         "Review": "Quality sound",
         "Summary": "Amazing sound quality.totally premium.&.affordable.",
         "_deepnote_index_column": 4
        },
        {
         "Discount": "43%",
         "Filename": "BoatProduct.csv",
         "NumberofReviews": "7 reviews",
         "ProductName": " Stone 1000v2 ",
         "ProductPrice": 3999,
         "Rate": 5,
         "Review": "nan",
         "Summary": "boAt Stone 1000v2",
         "_deepnote_index_column": 5
        },
        {
         "Discount": "62%",
         "Filename": "BoatProduct.csv",
         "NumberofReviews": "92 reviews",
         "ProductName": " Stone Grenade ",
         "ProductPrice": 1499,
         "Rate": 4.9,
         "Review": "nan",
         "Summary": "Nice product",
         "_deepnote_index_column": 6
        },
        {
         "Discount": "62%",
         "Filename": "BoatProduct.csv",
         "NumberofReviews": "92 reviews",
         "ProductName": " Stone Grenade ",
         "ProductPrice": 1499,
         "Rate": 4.9,
         "Review": "nan",
         "Summary": "boAt Stone Grenade | Bluetooth Speakers with 1.75” Full-range Drivers, High Fidelity Stereo Sound, Up to 7hrs Nonstop Playback",
         "_deepnote_index_column": 7
        },
        {
         "Discount": "62%",
         "Filename": "BoatProduct.csv",
         "NumberofReviews": "92 reviews",
         "ProductName": " Stone Grenade ",
         "ProductPrice": 1499,
         "Rate": 4.9,
         "Review": "Very nice quality and where is amazing flight best product on the boat granite",
         "Summary": "Very nice quality and where is amazing flight best",
         "_deepnote_index_column": 8
        },
        {
         "Discount": "62%",
         "Filename": "BoatProduct.csv",
         "NumberofReviews": "92 reviews",
         "ProductName": " Stone Grenade ",
         "ProductPrice": 1499,
         "Rate": 4.9,
         "Review": "Best quality",
         "Summary": "Sound like a good",
         "_deepnote_index_column": 9
        }
       ]
      },
      "text/html": [
       "<div>\n",
       "<style scoped>\n",
       "    .dataframe tbody tr th:only-of-type {\n",
       "        vertical-align: middle;\n",
       "    }\n",
       "\n",
       "    .dataframe tbody tr th {\n",
       "        vertical-align: top;\n",
       "    }\n",
       "\n",
       "    .dataframe thead th {\n",
       "        text-align: right;\n",
       "    }\n",
       "</style>\n",
       "<table border=\"1\" class=\"dataframe\">\n",
       "  <thead>\n",
       "    <tr style=\"text-align: right;\">\n",
       "      <th></th>\n",
       "      <th>ProductName</th>\n",
       "      <th>ProductPrice</th>\n",
       "      <th>Discount</th>\n",
       "      <th>NumberofReviews</th>\n",
       "      <th>Rate</th>\n",
       "      <th>Review</th>\n",
       "      <th>Summary</th>\n",
       "      <th>Filename</th>\n",
       "    </tr>\n",
       "  </thead>\n",
       "  <tbody>\n",
       "    <tr>\n",
       "      <th>0</th>\n",
       "      <td>Stone 1000v2</td>\n",
       "      <td>3999.0</td>\n",
       "      <td>43%</td>\n",
       "      <td>7 reviews</td>\n",
       "      <td>5.0</td>\n",
       "      <td>Fantastic product</td>\n",
       "      <td>Very good product in this price range..</td>\n",
       "      <td>BoatProduct.csv</td>\n",
       "    </tr>\n",
       "    <tr>\n",
       "      <th>1</th>\n",
       "      <td>Stone 1000v2</td>\n",
       "      <td>3999.0</td>\n",
       "      <td>43%</td>\n",
       "      <td>7 reviews</td>\n",
       "      <td>5.0</td>\n",
       "      <td>Outstanding</td>\n",
       "      <td>Outstanding Product</td>\n",
       "      <td>BoatProduct.csv</td>\n",
       "    </tr>\n",
       "    <tr>\n",
       "      <th>2</th>\n",
       "      <td>Stone 1000v2</td>\n",
       "      <td>3999.0</td>\n",
       "      <td>43%</td>\n",
       "      <td>7 reviews</td>\n",
       "      <td>5.0</td>\n",
       "      <td>Awesome</td>\n",
       "      <td>Works like a charm. Good sound quality. Visual...</td>\n",
       "      <td>BoatProduct.csv</td>\n",
       "    </tr>\n",
       "    <tr>\n",
       "      <th>3</th>\n",
       "      <td>Stone 1000v2</td>\n",
       "      <td>3999.0</td>\n",
       "      <td>43%</td>\n",
       "      <td>7 reviews</td>\n",
       "      <td>5.0</td>\n",
       "      <td>Boat stone 1000 v2</td>\n",
       "      <td>Great</td>\n",
       "      <td>BoatProduct.csv</td>\n",
       "    </tr>\n",
       "    <tr>\n",
       "      <th>4</th>\n",
       "      <td>Stone 1000v2</td>\n",
       "      <td>3999.0</td>\n",
       "      <td>43%</td>\n",
       "      <td>7 reviews</td>\n",
       "      <td>5.0</td>\n",
       "      <td>Quality sound</td>\n",
       "      <td>Amazing sound quality.totally premium.&amp;.afford...</td>\n",
       "      <td>BoatProduct.csv</td>\n",
       "    </tr>\n",
       "    <tr>\n",
       "      <th>...</th>\n",
       "      <td>...</td>\n",
       "      <td>...</td>\n",
       "      <td>...</td>\n",
       "      <td>...</td>\n",
       "      <td>...</td>\n",
       "      <td>...</td>\n",
       "      <td>...</td>\n",
       "      <td>...</td>\n",
       "    </tr>\n",
       "    <tr>\n",
       "      <th>2852</th>\n",
       "      <td>Trebel Rockerz 255 Pro+</td>\n",
       "      <td>1599.0</td>\n",
       "      <td>60%</td>\n",
       "      <td>7 reviews</td>\n",
       "      <td>4.7</td>\n",
       "      <td>NaN</td>\n",
       "      <td>Trebel Rockerz 255 Pro+</td>\n",
       "      <td>wireless headphones.csv</td>\n",
       "    </tr>\n",
       "    <tr>\n",
       "      <th>2853</th>\n",
       "      <td>Trebel Rockerz 255 Pro+</td>\n",
       "      <td>1599.0</td>\n",
       "      <td>60%</td>\n",
       "      <td>7 reviews</td>\n",
       "      <td>4.7</td>\n",
       "      <td>Awesome product</td>\n",
       "      <td>I am using this since 10 months and fully sati...</td>\n",
       "      <td>wireless headphones.csv</td>\n",
       "    </tr>\n",
       "    <tr>\n",
       "      <th>2854</th>\n",
       "      <td>Trebel Rockerz 255 Pro+</td>\n",
       "      <td>1599.0</td>\n",
       "      <td>60%</td>\n",
       "      <td>7 reviews</td>\n",
       "      <td>4.7</td>\n",
       "      <td>Awesome</td>\n",
       "      <td>Sound quality good best Material</td>\n",
       "      <td>wireless headphones.csv</td>\n",
       "    </tr>\n",
       "    <tr>\n",
       "      <th>2855</th>\n",
       "      <td>Trebel Rockerz 255 Pro+</td>\n",
       "      <td>1599.0</td>\n",
       "      <td>60%</td>\n",
       "      <td>7 reviews</td>\n",
       "      <td>4.7</td>\n",
       "      <td>Best service</td>\n",
       "      <td>Best service  and best product very staisfied</td>\n",
       "      <td>wireless headphones.csv</td>\n",
       "    </tr>\n",
       "    <tr>\n",
       "      <th>2856</th>\n",
       "      <td>Trebel Rockerz 255 Pro+</td>\n",
       "      <td>1599.0</td>\n",
       "      <td>60%</td>\n",
       "      <td>7 reviews</td>\n",
       "      <td>4.7</td>\n",
       "      <td>Worthy deal except the ipl tickets :|</td>\n",
       "      <td>Haven't heard my friends saying,\" tu earphones...</td>\n",
       "      <td>wireless headphones.csv</td>\n",
       "    </tr>\n",
       "  </tbody>\n",
       "</table>\n",
       "<p>2856 rows × 8 columns</p>\n",
       "</div>"
      ],
      "text/plain": [
       "                    ProductName  ProductPrice Discount NumberofReviews  Rate  \\\n",
       "0                 Stone 1000v2         3999.0      43%       7 reviews   5.0   \n",
       "1                 Stone 1000v2         3999.0      43%       7 reviews   5.0   \n",
       "2                 Stone 1000v2         3999.0      43%       7 reviews   5.0   \n",
       "3                 Stone 1000v2         3999.0      43%       7 reviews   5.0   \n",
       "4                 Stone 1000v2         3999.0      43%       7 reviews   5.0   \n",
       "...                         ...           ...      ...             ...   ...   \n",
       "2852   Trebel Rockerz 255 Pro+         1599.0      60%       7 reviews   4.7   \n",
       "2853   Trebel Rockerz 255 Pro+         1599.0      60%       7 reviews   4.7   \n",
       "2854   Trebel Rockerz 255 Pro+         1599.0      60%       7 reviews   4.7   \n",
       "2855   Trebel Rockerz 255 Pro+         1599.0      60%       7 reviews   4.7   \n",
       "2856   Trebel Rockerz 255 Pro+         1599.0      60%       7 reviews   4.7   \n",
       "\n",
       "                                     Review  \\\n",
       "0                         Fantastic product   \n",
       "1                               Outstanding   \n",
       "2                                   Awesome   \n",
       "3                        Boat stone 1000 v2   \n",
       "4                             Quality sound   \n",
       "...                                     ...   \n",
       "2852                                    NaN   \n",
       "2853                        Awesome product   \n",
       "2854                                Awesome   \n",
       "2855                           Best service   \n",
       "2856  Worthy deal except the ipl tickets :|   \n",
       "\n",
       "                                                Summary  \\\n",
       "0               Very good product in this price range..   \n",
       "1                                   Outstanding Product   \n",
       "2     Works like a charm. Good sound quality. Visual...   \n",
       "3                                                 Great   \n",
       "4     Amazing sound quality.totally premium.&.afford...   \n",
       "...                                                 ...   \n",
       "2852                            Trebel Rockerz 255 Pro+   \n",
       "2853  I am using this since 10 months and fully sati...   \n",
       "2854                   Sound quality good best Material   \n",
       "2855      Best service  and best product very staisfied   \n",
       "2856  Haven't heard my friends saying,\" tu earphones...   \n",
       "\n",
       "                     Filename  \n",
       "0             BoatProduct.csv  \n",
       "1             BoatProduct.csv  \n",
       "2             BoatProduct.csv  \n",
       "3             BoatProduct.csv  \n",
       "4             BoatProduct.csv  \n",
       "...                       ...  \n",
       "2852  wireless headphones.csv  \n",
       "2853  wireless headphones.csv  \n",
       "2854  wireless headphones.csv  \n",
       "2855  wireless headphones.csv  \n",
       "2856  wireless headphones.csv  \n",
       "\n",
       "[2856 rows x 8 columns]"
      ]
     },
     "execution_count": 30,
     "metadata": {},
     "output_type": "execute_result"
    }
   ],
   "source": [
    "# Cleaning of Rate Column\n",
    "\n",
    "def convert_rate(rate):\n",
    "    try:\n",
    "        rate_value = float(rate.strip().split()[-1])\n",
    "    except ValueError:\n",
    "        rate_value = None\n",
    "    return rate_value\n",
    "\n",
    "merged_df['Rate'] = merged_df['Rate'].apply(convert_rate)\n",
    "merged_df"
   ]
  },
  {
   "cell_type": "markdown",
   "metadata": {
    "cell_id": "32d8b36488b4454c85f8b6d19de8abea",
    "deepnote_app_block_visible": true,
    "deepnote_cell_type": "markdown",
    "id": "-7D34dXUMnln"
   },
   "source": [
    "### Obervations :-\n",
    "Here we are cleaning a 'Rate' column in a Pandas dataframe by removing leading and trailing whitespaces, extracting the last value as a float and replacing the column values with cleaned rate values or None where no value could be extracted."
   ]
  },
  {
   "cell_type": "code",
   "execution_count": null,
   "metadata": {
    "cell_id": "b3db9ba292ac4ae7a21e1798d4990ac3",
    "deepnote_app_block_visible": true,
    "deepnote_cell_type": "code",
    "deepnote_to_be_reexecuted": false,
    "execution_millis": 37,
    "execution_start": 1709977026016,
    "id": "3vnqrFmMMnlo",
    "source_hash": "66f69114"
   },
   "outputs": [],
   "source": [
    "# Defining function for preprocessing\n",
    "\n",
    "# List of English stop words\n",
    "english_stop_words=set(stopwords.words(\"english\"))\n",
    "\n",
    "def preprocess(text,remove_digits=True):\n",
    "    # For replacing non-word characters\n",
    "    text = re.sub('\\W+',' ', text)\n",
    "    # For replacng extra spaces\n",
    "    text = re.sub('\\s+',' ', text)\n",
    "    # Remove all the numbers except those attached to a word\n",
    "    text = re.sub(\"(?<!\\w)\\d+\", \"\", text)\n",
    "    # Remove all the hyphens except between two words\n",
    "    text = re.sub(\"-(?!\\w)|(?<!\\w)-\", \"\", text)\n",
    "    text=text.lower()\n",
    "    # For removing punctuation in the strings\n",
    "    nopunc=[char for char in text if char not in string.punctuation]\n",
    "    nopunc=''.join(nopunc)\n",
    "    # For removing stop words\n",
    "    return [word for word in nopunc.split() if word.lower() not in english_stop_words]"
   ]
  },
  {
   "cell_type": "markdown",
   "metadata": {
    "cell_id": "b796ae4548fc47fbad550c8abd18d163",
    "deepnote_app_block_visible": true,
    "deepnote_cell_type": "markdown",
    "id": "y6ArWNo_Mnlo"
   },
   "source": [
    "### Obervations :-\n",
    "Here we are defining a function named preprocess that takes a text parameter and sets a remove_digits parameter to True. The function applies several regular expressions to clean the text, replacing non-word characters and extra spaces, and removing numbers and hyphens that are not attached to a word. The text is then converted to lowercase and all punctuation is removed. The function returns a list of cleaned words that are not English stop words."
   ]
  },
  {
   "cell_type": "code",
   "execution_count": null,
   "metadata": {
    "cell_id": "a708928a71604d058d65692dce36ed6f",
    "deepnote_app_block_visible": true,
    "deepnote_cell_type": "code",
    "deepnote_to_be_reexecuted": false,
    "execution_millis": 45,
    "execution_start": 1709977030167,
    "id": "RXsGNMgbMnlo",
    "source_hash": "e767b646"
   },
   "outputs": [],
   "source": [
    "# define a helper function to convert the POS tags returned by NLTK to the format accepted by WordNetLemmatizer\n",
    "def get_wordnet_pos(treebank_tag):\n",
    "    if treebank_tag.startswith('J'):\n",
    "        return wordnet.ADJ\n",
    "    elif treebank_tag.startswith('V'):\n",
    "        return wordnet.VERB\n",
    "    elif treebank_tag.startswith('N'):\n",
    "        return wordnet.NOUN\n",
    "    elif treebank_tag.startswith('R'):\n",
    "        return wordnet.ADV\n",
    "    else:\n",
    "        return None"
   ]
  },
  {
   "cell_type": "markdown",
   "metadata": {
    "cell_id": "19a8b1de44d14e6b8a8979496958ac75",
    "deepnote_app_block_visible": true,
    "deepnote_cell_type": "markdown",
    "id": "mrOoICpAMnlp"
   },
   "source": [
    "### Obervations :-\n",
    "Here we are defining a function named get_wordnet_pos that takes a treebank tag as a parameter and maps it to the format accepted by WordNetLemmatizer. The function first checks the first character of the tag to determine its part of speech, returning the corresponding WordNet part of speech constant to be used in the lemmatization process. If it cannot determine a part of speech, the function returns None. This helper function is useful when using NLTK's pos_tag() function for part-of-speech tagging and later using WordNetLemmatizer for lemmatization."
   ]
  },
  {
   "cell_type": "code",
   "execution_count": null,
   "metadata": {
    "cell_id": "7cd4af4af76f429993349029c38a04c2",
    "deepnote_app_block_visible": true,
    "deepnote_cell_type": "code",
    "deepnote_to_be_reexecuted": false,
    "execution_millis": 22,
    "execution_start": 1709977033601,
    "id": "2HVAICUuMnlp",
    "source_hash": "e07c1ef5"
   },
   "outputs": [],
   "source": [
    "# Defining a function for lemitization\n",
    "def lemmatize_POStag(words):\n",
    "\n",
    "    lemmatizer = WordNetLemmatizer()\n",
    "    lemmas = []\n",
    "   # for word in words:\n",
    "    #    lemma = lemmatizer.lemmatize(word, pos='v')\n",
    "     #   lemmas.append(lemma)\n",
    "    for word, pos_tag in nltk.pos_tag(words):\n",
    "        pos = get_wordnet_pos(pos_tag) or wordnet.NOUN\n",
    "        lemmas.append(lemmatizer.lemmatize(word, pos=pos))\n",
    "    return lemmas\n",
    "\n",
    "def lemmatize(words):\n",
    "    lemmas = lemmatize_POStag(words)\n",
    "    return lemmas"
   ]
  },
  {
   "cell_type": "markdown",
   "metadata": {
    "cell_id": "64a62f58875e469aab6a9e75ecfd2842",
    "deepnote_app_block_visible": true,
    "deepnote_cell_type": "markdown",
    "id": "7equDYpVMnl7"
   },
   "source": [
    "### Obervations :-\n",
    "The lemmatize_POStag() function takes a list of words, tags each word with its part of speech using NLTK's pos_tag(), maps each part of speech to the format accepted by WordNetLemmatizer, and lemmatizes each word with its corresponding part of speech. It then returns a list of the resulting lemmas.\n",
    "The lemmatize() function takes a list of words, calls the lemmatize_POStag() function on it, and returns the resulting list of lemmas.\n",
    "These functions are useful for reducing words of text data to their base form for natural language processing tasks, such as sentiment analysis or topic modeling."
   ]
  },
  {
   "cell_type": "code",
   "execution_count": null,
   "metadata": {
    "cell_id": "135319b5187d443ea4dce7dd6fcb10d7",
    "deepnote_app_block_visible": true,
    "deepnote_cell_type": "code",
    "deepnote_to_be_reexecuted": false,
    "execution_millis": 33,
    "execution_start": 1709977037415,
    "id": "XjH_iXUxMnl7",
    "source_hash": "342a6125"
   },
   "outputs": [],
   "source": [
    "#converting them into string\n",
    "def listtostring(s):\n",
    "  str1=' '\n",
    "  return (str1.join(s))"
   ]
  },
  {
   "cell_type": "markdown",
   "metadata": {
    "cell_id": "b2f31f4b78244870b52fe99466e76008",
    "deepnote_app_block_visible": true,
    "deepnote_cell_type": "markdown",
    "id": "Iwak-YoaMnl7"
   },
   "source": [
    "### Obervations :-\n",
    "The listtostring() function takes a list parameter s and concatenates each element in the list into a single string, separated by a space character. The resulting string is returned. This function is useful for preparing input data for natural language processing algorithms that require a string input but have a list of words as an input."
   ]
  },
  {
   "cell_type": "code",
   "execution_count": null,
   "metadata": {
    "cell_id": "71ba3206cc8a4c9fb597145a3460bc98",
    "deepnote_app_block_visible": true,
    "deepnote_cell_type": "code",
    "deepnote_to_be_reexecuted": false,
    "execution_millis": 922,
    "execution_start": 1709977043347,
    "id": "QWyATobiMnl8",
    "source_hash": "2d05f297"
   },
   "outputs": [],
   "source": [
    "def clean_text(input):\n",
    "  word=preprocess(input)\n",
    "  lemmas=lemmatize(word)\n",
    "  return listtostring(lemmas)\n",
    "\n",
    "# Applied function to clean the txt column\n",
    "merged_df['Summary'] = merged_df['Summary'].apply(clean_text)"
   ]
  },
  {
   "cell_type": "markdown",
   "metadata": {
    "cell_id": "dfc1d8a2028f4e799e2cb45774df54e6",
    "deepnote_app_block_visible": true,
    "deepnote_cell_type": "markdown",
    "id": "_6OLk81kMnl8"
   },
   "source": [
    "### Obervations :-\n",
    "The clean_text() function takes an input string parameter that represents text data. It applies the preprocess() function to the input string to clean the text and the lemmatize() function to lemmatize each word to its base form. It then applies the listtostring() function to concatenate the resulting list of lemmas into a single string separated by a space character.\n",
    "The apply() function is then called on the 'Summary' column of a dataframe, passing the clean_text function as an argument. This replaces the original 'Summary' column with a new column of cleaned, lemmatized, and concatenated string values. This function is useful for preparing text data for natural language processing tasks, such as sentiment analysis or topic modeling, where cleaned, reduced, and formatted text data is crucial for accurate analysis or modeling."
   ]
  },
  {
   "cell_type": "code",
   "execution_count": null,
   "metadata": {
    "cell_id": "090906c5979c4012b68a4f414dd8a261",
    "deepnote_app_block_visible": true,
    "deepnote_cell_type": "code",
    "deepnote_to_be_reexecuted": false,
    "execution_millis": 205,
    "execution_start": 1709977121802,
    "id": "eT9XjN_zMnl8",
    "outputId": "eb3685ef-50e6-4157-e705-ab39ff992871",
    "source_hash": "be0aaf1"
   },
   "outputs": [
    {
     "data": {
      "application/vnd.deepnote.dataframe.v3+json": {
       "column_count": 8,
       "columns": [
        {
         "dtype": "object",
         "name": "ProductName",
         "stats": {
          "categories": [
           {
            "count": 48,
            "name": "TRebel Airdopes 141 "
           },
           {
            "count": 38,
            "name": " Airdopes 131 "
           },
           {
            "count": 2770,
            "name": "181 others"
           }
          ],
          "nan_count": 0,
          "unique_count": 183
         }
        },
        {
         "dtype": "float64",
         "name": "ProductPrice",
         "stats": {
          "histogram": [
           {
            "bin_end": 1279,
            "bin_start": 199,
            "count": 1038
           },
           {
            "bin_end": 2359,
            "bin_start": 1279,
            "count": 1392
           },
           {
            "bin_end": 3439,
            "bin_start": 2359,
            "count": 232
           },
           {
            "bin_end": 4519,
            "bin_start": 3439,
            "count": 159
           },
           {
            "bin_end": 5599,
            "bin_start": 4519,
            "count": 4
           },
           {
            "bin_end": 6679,
            "bin_start": 5599,
            "count": 0
           },
           {
            "bin_end": 7759,
            "bin_start": 6679,
            "count": 6
           },
           {
            "bin_end": 8839,
            "bin_start": 7759,
            "count": 0
           },
           {
            "bin_end": 9919,
            "bin_start": 8839,
            "count": 7
           },
           {
            "bin_end": 10999,
            "bin_start": 9919,
            "count": 8
           }
          ],
          "max": "10999.0",
          "min": "199.0",
          "nan_count": 10,
          "unique_count": 47
         }
        },
        {
         "dtype": "object",
         "name": "Discount",
         "stats": {
          "categories": [
           {
            "count": 446,
            "name": "60%"
           },
           {
            "count": 320,
            "name": "57%"
           },
           {
            "count": 2090,
            "name": "42 others"
           }
          ],
          "nan_count": 0,
          "unique_count": 44
         }
        },
        {
         "dtype": "object",
         "name": "NumberofReviews",
         "stats": {
          "categories": [
           {
            "count": 150,
            "name": "7 reviews"
           },
           {
            "count": 132,
            "name": "20 reviews"
           },
           {
            "count": 2574,
            "name": "88 others"
           }
          ],
          "nan_count": 0,
          "unique_count": 90
         }
        },
        {
         "dtype": "float64",
         "name": "Rate",
         "stats": {
          "histogram": [
           {
            "bin_end": 4.1,
            "bin_start": 4,
            "count": 14
           },
           {
            "bin_end": 4.2,
            "bin_start": 4.1,
            "count": 0
           },
           {
            "bin_end": 4.3,
            "bin_start": 4.2,
            "count": 0
           },
           {
            "bin_end": 4.4,
            "bin_start": 4.3,
            "count": 0
           },
           {
            "bin_end": 4.5,
            "bin_start": 4.4,
            "count": 0
           },
           {
            "bin_end": 4.6,
            "bin_start": 4.5,
            "count": 16
           },
           {
            "bin_end": 4.7,
            "bin_start": 4.6,
            "count": 44
           },
           {
            "bin_end": 4.8,
            "bin_start": 4.7,
            "count": 162
           },
           {
            "bin_end": 4.9,
            "bin_start": 4.8,
            "count": 1084
           },
           {
            "bin_end": 5,
            "bin_start": 4.9,
            "count": 1526
           }
          ],
          "max": "5.0",
          "min": "4.0",
          "nan_count": 10,
          "unique_count": 7
         }
        },
        {
         "dtype": "object",
         "name": "Review",
         "stats": {
          "categories": [
           {
            "count": 129,
            "name": "Good"
           },
           {
            "count": 1581,
            "name": "373 others"
           },
           {
            "count": 1146,
            "name": "Missing"
           }
          ],
          "nan_count": 1146,
          "unique_count": 374
         }
        },
        {
         "dtype": "object",
         "name": "Summary",
         "stats": {
          "categories": [
           {
            "count": 175,
            "name": "good"
           },
           {
            "count": 101,
            "name": "good product"
           },
           {
            "count": 2580,
            "name": "652 others"
           }
          ],
          "nan_count": 0,
          "unique_count": 654
         }
        },
        {
         "dtype": "object",
         "name": "Filename",
         "stats": {
          "categories": [
           {
            "count": 1448,
            "name": "BoatProduct.csv"
           },
           {
            "count": 287,
            "name": "wireless headphones.csv"
           },
           {
            "count": 1121,
            "name": "8 others"
           }
          ],
          "nan_count": 0,
          "unique_count": 10
         }
        },
        {
         "dtype": "int64",
         "name": "_deepnote_index_column"
        }
       ],
       "row_count": 2856,
       "rows": [
        {
         "Discount": "43%",
         "Filename": "BoatProduct.csv",
         "NumberofReviews": "7 reviews",
         "ProductName": " Stone 1000v2 ",
         "ProductPrice": 3999,
         "Rate": 5,
         "Review": "Fantastic product",
         "Summary": "good product price range",
         "_deepnote_index_column": 0
        },
        {
         "Discount": "43%",
         "Filename": "BoatProduct.csv",
         "NumberofReviews": "7 reviews",
         "ProductName": " Stone 1000v2 ",
         "ProductPrice": 3999,
         "Rate": 5,
         "Review": "Outstanding",
         "Summary": "outstanding product",
         "_deepnote_index_column": 1
        },
        {
         "Discount": "43%",
         "Filename": "BoatProduct.csv",
         "NumberofReviews": "7 reviews",
         "ProductName": " Stone 1000v2 ",
         "ProductPrice": 3999,
         "Rate": 5,
         "Review": "Awesome",
         "Summary": "work like charm good sound quality visually attractive v1",
         "_deepnote_index_column": 2
        },
        {
         "Discount": "43%",
         "Filename": "BoatProduct.csv",
         "NumberofReviews": "7 reviews",
         "ProductName": " Stone 1000v2 ",
         "ProductPrice": 3999,
         "Rate": 5,
         "Review": "Boat stone 1000 v2",
         "Summary": "great",
         "_deepnote_index_column": 3
        },
        {
         "Discount": "43%",
         "Filename": "BoatProduct.csv",
         "NumberofReviews": "7 reviews",
         "ProductName": " Stone 1000v2 ",
         "ProductPrice": 3999,
         "Rate": 5,
         "Review": "Quality sound",
         "Summary": "amaze sound quality totally premium affordable",
         "_deepnote_index_column": 4
        },
        {
         "Discount": "43%",
         "Filename": "BoatProduct.csv",
         "NumberofReviews": "7 reviews",
         "ProductName": " Stone 1000v2 ",
         "ProductPrice": 3999,
         "Rate": 5,
         "Review": "nan",
         "Summary": "boat stone v2",
         "_deepnote_index_column": 5
        },
        {
         "Discount": "62%",
         "Filename": "BoatProduct.csv",
         "NumberofReviews": "92 reviews",
         "ProductName": " Stone Grenade ",
         "ProductPrice": 1499,
         "Rate": 4.9,
         "Review": "nan",
         "Summary": "nice product",
         "_deepnote_index_column": 6
        },
        {
         "Discount": "62%",
         "Filename": "BoatProduct.csv",
         "NumberofReviews": "92 reviews",
         "ProductName": " Stone Grenade ",
         "ProductPrice": 1499,
         "Rate": 4.9,
         "Review": "nan",
         "Summary": "boat stone grenade bluetooth speaker full range driver high fidelity stereo sound hrs nonstop playback",
         "_deepnote_index_column": 7
        },
        {
         "Discount": "62%",
         "Filename": "BoatProduct.csv",
         "NumberofReviews": "92 reviews",
         "ProductName": " Stone Grenade ",
         "ProductPrice": 1499,
         "Rate": 4.9,
         "Review": "Very nice quality and where is amazing flight best product on the boat granite",
         "Summary": "nice quality amaze flight best",
         "_deepnote_index_column": 8
        },
        {
         "Discount": "62%",
         "Filename": "BoatProduct.csv",
         "NumberofReviews": "92 reviews",
         "ProductName": " Stone Grenade ",
         "ProductPrice": 1499,
         "Rate": 4.9,
         "Review": "Best quality",
         "Summary": "sound like good",
         "_deepnote_index_column": 9
        }
       ]
      },
      "text/html": [
       "<div>\n",
       "<style scoped>\n",
       "    .dataframe tbody tr th:only-of-type {\n",
       "        vertical-align: middle;\n",
       "    }\n",
       "\n",
       "    .dataframe tbody tr th {\n",
       "        vertical-align: top;\n",
       "    }\n",
       "\n",
       "    .dataframe thead th {\n",
       "        text-align: right;\n",
       "    }\n",
       "</style>\n",
       "<table border=\"1\" class=\"dataframe\">\n",
       "  <thead>\n",
       "    <tr style=\"text-align: right;\">\n",
       "      <th></th>\n",
       "      <th>ProductName</th>\n",
       "      <th>ProductPrice</th>\n",
       "      <th>Discount</th>\n",
       "      <th>NumberofReviews</th>\n",
       "      <th>Rate</th>\n",
       "      <th>Review</th>\n",
       "      <th>Summary</th>\n",
       "      <th>Filename</th>\n",
       "    </tr>\n",
       "  </thead>\n",
       "  <tbody>\n",
       "    <tr>\n",
       "      <th>0</th>\n",
       "      <td>Stone 1000v2</td>\n",
       "      <td>3999.0</td>\n",
       "      <td>43%</td>\n",
       "      <td>7 reviews</td>\n",
       "      <td>5.0</td>\n",
       "      <td>Fantastic product</td>\n",
       "      <td>good product price range</td>\n",
       "      <td>BoatProduct.csv</td>\n",
       "    </tr>\n",
       "    <tr>\n",
       "      <th>1</th>\n",
       "      <td>Stone 1000v2</td>\n",
       "      <td>3999.0</td>\n",
       "      <td>43%</td>\n",
       "      <td>7 reviews</td>\n",
       "      <td>5.0</td>\n",
       "      <td>Outstanding</td>\n",
       "      <td>outstanding product</td>\n",
       "      <td>BoatProduct.csv</td>\n",
       "    </tr>\n",
       "    <tr>\n",
       "      <th>2</th>\n",
       "      <td>Stone 1000v2</td>\n",
       "      <td>3999.0</td>\n",
       "      <td>43%</td>\n",
       "      <td>7 reviews</td>\n",
       "      <td>5.0</td>\n",
       "      <td>Awesome</td>\n",
       "      <td>work like charm good sound quality visually at...</td>\n",
       "      <td>BoatProduct.csv</td>\n",
       "    </tr>\n",
       "    <tr>\n",
       "      <th>3</th>\n",
       "      <td>Stone 1000v2</td>\n",
       "      <td>3999.0</td>\n",
       "      <td>43%</td>\n",
       "      <td>7 reviews</td>\n",
       "      <td>5.0</td>\n",
       "      <td>Boat stone 1000 v2</td>\n",
       "      <td>great</td>\n",
       "      <td>BoatProduct.csv</td>\n",
       "    </tr>\n",
       "    <tr>\n",
       "      <th>4</th>\n",
       "      <td>Stone 1000v2</td>\n",
       "      <td>3999.0</td>\n",
       "      <td>43%</td>\n",
       "      <td>7 reviews</td>\n",
       "      <td>5.0</td>\n",
       "      <td>Quality sound</td>\n",
       "      <td>amaze sound quality totally premium affordable</td>\n",
       "      <td>BoatProduct.csv</td>\n",
       "    </tr>\n",
       "    <tr>\n",
       "      <th>...</th>\n",
       "      <td>...</td>\n",
       "      <td>...</td>\n",
       "      <td>...</td>\n",
       "      <td>...</td>\n",
       "      <td>...</td>\n",
       "      <td>...</td>\n",
       "      <td>...</td>\n",
       "      <td>...</td>\n",
       "    </tr>\n",
       "    <tr>\n",
       "      <th>2852</th>\n",
       "      <td>Trebel Rockerz 255 Pro+</td>\n",
       "      <td>1599.0</td>\n",
       "      <td>60%</td>\n",
       "      <td>7 reviews</td>\n",
       "      <td>4.7</td>\n",
       "      <td>NaN</td>\n",
       "      <td>trebel rockerz pro</td>\n",
       "      <td>wireless headphones.csv</td>\n",
       "    </tr>\n",
       "    <tr>\n",
       "      <th>2853</th>\n",
       "      <td>Trebel Rockerz 255 Pro+</td>\n",
       "      <td>1599.0</td>\n",
       "      <td>60%</td>\n",
       "      <td>7 reviews</td>\n",
       "      <td>4.7</td>\n",
       "      <td>Awesome product</td>\n",
       "      <td>use since month fully satisfy rockerz pro awes...</td>\n",
       "      <td>wireless headphones.csv</td>\n",
       "    </tr>\n",
       "    <tr>\n",
       "      <th>2854</th>\n",
       "      <td>Trebel Rockerz 255 Pro+</td>\n",
       "      <td>1599.0</td>\n",
       "      <td>60%</td>\n",
       "      <td>7 reviews</td>\n",
       "      <td>4.7</td>\n",
       "      <td>Awesome</td>\n",
       "      <td>sound quality good best material</td>\n",
       "      <td>wireless headphones.csv</td>\n",
       "    </tr>\n",
       "    <tr>\n",
       "      <th>2855</th>\n",
       "      <td>Trebel Rockerz 255 Pro+</td>\n",
       "      <td>1599.0</td>\n",
       "      <td>60%</td>\n",
       "      <td>7 reviews</td>\n",
       "      <td>4.7</td>\n",
       "      <td>Best service</td>\n",
       "      <td>best service best product staisfied</td>\n",
       "      <td>wireless headphones.csv</td>\n",
       "    </tr>\n",
       "    <tr>\n",
       "      <th>2856</th>\n",
       "      <td>Trebel Rockerz 255 Pro+</td>\n",
       "      <td>1599.0</td>\n",
       "      <td>60%</td>\n",
       "      <td>7 reviews</td>\n",
       "      <td>4.7</td>\n",
       "      <td>Worthy deal except the ipl tickets :|</td>\n",
       "      <td>heard friends say tu earphone hata ke baat kar...</td>\n",
       "      <td>wireless headphones.csv</td>\n",
       "    </tr>\n",
       "  </tbody>\n",
       "</table>\n",
       "<p>2856 rows × 8 columns</p>\n",
       "</div>"
      ],
      "text/plain": [
       "                    ProductName  ProductPrice Discount NumberofReviews  Rate  \\\n",
       "0                 Stone 1000v2         3999.0      43%       7 reviews   5.0   \n",
       "1                 Stone 1000v2         3999.0      43%       7 reviews   5.0   \n",
       "2                 Stone 1000v2         3999.0      43%       7 reviews   5.0   \n",
       "3                 Stone 1000v2         3999.0      43%       7 reviews   5.0   \n",
       "4                 Stone 1000v2         3999.0      43%       7 reviews   5.0   \n",
       "...                         ...           ...      ...             ...   ...   \n",
       "2852   Trebel Rockerz 255 Pro+         1599.0      60%       7 reviews   4.7   \n",
       "2853   Trebel Rockerz 255 Pro+         1599.0      60%       7 reviews   4.7   \n",
       "2854   Trebel Rockerz 255 Pro+         1599.0      60%       7 reviews   4.7   \n",
       "2855   Trebel Rockerz 255 Pro+         1599.0      60%       7 reviews   4.7   \n",
       "2856   Trebel Rockerz 255 Pro+         1599.0      60%       7 reviews   4.7   \n",
       "\n",
       "                                     Review  \\\n",
       "0                         Fantastic product   \n",
       "1                               Outstanding   \n",
       "2                                   Awesome   \n",
       "3                        Boat stone 1000 v2   \n",
       "4                             Quality sound   \n",
       "...                                     ...   \n",
       "2852                                    NaN   \n",
       "2853                        Awesome product   \n",
       "2854                                Awesome   \n",
       "2855                           Best service   \n",
       "2856  Worthy deal except the ipl tickets :|   \n",
       "\n",
       "                                                Summary  \\\n",
       "0                              good product price range   \n",
       "1                                   outstanding product   \n",
       "2     work like charm good sound quality visually at...   \n",
       "3                                                 great   \n",
       "4        amaze sound quality totally premium affordable   \n",
       "...                                                 ...   \n",
       "2852                                 trebel rockerz pro   \n",
       "2853  use since month fully satisfy rockerz pro awes...   \n",
       "2854                   sound quality good best material   \n",
       "2855                best service best product staisfied   \n",
       "2856  heard friends say tu earphone hata ke baat kar...   \n",
       "\n",
       "                     Filename  \n",
       "0             BoatProduct.csv  \n",
       "1             BoatProduct.csv  \n",
       "2             BoatProduct.csv  \n",
       "3             BoatProduct.csv  \n",
       "4             BoatProduct.csv  \n",
       "...                       ...  \n",
       "2852  wireless headphones.csv  \n",
       "2853  wireless headphones.csv  \n",
       "2854  wireless headphones.csv  \n",
       "2855  wireless headphones.csv  \n",
       "2856  wireless headphones.csv  \n",
       "\n",
       "[2856 rows x 8 columns]"
      ]
     },
     "execution_count": 41,
     "metadata": {},
     "output_type": "execute_result"
    }
   ],
   "source": [
    "merged_df"
   ]
  },
  {
   "cell_type": "code",
   "execution_count": null,
   "metadata": {
    "cell_id": "c4363a47f6474050b28ae96860c6db12",
    "deepnote_app_block_visible": true,
    "deepnote_cell_type": "code",
    "deepnote_to_be_reexecuted": false,
    "execution_millis": 68,
    "execution_start": 1709977128904,
    "id": "kU3j15duMnl9",
    "outputId": "2a2e1986-6099-40af-9df8-bda65e3d5262",
    "source_hash": "20e9269c"
   },
   "outputs": [
    {
     "name": "stdout",
     "output_type": "stream",
     "text": [
      "<class 'pandas.core.frame.DataFrame'>\n",
      "Index: 2856 entries, 0 to 2856\n",
      "Data columns (total 8 columns):\n",
      " #   Column           Non-Null Count  Dtype  \n",
      "---  ------           --------------  -----  \n",
      " 0   ProductName      2856 non-null   object \n",
      " 1   ProductPrice     2846 non-null   float64\n",
      " 2   Discount         2856 non-null   object \n",
      " 3   NumberofReviews  2856 non-null   object \n",
      " 4   Rate             2846 non-null   float64\n",
      " 5   Review           1710 non-null   object \n",
      " 6   Summary          2856 non-null   object \n",
      " 7   Filename         2856 non-null   object \n",
      "dtypes: float64(2), object(6)\n",
      "memory usage: 200.8+ KB\n"
     ]
    }
   ],
   "source": [
    "merged_df.info()"
   ]
  },
  {
   "cell_type": "code",
   "execution_count": null,
   "metadata": {
    "cell_id": "227bbeed354b498883797ba14d0959aa",
    "deepnote_app_block_visible": true,
    "deepnote_cell_type": "code",
    "deepnote_to_be_reexecuted": false,
    "execution_millis": 74,
    "execution_start": 1709977140088,
    "id": "JCFYjQVrMnl9",
    "source_hash": "a9b2ebda"
   },
   "outputs": [],
   "source": [
    "# Changing data type of Summary column\n",
    "merged_df['Summary']=merged_df['Summary'].astype('category')"
   ]
  },
  {
   "cell_type": "code",
   "execution_count": null,
   "metadata": {
    "cell_id": "2c47d8c20d994e66998b902d69c157d7",
    "deepnote_app_block_visible": true,
    "deepnote_cell_type": "code",
    "deepnote_to_be_reexecuted": false,
    "execution_millis": 59,
    "execution_start": 1709977143822,
    "id": "WPCF2EvFMnl9",
    "outputId": "acd29175-e107-4633-e741-d29384136ebd",
    "source_hash": "20e9269c"
   },
   "outputs": [
    {
     "name": "stdout",
     "output_type": "stream",
     "text": [
      "<class 'pandas.core.frame.DataFrame'>\n",
      "Index: 2856 entries, 0 to 2856\n",
      "Data columns (total 8 columns):\n",
      " #   Column           Non-Null Count  Dtype   \n",
      "---  ------           --------------  -----   \n",
      " 0   ProductName      2856 non-null   object  \n",
      " 1   ProductPrice     2846 non-null   float64 \n",
      " 2   Discount         2856 non-null   object  \n",
      " 3   NumberofReviews  2856 non-null   object  \n",
      " 4   Rate             2846 non-null   float64 \n",
      " 5   Review           1710 non-null   object  \n",
      " 6   Summary          2856 non-null   category\n",
      " 7   Filename         2856 non-null   object  \n",
      "dtypes: category(1), float64(2), object(5)\n",
      "memory usage: 205.4+ KB\n"
     ]
    }
   ],
   "source": [
    "merged_df.info()"
   ]
  },
  {
   "cell_type": "code",
   "execution_count": null,
   "metadata": {
    "cell_id": "913c267941a1411fa417da33b15e88cf",
    "deepnote_app_block_visible": true,
    "deepnote_cell_type": "code",
    "deepnote_to_be_reexecuted": false,
    "execution_millis": 116,
    "execution_start": 1709977156136,
    "id": "YzSX_ZMYMnl-",
    "outputId": "87ba9e73-8ef5-4121-a2df-bb6badf5253a",
    "source_hash": "efb2a1fb"
   },
   "outputs": [
    {
     "data": {
      "application/vnd.deepnote.dataframe.v3+json": {
       "column_count": 1,
       "columns": [
        {
         "dtype": "category",
         "name": "Summary",
         "stats": {
          "categories": [
           {
            "count": 175,
            "name": "good"
           },
           {
            "count": 101,
            "name": "good product"
           },
           {
            "count": 2580,
            "name": "652 others"
           }
          ],
          "nan_count": 0,
          "unique_count": 654
         }
        },
        {
         "dtype": "int64",
         "name": "_deepnote_index_column"
        }
       ],
       "row_count": 2856,
       "rows": [
        {
         "Summary": "good product price range",
         "_deepnote_index_column": 0
        },
        {
         "Summary": "outstanding product",
         "_deepnote_index_column": 1
        },
        {
         "Summary": "work like charm good sound quality visually attractive v1",
         "_deepnote_index_column": 2
        },
        {
         "Summary": "great",
         "_deepnote_index_column": 3
        },
        {
         "Summary": "amaze sound quality totally premium affordable",
         "_deepnote_index_column": 4
        },
        {
         "Summary": "boat stone v2",
         "_deepnote_index_column": 5
        },
        {
         "Summary": "nice product",
         "_deepnote_index_column": 6
        },
        {
         "Summary": "boat stone grenade bluetooth speaker full range driver high fidelity stereo sound hrs nonstop playback",
         "_deepnote_index_column": 7
        },
        {
         "Summary": "nice quality amaze flight best",
         "_deepnote_index_column": 8
        },
        {
         "Summary": "sound like good",
         "_deepnote_index_column": 9
        }
       ]
      },
      "text/html": [
       "<div>\n",
       "<style scoped>\n",
       "    .dataframe tbody tr th:only-of-type {\n",
       "        vertical-align: middle;\n",
       "    }\n",
       "\n",
       "    .dataframe tbody tr th {\n",
       "        vertical-align: top;\n",
       "    }\n",
       "\n",
       "    .dataframe thead th {\n",
       "        text-align: right;\n",
       "    }\n",
       "</style>\n",
       "<table border=\"1\" class=\"dataframe\">\n",
       "  <thead>\n",
       "    <tr style=\"text-align: right;\">\n",
       "      <th></th>\n",
       "      <th>Summary</th>\n",
       "    </tr>\n",
       "  </thead>\n",
       "  <tbody>\n",
       "    <tr>\n",
       "      <th>0</th>\n",
       "      <td>good product price range</td>\n",
       "    </tr>\n",
       "    <tr>\n",
       "      <th>1</th>\n",
       "      <td>outstanding product</td>\n",
       "    </tr>\n",
       "    <tr>\n",
       "      <th>2</th>\n",
       "      <td>work like charm good sound quality visually at...</td>\n",
       "    </tr>\n",
       "    <tr>\n",
       "      <th>3</th>\n",
       "      <td>great</td>\n",
       "    </tr>\n",
       "    <tr>\n",
       "      <th>4</th>\n",
       "      <td>amaze sound quality totally premium affordable</td>\n",
       "    </tr>\n",
       "    <tr>\n",
       "      <th>...</th>\n",
       "      <td>...</td>\n",
       "    </tr>\n",
       "    <tr>\n",
       "      <th>2852</th>\n",
       "      <td>trebel rockerz pro</td>\n",
       "    </tr>\n",
       "    <tr>\n",
       "      <th>2853</th>\n",
       "      <td>use since month fully satisfy rockerz pro awes...</td>\n",
       "    </tr>\n",
       "    <tr>\n",
       "      <th>2854</th>\n",
       "      <td>sound quality good best material</td>\n",
       "    </tr>\n",
       "    <tr>\n",
       "      <th>2855</th>\n",
       "      <td>best service best product staisfied</td>\n",
       "    </tr>\n",
       "    <tr>\n",
       "      <th>2856</th>\n",
       "      <td>heard friends say tu earphone hata ke baat kar...</td>\n",
       "    </tr>\n",
       "  </tbody>\n",
       "</table>\n",
       "<p>2856 rows × 1 columns</p>\n",
       "</div>"
      ],
      "text/plain": [
       "                                                Summary\n",
       "0                              good product price range\n",
       "1                                   outstanding product\n",
       "2     work like charm good sound quality visually at...\n",
       "3                                                 great\n",
       "4        amaze sound quality totally premium affordable\n",
       "...                                                 ...\n",
       "2852                                 trebel rockerz pro\n",
       "2853  use since month fully satisfy rockerz pro awes...\n",
       "2854                   sound quality good best material\n",
       "2855                best service best product staisfied\n",
       "2856  heard friends say tu earphone hata ke baat kar...\n",
       "\n",
       "[2856 rows x 1 columns]"
      ]
     },
     "execution_count": 45,
     "metadata": {},
     "output_type": "execute_result"
    }
   ],
   "source": [
    "# Load the Summary column data into a series and then converting into df DataFrame\n",
    "df = merged_df['Summary'].copy(deep=True)\n",
    "df = df.to_frame(\"Summary\")\n",
    "df"
   ]
  },
  {
   "cell_type": "code",
   "execution_count": null,
   "metadata": {
    "cell_id": "3dd4f4035e684e33882e5d36cfd45a19",
    "deepnote_app_block_visible": true,
    "deepnote_cell_type": "code",
    "deepnote_to_be_reexecuted": false,
    "execution_millis": 168,
    "execution_start": 1709977165569,
    "id": "KOK12O-gMnl-",
    "outputId": "ee12d313-a1fa-4057-fa75-fc5f7af8c470",
    "source_hash": "b82bf7c2"
   },
   "outputs": [
    {
     "data": {
      "text/plain": [
       "count    2856.000000\n",
       "mean       39.982843\n",
       "std        46.941004\n",
       "min         0.000000\n",
       "25%        12.000000\n",
       "50%        21.000000\n",
       "75%        54.000000\n",
       "max       491.000000\n",
       "Name: Summary, dtype: float64"
      ]
     },
     "execution_count": 46,
     "metadata": {},
     "output_type": "execute_result"
    },
    {
     "data": {
      "image/png": "[encoded data removed]",
      "text/plain": [
       "<Figure size 640x480 with 1 Axes>"
      ]
     },
     "metadata": {
      "image/png": {
       "height": 418,
       "width": 560
      }
     },
     "output_type": "display_data"
    }
   ],
   "source": [
    "#How long are reviews in summary column?\n",
    "df.Summary.apply(len).hist(bins =20)\n",
    "df.Summary.apply(len).describe()"
   ]
  },
  {
   "cell_type": "markdown",
   "metadata": {
    "cell_id": "eded64b1b0ef424b858b5960e87c3a61",
    "deepnote_app_block_visible": true,
    "deepnote_cell_type": "markdown",
    "id": "xEXuc4WJMnl-"
   },
   "source": [
    "### Obervations :-\n",
    "Mostly, reviews extend from a few lines to short paragraphs. There are a few very long reviews that might extend to several pages."
   ]
  },
  {
   "cell_type": "code",
   "execution_count": null,
   "metadata": {
    "cell_id": "119d729bc2984a5aaae9d36f0e1eaf40",
    "deepnote_app_block_visible": true,
    "deepnote_cell_type": "code",
    "deepnote_to_be_reexecuted": false,
    "execution_millis": 109,
    "execution_start": 1709977195507,
    "id": "V-7-rao4Mnl_",
    "outputId": "097e1ccb-8013-448c-df50-77726cb32cca",
    "scrolled": true,
    "source_hash": "5d3d14f5"
   },
   "outputs": [
    {
     "name": "stdout",
     "output_type": "stream",
     "text": [
      "['first thanks boat fast delivery amazed packaging product good forst time purchase neckband say bluetooth accessory reason regret buy charge accessory', 'especially earbuds need charge regularly always use move cheap one waste money recently purchase boat neckband diwali sale get bad deal impress never', 'ever think boat bluetooth would magic sound quality superb easy use look stylish decent thing love battery backup receive product almost week battery', 'decrease e really impressed thankyou keep']\n"
     ]
    }
   ],
   "source": [
    "#Longest review\n",
    "\n",
    "max_length_index = df['Summary'].apply(len).idxmax()\n",
    "max_length_Summary = df.loc[max_length_index, 'Summary']\n",
    "wrapped_text = textwrap.wrap(max_length_Summary, width=150)\n",
    "print(wrapped_text)"
   ]
  },
  {
   "cell_type": "markdown",
   "metadata": {
    "cell_id": "4e8d6ddc7b5f4e5bb07c25462c83d084",
    "deepnote_app_block_visible": true,
    "deepnote_cell_type": "markdown",
    "id": "yGDtRXg1Mnl_"
   },
   "source": [
    "## Stop Words Removal"
   ]
  },
  {
   "cell_type": "code",
   "execution_count": null,
   "metadata": {
    "cell_id": "c0b4d133f07b4057acb25ee134b841c6",
    "deepnote_app_block_visible": true,
    "deepnote_cell_type": "code",
    "deepnote_to_be_reexecuted": false,
    "execution_millis": 234,
    "execution_start": 1709977255340,
    "id": "ZCRAoosKMnmA",
    "outputId": "0e40a315-ccd3-4e29-bb69-edfcb2552d6f",
    "source_hash": "4e96ede"
   },
   "outputs": [
    {
     "name": "stdout",
     "output_type": "stream",
     "text": [
      "179\n",
      "{'than', 'on', 're', 'won', \"hasn't\", 'in', 'don', 'off', \"aren't\", 'did', \"should've\", 'ourselves', 'not', 'while', 'haven', 'him', \"won't\", 'does', 'this', 'further', 'over', 'weren', 'an', \"shan't\", 'me', \"you've\", 'just', 'it', 'his', 'himself', 'down', 'for', 'again', 'hers', 'my', 'll', 'wouldn', 'its', \"you'd\", 'their', 'very', 'such', 'd', 'we', 'below', 'before', \"it's\", \"mightn't\", 'how', 'now', 'yours', 'out', 'under', 'some', 'can', 'ours', 'm', 'why', \"she's\", 'during', 'shan', 'needn', 'your', 'and', 'nor', 'that', 'because', 't', 'hasn', 'from', \"shouldn't\", 'is', \"wouldn't\", 'mustn', 'these', \"didn't\", 'of', 'doing', 'no', \"couldn't\", 'they', 'but', 'our', 'then', 'had', 'until', \"haven't\", 'should', 'are', \"doesn't\", \"you're\", 'them', 'didn', 'at', 'through', 'has', 've', \"wasn't\", 'itself', 'so', \"needn't\", 'themselves', 'who', 'here', \"hadn't\", 'ma', 'couldn', 'other', 'wasn', 'isn', 's', 'yourselves', 'having', \"don't\", 'above', 'mightn', 'more', 'was', 'those', 'into', 'where', 'only', 'the', 'most', 'been', 'a', 'once', 'y', 'you', 'will', 'with', \"that'll\", 'or', 'by', 'to', 'too', 'few', \"you'll\", 'about', 'shouldn', 'any', 'being', 'same', 'she', 'against', 'when', 'there', 'her', 'do', 'up', 'both', 'i', 'between', 'whom', 'after', \"weren't\", 'own', 'doesn', \"isn't\", 'were', 'he', 'each', 'have', 'hadn', 'as', 'o', 'myself', 'aren', 'yourself', 'all', 'what', 'herself', 'ain', \"mustn't\", 'theirs', 'which', 'am', 'if', 'be'}\n"
     ]
    }
   ],
   "source": [
    "# List of English stop words\n",
    "english_stop_words=set(stopwords.words(\"english\"))\n",
    "print(len(english_stop_words))\n",
    "print(english_stop_words)"
   ]
  },
  {
   "cell_type": "markdown",
   "metadata": {
    "cell_id": "66aa20c154fb4c1e82bb2245c29da86d",
    "deepnote_app_block_visible": true,
    "deepnote_cell_type": "markdown",
    "id": "FybTYvQRMnmA"
   },
   "source": [
    "### Obervations :-\n",
    "Here we are going to remove all english stop words from corpus data."
   ]
  },
  {
   "cell_type": "code",
   "execution_count": null,
   "metadata": {
    "cell_id": "be0d4329b5734a6da024696547daefeb",
    "deepnote_app_block_visible": true,
    "deepnote_cell_type": "code",
    "deepnote_to_be_reexecuted": false,
    "execution_millis": 100,
    "execution_start": 1709977299864,
    "id": "88foj0RnMnmA",
    "source_hash": "57668966"
   },
   "outputs": [],
   "source": [
    "# Define a function for Removal of stop words\n",
    "\n",
    "def remove_stopwords_from_texts(texts):\n",
    "    textArr = texts.split(' ')\n",
    "    stop_clean = \" \".join([i for i in textArr if i not in english_stop_words])\n",
    "    return stop_clean"
   ]
  },
  {
   "cell_type": "code",
   "execution_count": null,
   "metadata": {
    "cell_id": "a3b6f3469b86454a8ce377663de59380",
    "deepnote_app_block_visible": true,
    "deepnote_cell_type": "code",
    "deepnote_to_be_reexecuted": false,
    "execution_millis": 64,
    "execution_start": 1709977302504,
    "id": "92n6Z5G9MnmB",
    "source_hash": "f84dba88"
   },
   "outputs": [],
   "source": [
    "# remove stopwords from the dataset\n",
    "\n",
    "df['Summary'] = df['Summary'].apply(remove_stopwords_from_texts)"
   ]
  },
  {
   "cell_type": "markdown",
   "metadata": {
    "cell_id": "9bf323ce3c0b44a198d2fcf7fbfe6745",
    "deepnote_app_block_visible": true,
    "deepnote_cell_type": "markdown",
    "id": "lgF9WADAMnmB"
   },
   "source": [
    "### Obervations :-\n",
    "This function named remove_stopwords_from_texts called and applies it to each cell in the specified columns ('Summary') of the DataFrame df. The function is designed to remove stop words from the text in each cell."
   ]
  },
  {
   "cell_type": "code",
   "execution_count": null,
   "metadata": {
    "cell_id": "5a5e58917c834ae48c56eb086fe9e875",
    "deepnote_app_block_visible": true,
    "deepnote_cell_type": "code",
    "deepnote_to_be_reexecuted": false,
    "execution_millis": 241,
    "execution_start": 1709977312534,
    "id": "CTjKX1yQMnmB",
    "outputId": "72df0449-8604-418b-ea3a-a7c9e58b44f0",
    "scrolled": true,
    "source_hash": "f804c160"
   },
   "outputs": [
    {
     "data": {
      "application/vnd.deepnote.dataframe.v3+json": {
       "column_count": 1,
       "columns": [
        {
         "dtype": "category",
         "name": "Summary",
         "stats": {
          "categories": [
           {
            "count": 175,
            "name": "good"
           },
           {
            "count": 101,
            "name": "good product"
           },
           {
            "count": 2580,
            "name": "652 others"
           }
          ],
          "nan_count": 0,
          "unique_count": 654
         }
        },
        {
         "dtype": "int64",
         "name": "_deepnote_index_column"
        }
       ],
       "row_count": 2856,
       "rows": [
        {
         "Summary": "good product price range",
         "_deepnote_index_column": 0
        },
        {
         "Summary": "outstanding product",
         "_deepnote_index_column": 1
        },
        {
         "Summary": "work like charm good sound quality visually attractive v1",
         "_deepnote_index_column": 2
        },
        {
         "Summary": "great",
         "_deepnote_index_column": 3
        },
        {
         "Summary": "amaze sound quality totally premium affordable",
         "_deepnote_index_column": 4
        },
        {
         "Summary": "boat stone v2",
         "_deepnote_index_column": 5
        },
        {
         "Summary": "nice product",
         "_deepnote_index_column": 6
        },
        {
         "Summary": "boat stone grenade bluetooth speaker full range driver high fidelity stereo sound hrs nonstop playback",
         "_deepnote_index_column": 7
        },
        {
         "Summary": "nice quality amaze flight best",
         "_deepnote_index_column": 8
        },
        {
         "Summary": "sound like good",
         "_deepnote_index_column": 9
        }
       ]
      },
      "text/html": [
       "<div>\n",
       "<style scoped>\n",
       "    .dataframe tbody tr th:only-of-type {\n",
       "        vertical-align: middle;\n",
       "    }\n",
       "\n",
       "    .dataframe tbody tr th {\n",
       "        vertical-align: top;\n",
       "    }\n",
       "\n",
       "    .dataframe thead th {\n",
       "        text-align: right;\n",
       "    }\n",
       "</style>\n",
       "<table border=\"1\" class=\"dataframe\">\n",
       "  <thead>\n",
       "    <tr style=\"text-align: right;\">\n",
       "      <th></th>\n",
       "      <th>Summary</th>\n",
       "    </tr>\n",
       "  </thead>\n",
       "  <tbody>\n",
       "    <tr>\n",
       "      <th>0</th>\n",
       "      <td>good product price range</td>\n",
       "    </tr>\n",
       "    <tr>\n",
       "      <th>1</th>\n",
       "      <td>outstanding product</td>\n",
       "    </tr>\n",
       "    <tr>\n",
       "      <th>2</th>\n",
       "      <td>work like charm good sound quality visually at...</td>\n",
       "    </tr>\n",
       "    <tr>\n",
       "      <th>3</th>\n",
       "      <td>great</td>\n",
       "    </tr>\n",
       "    <tr>\n",
       "      <th>4</th>\n",
       "      <td>amaze sound quality totally premium affordable</td>\n",
       "    </tr>\n",
       "    <tr>\n",
       "      <th>...</th>\n",
       "      <td>...</td>\n",
       "    </tr>\n",
       "    <tr>\n",
       "      <th>2852</th>\n",
       "      <td>trebel rockerz pro</td>\n",
       "    </tr>\n",
       "    <tr>\n",
       "      <th>2853</th>\n",
       "      <td>use since month fully satisfy rockerz pro awes...</td>\n",
       "    </tr>\n",
       "    <tr>\n",
       "      <th>2854</th>\n",
       "      <td>sound quality good best material</td>\n",
       "    </tr>\n",
       "    <tr>\n",
       "      <th>2855</th>\n",
       "      <td>best service best product staisfied</td>\n",
       "    </tr>\n",
       "    <tr>\n",
       "      <th>2856</th>\n",
       "      <td>heard friends say tu earphone hata ke baat kar...</td>\n",
       "    </tr>\n",
       "  </tbody>\n",
       "</table>\n",
       "<p>2856 rows × 1 columns</p>\n",
       "</div>"
      ],
      "text/plain": [
       "                                                Summary\n",
       "0                              good product price range\n",
       "1                                   outstanding product\n",
       "2     work like charm good sound quality visually at...\n",
       "3                                                 great\n",
       "4        amaze sound quality totally premium affordable\n",
       "...                                                 ...\n",
       "2852                                 trebel rockerz pro\n",
       "2853  use since month fully satisfy rockerz pro awes...\n",
       "2854                   sound quality good best material\n",
       "2855                best service best product staisfied\n",
       "2856  heard friends say tu earphone hata ke baat kar...\n",
       "\n",
       "[2856 rows x 1 columns]"
      ]
     },
     "execution_count": 51,
     "metadata": {},
     "output_type": "execute_result"
    }
   ],
   "source": [
    "df"
   ]
  },
  {
   "cell_type": "markdown",
   "metadata": {
    "cell_id": "52405a3976a345a484c73aedb9d10f32",
    "deepnote_app_block_visible": true,
    "deepnote_cell_type": "markdown",
    "id": "nPtL1uwCMnmC"
   },
   "source": [
    "## Lemmatization"
   ]
  },
  {
   "cell_type": "code",
   "execution_count": null,
   "metadata": {
    "cell_id": "9c2ded1857194390bf641b9c341544f8",
    "deepnote_app_block_visible": true,
    "deepnote_cell_type": "code",
    "deepnote_to_be_reexecuted": false,
    "execution_millis": 6661,
    "execution_start": 1709977322487,
    "id": "shauyHICMnmC",
    "source_hash": "fef2de88"
   },
   "outputs": [],
   "source": [
    "# load spacymodel for lemmatization\n",
    "nlp = en_core_web_sm.load(disable=['parser', 'ner'])\n",
    "\n",
    "# Function to lemmatize text\n",
    "def lemmatization(texts, allowed_postags=['NOUN', 'ADJ','VERB', 'ADV']):\n",
    "    for sent in texts:\n",
    "        doc = nlp(sent)\n",
    "        yield [token.lemma_ for token in doc if token.pos_ in allowed_postags]\n",
    "\n",
    "# Apply lemmatization\n",
    "text_list = df['Summary'].tolist()\n",
    "tokenized_reviews = list(lemmatization(text_list))"
   ]
  },
  {
   "cell_type": "code",
   "execution_count": null,
   "metadata": {
    "cell_id": "51b4142bf4b04caeb385bbe031e86400",
    "deepnote_app_block_visible": true,
    "deepnote_cell_type": "code",
    "deepnote_to_be_reexecuted": false,
    "execution_millis": 108,
    "execution_start": 1709977339653,
    "id": "D3vfVvjQMnmC",
    "outputId": "a0af5f3f-c109-4572-cefb-67ed70a02778",
    "source_hash": "9ac65bf8"
   },
   "outputs": [
    {
     "data": {
      "text/plain": [
       "[['good', 'product', 'price', 'range'],\n",
       " ['outstanding', 'product'],\n",
       " ['work', 'charm', 'good', 'sound', 'quality', 'visually', 'attractive', 'v1'],\n",
       " ['great'],\n",
       " ['amaze', 'sound', 'quality', 'totally', 'premium', 'affordable'],\n",
       " ['boat', 'stone', 'v2'],\n",
       " ['nice', 'product'],\n",
       " ['boat',\n",
       "  'stone',\n",
       "  'grenade',\n",
       "  'speaker',\n",
       "  'full',\n",
       "  'range',\n",
       "  'driver',\n",
       "  'high',\n",
       "  'nonstop',\n",
       "  'playback'],\n",
       " ['nice', 'quality', 'amaze', 'flight', 'good'],\n",
       " ['sound', 'good'],\n",
       " ['add', 'hub', 'also'],\n",
       " ['boat', 'stone', 'grenade'],\n",
       " ['great', 'audio', 'quite', 'loud'],\n",
       " ['boat',\n",
       "  'stone',\n",
       "  'wireless',\n",
       "  'portable',\n",
       "  'speaker',\n",
       "  'dynamic',\n",
       "  'driver',\n",
       "  'nonstop',\n",
       "  'playback',\n",
       "  'water',\n",
       "  'resistant'],\n",
       " ['product', 'amazing']]"
      ]
     },
     "execution_count": 53,
     "metadata": {},
     "output_type": "execute_result"
    }
   ],
   "source": [
    "# Display the first 15 results to shorten the lonng output window\n",
    "tokenized_reviews[0:15]"
   ]
  },
  {
   "cell_type": "code",
   "execution_count": null,
   "metadata": {
    "cell_id": "4a81eaaa602e457aa9aeb0772b817d39",
    "deepnote_app_block_visible": true,
    "deepnote_cell_type": "code",
    "deepnote_to_be_reexecuted": false,
    "execution_millis": 103,
    "execution_start": 1709977379379,
    "id": "egfGrplTMnmC",
    "outputId": "6aa267a2-5ae3-4ad4-d670-0d5af8abc32b",
    "source_hash": "3a815cff"
   },
   "outputs": [
    {
     "name": "stdout",
     "output_type": "stream",
     "text": [
      "boat stone grenade bluetooth speaker full range driver high fidelity stereo sound hrs nonstop playback\n"
     ]
    }
   ],
   "source": [
    "# before lemma\n",
    "\n",
    "print(text_list[7])"
   ]
  },
  {
   "cell_type": "code",
   "execution_count": null,
   "metadata": {
    "cell_id": "67535103112b43718c677297c465c99c",
    "deepnote_app_block_visible": true,
    "deepnote_cell_type": "code",
    "deepnote_to_be_reexecuted": false,
    "execution_millis": 75,
    "execution_start": 1709977383121,
    "id": "mthWErrXMnmD",
    "outputId": "913910f5-1a78-4d91-89de-bf0b64ce7e01",
    "source_hash": "1752a469"
   },
   "outputs": [
    {
     "name": "stdout",
     "output_type": "stream",
     "text": [
      "['boat', 'stone', 'grenade', 'speaker', 'full', 'range', 'driver', 'high', 'nonstop', 'playback']\n"
     ]
    }
   ],
   "source": [
    "# after lemma\n",
    "\n",
    "print(tokenized_reviews[7])"
   ]
  },
  {
   "cell_type": "markdown",
   "metadata": {
    "cell_id": "85bdabf3b2334dae8009cb11b3fb22c6",
    "deepnote_app_block_visible": true,
    "deepnote_cell_type": "markdown",
    "id": "5sbzdKqgMnmD"
   },
   "source": [
    "### Obervations :-\n",
    "Here we cab see the difference between the before and after lemmatization process."
   ]
  },
  {
   "cell_type": "markdown",
   "metadata": {
    "cell_id": "fcbfe1bc9092492c9c62f3736fa54912",
    "deepnote_app_block_visible": true,
    "deepnote_cell_type": "markdown",
    "id": "Bw5kxjLCMnmD"
   },
   "source": [
    "# Using the LDA algorithm create the Topics"
   ]
  },
  {
   "cell_type": "markdown",
   "metadata": {
    "cell_id": "e3df493b43c94c6e957d34a3f3893271",
    "deepnote_app_block_visible": true,
    "deepnote_cell_type": "markdown",
    "id": "ixXijUqPMnmD"
   },
   "source": [
    "## MODELLING"
   ]
  },
  {
   "cell_type": "markdown",
   "metadata": {
    "cell_id": "27b9511d668a45df9847795fc9c8caea",
    "deepnote_app_block_visible": true,
    "deepnote_cell_type": "markdown",
    "id": "RlrYL9nBMnmD"
   },
   "source": [
    "### Now we will create vocabulary dictionary and document term matrix."
   ]
  },
  {
   "cell_type": "code",
   "execution_count": null,
   "metadata": {
    "cell_id": "4fe39e9aa1104d06b2a0d443eec378cb",
    "deepnote_app_block_visible": true,
    "deepnote_cell_type": "code",
    "deepnote_to_be_reexecuted": false,
    "execution_millis": 69,
    "execution_start": 1709977423228,
    "id": "vDvbKVjMMnmE",
    "source_hash": "a06c8176"
   },
   "outputs": [],
   "source": [
    "# Create a dictionary from the corpus tokenized_reviews\n",
    "\n",
    "dictionary = corpora.Dictionary(tokenized_reviews)\n",
    "\n",
    "# Create a bag-of-word representation (document matrix) of the corpus\n",
    "doc_term_matrix = [dictionary.doc2bow(rev) for rev in tokenized_reviews]"
   ]
  },
  {
   "cell_type": "markdown",
   "metadata": {
    "cell_id": "1d5eb035537347199286c233ecf2cd1e",
    "deepnote_app_block_visible": true,
    "deepnote_cell_type": "markdown",
    "id": "BCm5kISSMnmE"
   },
   "source": [
    "### Obervations :-\n",
    "This code creates a dictionary object called 'dictionary' from a list of tokenized_reviews. The dictionary object contains a mapping of the unique words in the tokenized_reviews to their integer ids. The corpora.Dictionary() function is used to create the dictionary object.\n",
    "The 'doc_term_matrix' object is created as a list comprehension iterating over each review in the list of tokenized_reviews. The dictionary.doc2bow() method is called on each review to create a bag-of-words representation of the review, which represents the frequency of each word in the review. Each resulting bag-of-words representation is then appended to the doc_term_matrix list.\n",
    "Overall, this code is useful for creating a numerical representation of text data in a format that can be used for natural language processing tasks, such as topic modeling or clustering. By creating a dictionary and then counting word frequencies in a document using the doc2bow() method, we can convert text data into a mathematical representation that a machine can process."
   ]
  },
  {
   "cell_type": "code",
   "execution_count": null,
   "metadata": {
    "cell_id": "0102ee0a9c6f4a3fb2d64b432eca3960",
    "deepnote_app_block_visible": true,
    "deepnote_cell_type": "code",
    "deepnote_to_be_reexecuted": false,
    "execution_millis": 87,
    "execution_start": 1709977848712,
    "id": "eYwPeYgXMnmF",
    "outputId": "ba1dce4e-600c-4119-c841-c94b84eae9ad",
    "source_hash": "5e389996"
   },
   "outputs": [
    {
     "name": "stdout",
     "output_type": "stream",
     "text": [
      "0 good\n",
      "1 price\n",
      "2 product\n",
      "3 range\n",
      "4 outstanding\n",
      "5 attractive\n",
      "6 charm\n",
      "7 quality\n",
      "8 sound\n",
      "9 v1\n",
      "10 visually\n",
      "11 work\n",
      "12 great\n",
      "13 affordable\n",
      "14 amaze\n"
     ]
    }
   ],
   "source": [
    "# Display the first 15 results to shorten the lonng output window\n",
    "for key, value in dictionary.items():\n",
    "    if key < 15:\n",
    "        print(key, value)"
   ]
  },
  {
   "cell_type": "code",
   "execution_count": null,
   "metadata": {
    "cell_id": "96ff147abc274450b57cc64b6bce9ddf",
    "deepnote_app_block_visible": true,
    "deepnote_cell_type": "code",
    "deepnote_to_be_reexecuted": false,
    "execution_millis": 38,
    "execution_start": 1709977866760,
    "id": "x8I508PzMnmF",
    "outputId": "1df366d9-8e20-4456-d640-0f37a189a7d7",
    "source_hash": "a39ace62"
   },
   "outputs": [
    {
     "data": {
      "text/plain": [
       "[[(0, 1), (1, 1), (2, 1), (3, 1)],\n",
       " [(2, 1), (4, 1)],\n",
       " [(0, 1), (5, 1), (6, 1), (7, 1), (8, 1), (9, 1), (10, 1), (11, 1)],\n",
       " [(12, 1)],\n",
       " [(7, 1), (8, 1), (13, 1), (14, 1), (15, 1), (16, 1)],\n",
       " [(17, 1), (18, 1), (19, 1)],\n",
       " [(2, 1), (20, 1)],\n",
       " [(3, 1),\n",
       "  (17, 1),\n",
       "  (18, 1),\n",
       "  (21, 1),\n",
       "  (22, 1),\n",
       "  (23, 1),\n",
       "  (24, 1),\n",
       "  (25, 1),\n",
       "  (26, 1),\n",
       "  (27, 1)],\n",
       " [(0, 1), (7, 1), (14, 1), (20, 1), (28, 1)],\n",
       " [(0, 1), (8, 1)],\n",
       " [(29, 1), (30, 1), (31, 1)],\n",
       " [(17, 1), (18, 1), (23, 1)],\n",
       " [(12, 1), (32, 1), (33, 1), (34, 1)],\n",
       " [(17, 1),\n",
       "  (18, 1),\n",
       "  (21, 1),\n",
       "  (25, 1),\n",
       "  (26, 1),\n",
       "  (27, 1),\n",
       "  (35, 1),\n",
       "  (36, 1),\n",
       "  (37, 1),\n",
       "  (38, 1),\n",
       "  (39, 1)],\n",
       " [(2, 1), (40, 1)]]"
      ]
     },
     "execution_count": 64,
     "metadata": {},
     "output_type": "execute_result"
    }
   ],
   "source": [
    "# Display the first 15 results to shorten the lonng output window\n",
    "doc_term_matrix[0:15]"
   ]
  },
  {
   "cell_type": "markdown",
   "metadata": {
    "cell_id": "7ec7e41abac84a88a07d7c18ca94c5a7",
    "deepnote_app_block_visible": true,
    "deepnote_cell_type": "markdown",
    "id": "Exn-IA0_MnmF"
   },
   "source": [
    "### We can start to build the model using LDA."
   ]
  },
  {
   "cell_type": "code",
   "execution_count": null,
   "metadata": {
    "cell_id": "aaeeadb534d6447e912415a0316bc588",
    "deepnote_app_block_visible": true,
    "deepnote_cell_type": "code",
    "deepnote_to_be_reexecuted": false,
    "execution_millis": 76,
    "execution_start": 1709977885889,
    "id": "pDMZkDvYMnmG",
    "source_hash": "4b1ea24f"
   },
   "outputs": [],
   "source": [
    "# Creating the object for LDA model using gensim library\n",
    "\n",
    "LDA = gensim.models.ldamodel.LdaModel"
   ]
  },
  {
   "cell_type": "code",
   "execution_count": null,
   "metadata": {
    "cell_id": "f190f47209fc43d0b83554b654b3b402",
    "deepnote_app_block_visible": true,
    "deepnote_cell_type": "code",
    "deepnote_to_be_reexecuted": false,
    "execution_millis": 4533,
    "execution_start": 1709977902684,
    "id": "5vGbiv5SMnmG",
    "source_hash": "f626484e"
   },
   "outputs": [],
   "source": [
    "# Build LDA model\n",
    "\n",
    "lda_model = LDA(corpus = doc_term_matrix, id2word = dictionary, num_topics = 15,\n",
    "                random_state = 100, chunksize = 100, passes = 20)"
   ]
  },
  {
   "cell_type": "code",
   "execution_count": null,
   "metadata": {
    "cell_id": "a0b4ed4d677a4a2c8a062c0a1c929a76",
    "deepnote_app_block_visible": true,
    "deepnote_cell_type": "code",
    "deepnote_to_be_reexecuted": false,
    "execution_millis": 224,
    "execution_start": 1709977919979,
    "id": "-ylju0MsMnmG",
    "outputId": "5999de62-c9c4-4bda-ebbd-6279e9526ff0",
    "scrolled": true,
    "source_hash": "35a5d0c0"
   },
   "outputs": [
    {
     "data": {
      "text/plain": [
       "[(0,\n",
       "  '0.265*\"nice\" + 0.196*\"product\" + 0.117*\"great\" + 0.060*\"quality\" + 0.054*\"fast\" + 0.038*\"design\" + 0.034*\"delivery\" + 0.029*\"satisfy\" + 0.026*\"bluetooth\" + 0.021*\"premium\"'),\n",
       " (1,\n",
       "  '0.213*\"awesome\" + 0.184*\"get\" + 0.142*\"superb\" + 0.103*\"cable\" + 0.050*\"receive\" + 0.044*\"durable\" + 0.033*\"phone\" + 0.010*\"output\" + 0.009*\"original\" + 0.008*\"feedback\"'),\n",
       " (2,\n",
       "  '0.001*\"awsome\" + 0.001*\"wonderful\" + 0.001*\"fantastic\" + 0.001*\"cool\" + 0.001*\"replace\" + 0.001*\"ment\" + 0.001*\"blaze\" + 0.001*\"jakash\" + 0.001*\"mast\" + 0.001*\"today\"'),\n",
       " (3,\n",
       "  '0.112*\"also\" + 0.057*\"purchase\" + 0.055*\"product\" + 0.041*\"happy\" + 0.039*\"feature\" + 0.035*\"experience\" + 0.030*\"year\" + 0.029*\"low\" + 0.028*\"ever\" + 0.025*\"enough\"'),\n",
       " (4,\n",
       "  '0.233*\"boat\" + 0.169*\"rockerz\" + 0.146*\"hour\" + 0.066*\"thank\" + 0.040*\"upto\" + 0.024*\"resistance\" + 0.024*\"r\" + 0.024*\"satisfied\" + 0.022*\"water\" + 0.022*\"noise\"'),\n",
       " (5,\n",
       "  '0.180*\"good\" + 0.164*\"sound\" + 0.150*\"quality\" + 0.073*\"use\" + 0.045*\"bass\" + 0.032*\"money\" + 0.029*\"buy\" + 0.028*\"look\" + 0.019*\"earphone\" + 0.018*\"worth\"'),\n",
       " (6,\n",
       "  '0.263*\"battery\" + 0.088*\"backup\" + 0.087*\"call\" + 0.085*\"life\" + 0.057*\"much\" + 0.036*\"neckband\" + 0.032*\"face\" + 0.031*\"monitoring\" + 0.025*\"month\" + 0.024*\"impress\"'),\n",
       " (7,\n",
       "  '0.515*\"good\" + 0.261*\"product\" + 0.061*\"excellent\" + 0.042*\"perfect\" + 0.015*\"performance\" + 0.015*\"service\" + 0.013*\"fit\" + 0.011*\"feel\" + 0.009*\"button\" + 0.006*\"size\"'),\n",
       " (8,\n",
       "  '0.216*\"price\" + 0.165*\"headphone\" + 0.048*\"range\" + 0.042*\"friend\" + 0.038*\"enjoy\" + 0.036*\"decent\" + 0.030*\"high\" + 0.029*\"heavy\" + 0.027*\"suggest\" + 0.027*\"way\"'),\n",
       " (9,\n",
       "  '0.158*\"driver\" + 0.091*\"technology\" + 0.078*\"wireless\" + 0.066*\"playback\" + 0.065*\"dynamic\" + 0.060*\"enx\" + 0.059*\"pro\" + 0.055*\"asap\" + 0.048*\"control\" + 0.034*\"trebel\"'),\n",
       " (10,\n",
       "  '0.182*\"amaze\" + 0.158*\"easy\" + 0.111*\"amazing\" + 0.084*\"product\" + 0.069*\"long\" + 0.052*\"speaker\" + 0.035*\"carry\" + 0.022*\"turn\" + 0.021*\"wear\" + 0.018*\"loud\"'),\n",
       " (11,\n",
       "  '0.209*\"work\" + 0.157*\"well\" + 0.102*\"say\" + 0.069*\"need\" + 0.055*\"v2\" + 0.042*\"perfectly\" + 0.031*\"back\" + 0.023*\"look\" + 0.019*\"attractive\" + 0.019*\"fine\"'),\n",
       " (12,\n",
       "  '0.323*\"love\" + 0.179*\"really\" + 0.131*\"product\" + 0.062*\"thing\" + 0.034*\"cheap\" + 0.032*\"accessory\" + 0.027*\"affordable\" + 0.024*\"highly\" + 0.013*\"gift\" + 0.010*\"simply\"'),\n",
       " (13,\n",
       "  '0.182*\"charge\" + 0.109*\"music\" + 0.072*\"boat\" + 0.069*\"type\" + 0.062*\"c\" + 0.052*\"time\" + 0.036*\"dual\" + 0.033*\"day\" + 0.032*\"volume\" + 0.026*\"point\"'),\n",
       " (14,\n",
       "  '0.282*\"boat\" + 0.093*\"watch\" + 0.088*\"airdope\" + 0.068*\"basshead\" + 0.053*\"go\" + 0.050*\"audio\" + 0.035*\"display\" + 0.034*\"mode\" + 0.032*\"always\" + 0.031*\"smartwatch\"')]"
      ]
     },
     "execution_count": 67,
     "metadata": {},
     "output_type": "execute_result"
    }
   ],
   "source": [
    "# print topics\n",
    "\n",
    "lda_model.print_topics()"
   ]
  },
  {
   "cell_type": "markdown",
   "metadata": {
    "cell_id": "a9243c0e81fb4f24bfce04678703e68c",
    "deepnote_app_block_visible": true,
    "deepnote_cell_type": "markdown",
    "id": "HGGoYSNIMnmH"
   },
   "source": [
    "### Obervations :-\n",
    "Here we are using the gensim library to build an LDA (Latent Dirichlet Allocation) model from the 'doc_term_matrix' object and the 'dictionary' object. The LDA model is initialized with the LdaModel constructor and assigned to the 'LDA' variable.\n",
    "The 'lda_model' object is created by passing several arguments to the LDA constructor, including the 'corpus' parameter as the 'doc_term_matrix' object, the 'id2word' parameter as the 'dictionary' object, 'num_topics' as the number of topics to extract (15 in this case), 'random_state' as the seed for the random number generator for reproducibility, 'chunksize' as the number of documents to be used in each training chunk, and 'passes' as the number of iterations over the corpus during training.\n",
    "Finally, the lda_model.print_topics() method is called to print the top keywords for each topic in the LDA model. This code is useful for topic modeling tasks to extract topics from a corpus of text data."
   ]
  },
  {
   "cell_type": "markdown",
   "metadata": {
    "cell_id": "2c83fa8829e44a6289478e87a71270be",
    "deepnote_app_block_visible": true,
    "deepnote_cell_type": "markdown",
    "id": "v4frgp0_MnmH"
   },
   "source": [
    "# Coherence score and print Topics Extracted."
   ]
  },
  {
   "cell_type": "code",
   "execution_count": null,
   "metadata": {
    "cell_id": "2963ff4c234940a9ae4745c156f70da2",
    "deepnote_app_block_visible": true,
    "deepnote_cell_type": "code",
    "deepnote_to_be_reexecuted": false,
    "execution_millis": 1079,
    "execution_start": 1709978188336,
    "id": "E2tcELI4MnmH",
    "outputId": "8bdc4b4d-d768-4cee-b7eb-a0e44add5117",
    "source_hash": "85a081e4"
   },
   "outputs": [
    {
     "name": "stdout",
     "output_type": "stream",
     "text": [
      "\n",
      "Base Coherence Score:  0.41938791379360557\n"
     ]
    }
   ],
   "source": [
    "# compute the coherence score\n",
    "\n",
    "coherence_model_lda = CoherenceModel(model=lda_model, texts=tokenized_reviews, dictionary=dictionary , coherence='c_v')\n",
    "coherence_lda = coherence_model_lda.get_coherence()\n",
    "\n",
    "# print coherence score\n",
    "\n",
    "print('\\nBase Coherence Score: ', coherence_lda)"
   ]
  },
  {
   "cell_type": "markdown",
   "metadata": {
    "cell_id": "1ef5dfbe15f34214a3d4aec2df0b369c",
    "deepnote_app_block_visible": true,
    "deepnote_cell_type": "markdown",
    "id": "24hb6xi3MnmI"
   },
   "source": [
    "### Obervations :-\n",
    "Here we computes the coherence score of the LDA model calculated earlier. Coherence refers to the degree of semantic similarity between high scoring words in a topic. A coherence score measures the interpretability of the topics generated by the LDA model; the higher the coherence score, the better the interpretability of the topics.\n",
    "The CoherenceModel from gensim.models is imported and used to compute the coherence score. The coherence score is calculated by passing the 'lda_model' object, the 'tokenized_reviews', and 'dictionary' to the coherence model, along with the coherence measure 'c_v'. The coherence_lda variable stores the computed coherence score.\n",
    "Finally, the coherence score is printed using the print() function. This code is useful for assessing the quality of a topic model generated using the LDA algorithm (or similar topic modeling techniques) on a given corpus of text data."
   ]
  },
  {
   "cell_type": "code",
   "execution_count": null,
   "metadata": {
    "cell_id": "a075574ac923461cb385ef38c8bf69a6",
    "deepnote_app_block_visible": true,
    "deepnote_cell_type": "code",
    "deepnote_to_be_reexecuted": false,
    "execution_millis": 197,
    "execution_start": 1709978391828,
    "id": "YzT3OsbEMnmI",
    "outputId": "74d1bfa8-ac2f-4ff5-e2b2-4ab3f9786843",
    "source_hash": "abd94c6f"
   },
   "outputs": [
    {
     "name": "stdout",
     "output_type": "stream",
     "text": [
      "No of topics :- 15 \n",
      "\n",
      "Topic: 0 \n",
      "Words: ['nice', 'product', 'great', 'quality', 'fast', 'design', 'delivery', 'satisfy', 'bluetooth', 'premium', 'keep', 'never']\n",
      "\n",
      "\n",
      "Topic: 1 \n",
      "Words: ['awesome', 'get', 'superb', 'cable', 'receive', 'durable', 'phone', 'output', 'original', 'feedback', 'cost', 'hope']\n",
      "\n",
      "\n",
      "Topic: 2 \n",
      "Words: ['awsome', 'wonderful', 'fantastic', 'cool', 'replace', 'ment', 'blaze', 'jakash', 'mast', 'today', 'reply', 'understand']\n",
      "\n",
      "\n",
      "Topic: 3 \n",
      "Words: ['also', 'purchase', 'product', 'happy', 'feature', 'experience', 'year', 'low', 'ever', 'enough', 'right', 'talk']\n",
      "\n",
      "\n",
      "Topic: 4 \n",
      "Words: ['boat', 'rockerz', 'hour', 'thank', 'upto', 'resistance', 'r', 'satisfied', 'water', 'noise', 'sweat', 'playtime']\n",
      "\n",
      "\n",
      "Topic: 5 \n",
      "Words: ['good', 'sound', 'quality', 'use', 'bass', 'money', 'buy', 'look', 'earphone', 'worth', 'value', 'build']\n",
      "\n",
      "\n",
      "Topic: 6 \n",
      "Words: ['battery', 'backup', 'call', 'life', 'much', 'neckband', 'face', 'monitoring', 'month', 'impress', 'give', 'rate']\n",
      "\n",
      "\n",
      "Topic: 7 \n",
      "Words: ['good', 'product', 'excellent', 'perfect', 'performance', 'service', 'fit', 'feel', 'button', 'size', 'staisfie', 'bit']\n",
      "\n",
      "\n",
      "Topic: 8 \n",
      "Words: ['price', 'headphone', 'range', 'friend', 'enjoy', 'decent', 'high', 'heavy', 'suggest', 'way', 'hear', 'praise']\n",
      "\n",
      "\n",
      "Topic: 9 \n",
      "Words: ['driver', 'technology', 'wireless', 'playback', 'dynamic', 'enx', 'pro', 'asap', 'control', 'trebel', 'ear', 'nonstop']\n",
      "\n",
      "\n",
      "Topic: 10 \n",
      "Words: ['amaze', 'easy', 'amazing', 'product', 'long', 'speaker', 'carry', 'turn', 'wear', 'loud', 'operate', 'song']\n",
      "\n",
      "\n",
      "Topic: 11 \n",
      "Words: ['work', 'well', 'say', 'need', 'v2', 'perfectly', 'back', 'look', 'attractive', 'fine', 'wash', 'cycle']\n",
      "\n",
      "\n",
      "Topic: 12 \n",
      "Words: ['love', 'really', 'product', 'thing', 'cheap', 'accessory', 'affordable', 'highly', 'gift', 'simply', 'air', 'worthy']\n",
      "\n",
      "\n",
      "Topic: 13 \n",
      "Words: ['charge', 'music', 'boat', 'type', 'c', 'time', 'dual', 'day', 'volume', 'point', 'bass', 'full']\n",
      "\n",
      "\n",
      "Topic: 14 \n",
      "Words: ['boat', 'watch', 'airdope', 'basshead', 'go', 'audio', 'display', 'mode', 'always', 'smartwatch', 'wave', 'stone']\n",
      "\n",
      "\n"
     ]
    }
   ],
   "source": [
    "# Print the topics extracted\n",
    "num_topics = lda_model.num_topics\n",
    "print(\"No of topics :-\",num_topics,\"\\n\")\n",
    "topics = lda_model.show_topics(formatted=False,num_topics=num_topics,num_words=12)\n",
    "for idx, topic in topics:\n",
    "    print('Topic: {} \\nWords: {}'.format(idx, [word[0] for word in topic]))\n",
    "    print('\\n')"
   ]
  },
  {
   "cell_type": "markdown",
   "metadata": {
    "cell_id": "67a28d76cb4247ab8b83125999fd7761",
    "deepnote_app_block_visible": true,
    "deepnote_cell_type": "markdown",
    "id": "qdibuXfzMnmI"
   },
   "source": [
    "### Obervations :-\n",
    "Here we are printing the topics extracted by the LDA model in a human-readable format. It uses the 'show_topics()' method to extract topics from the LDA model, and the for loop to iterate through each topic and print the topic ID and the top 12 words from each topic in a clear and readable format. This code is useful for visually inspecting the topics generated by the LDA model and interpreting the meaning and semantic coherence of each topic."
   ]
  },
  {
   "cell_type": "markdown",
   "metadata": {
    "cell_id": "9cf5808e0570457f9ffcceff6285a393",
    "deepnote_app_block_visible": true,
    "deepnote_cell_type": "markdown",
    "id": "KnxSQUnCMnmJ"
   },
   "source": [
    "# Visualize the topics"
   ]
  },
  {
   "cell_type": "markdown",
   "metadata": {
    "cell_id": "757ce3f4052142ca8d0f82f9a905fd15",
    "deepnote_app_block_visible": true,
    "deepnote_cell_type": "markdown",
    "id": "Qb_V69B8MnmJ"
   },
   "source": [
    "Now, we can visualize the topics, but before that we will measure the perplexity. **Perplexity** is a measure of how good the model is, the lower the better."
   ]
  },
  {
   "cell_type": "code",
   "execution_count": null,
   "metadata": {
    "cell_id": "01c53a7d08214630902e6d2f079e0a01",
    "deepnote_app_block_visible": true,
    "deepnote_cell_type": "code",
    "deepnote_to_be_reexecuted": false,
    "execution_millis": 196,
    "execution_start": 1709978580204,
    "id": "tyUSXBQjMnmJ",
    "outputId": "d42703bc-4e7b-46a6-a1c8-59f32281378c",
    "source_hash": "5ac634d1"
   },
   "outputs": [
    {
     "name": "stdout",
     "output_type": "stream",
     "text": [
      "\n",
      "Perplexity:  -7.148341793224875\n"
     ]
    }
   ],
   "source": [
    "# print perplexity\n",
    "\n",
    "print('\\nPerplexity: ', lda_model.log_perplexity(doc_term_matrix,total_docs=10000))"
   ]
  },
  {
   "cell_type": "markdown",
   "metadata": {
    "cell_id": "84e7f544fa5e4485990c26843e6e249e",
    "deepnote_app_block_visible": true,
    "deepnote_cell_type": "markdown",
    "id": "kiwNJ8NcMnmK"
   },
   "source": [
    "### Obervations :-\n",
    "Perplexity is a measure of how well the model predicts the held-out sample (i.e., the sample that was not used for training). The lower the perplexity score, the better the model's performance.\n",
    "The lda_model.log_perplexity() method takes the document-term matrix as an argument, along with an optional 'total_docs' parameter that sets the size of the held-out sample. If 'total_docs' is not specified, it defaults to the size of the input corpus.\n",
    "Finally, the perplexity score is printed to the console using the print() function. This code is useful for assessing the quality of an LDA model in predicting held-out samples and can help identify overfitting or underfitting of the model to the training data."
   ]
  },
  {
   "cell_type": "code",
   "execution_count": null,
   "metadata": {
    "cell_id": "41c7ec4af15d4ab0ac6da611911524fd",
    "deepnote_app_block_visible": true,
    "deepnote_cell_type": "code",
    "deepnote_to_be_reexecuted": false,
    "execution_millis": 684,
    "execution_start": 1709978593479,
    "id": "xwVBSWsDMnmL",
    "source_hash": "ac8ae2bf"
   },
   "outputs": [],
   "source": [
    "# visualize topics\n",
    "\n",
    "pyLDAvis.enable_notebook()\n",
    "vis = pyLDAvis.gensim.prepare(lda_model, doc_term_matrix, dictionary)"
   ]
  },
  {
   "cell_type": "markdown",
   "metadata": {
    "cell_id": "0bfa4acb7ad744f1a4a0d6087128f2da",
    "deepnote_app_block_visible": true,
    "deepnote_cell_type": "markdown",
    "id": "1uMnm7RfMnmL"
   },
   "source": [
    "### Obervations :-\n",
    "Here we use the pyLDAvis library to create an interactive visualization of the topics and their interrelationships generated by the LDA model. The 'enable_notebook()' method is called to enable the notebook mode in pyLDAvis. Then, the 'pyLDAvis.gensim.prepare()' method is called to prepare the LDA model by computing the term frequencies, topic-term distributions, and topic-topic interrelationships.\n",
    "The 'vis' object contains all the data needed to display the interactive visualization. This code is useful for visualizing the generated topics and their interrelationships in an interactive and intuitive way."
   ]
  },
  {
   "cell_type": "code",
   "execution_count": null,
   "metadata": {
    "cell_id": "8192763ceb29495dab56d83697056fc6",
    "deepnote_app_block_visible": true,
    "deepnote_cell_type": "code",
    "deepnote_to_be_reexecuted": false,
    "execution_millis": 220,
    "execution_start": 1709978994772,
    "id": "20Y3TY89MnmL",
    "outputId": "17ef7302-cd15-4cc2-91b1-58a16073e67f",
    "scrolled": true,
    "source_hash": "3725610b"
   },
   "outputs": [
    {
     "data": {
      "text/html": [
       "\n",
       "<link rel=\"stylesheet\" type=\"text/css\" href=\"https://cdn.jsdelivr.net/gh/bmabey/pyLDAvis@3.4.0/pyLDAvis/js/ldavis.v1.0.0.css\">\n",
       "\n",
       "\n",
       "<div id=\"ldavis_el831399454757104647742964468\" style=\"background-color:white;\"></div>\n",
       "<script type=\"text/javascript\">\n",
       "\n",
       "var ldavis_el831399454757104647742964468_data = {\"mdsDat\": {\"x\": [0.16938384311849508, -0.25554728900757595, 0.2977573300131701, -0.17573247414698903, 0.22866488834720392, -0.2582872565810216, -0.07354904801760857, 0.08797422479315792, -0.058186849780052084, -0.0588489531604045, 0.11491840893581855, -0.05810370947324779, 0.14093590789098137, -0.05022628612859684, -0.05115273680333035], \"y\": [-0.2146131421744733, -0.20248206523825615, -0.18288748243558076, -0.12412427370750635, -0.06730974428512855, -0.20893261130563698, 0.06744609980508379, 0.09091794674307414, 0.12226098281449117, 0.1439193303117188, 0.06292345915333744, 0.15673862527908172, 0.0582100019422323, 0.1471215994604369, 0.1508112736371259], \"topics\": [1, 2, 3, 4, 5, 6, 7, 8, 9, 10, 11, 12, 13, 14, 15], \"cluster\": [1, 1, 1, 1, 1, 1, 1, 1, 1, 1, 1, 1, 1, 1, 1], \"Freq\": [16.470677192898556, 10.762286245475408, 9.654021607440324, 7.72778085413577, 7.611307524978084, 7.345727675828197, 7.122991456931378, 6.764398486411205, 5.6027166352265745, 4.4796326634125805, 4.3997237293354505, 4.039180496511722, 3.8755231896607736, 3.143999541609778, 1.0000327001441995]}, \"tinfo\": {\"Term\": [\"good\", \"boat\", \"product\", \"nice\", \"sound\", \"battery\", \"quality\", \"love\", \"charge\", \"rockerz\", \"price\", \"driver\", \"hour\", \"awesome\", \"amaze\", \"get\", \"headphone\", \"work\", \"really\", \"great\", \"watch\", \"easy\", \"music\", \"airdope\", \"use\", \"also\", \"superb\", \"well\", \"technology\", \"basshead\", \"sound\", \"use\", \"money\", \"buy\", \"earphone\", \"worth\", \"value\", \"build\", \"overall\", \"touch\", \"first\", \"voice\", \"super\", \"packaging\", \"order\", \"colour\", \"comfortable\", \"week\", \"light\", \"beautiful\", \"even\", \"clarity\", \"blue\", \"connect\", \"base\", \"smart\", \"smooth\", \"big\", \"wire\", \"clear\", \"quality\", \"look\", \"bass\", \"good\", \"time\", \"watch\", \"airdope\", \"basshead\", \"go\", \"audio\", \"display\", \"mode\", \"always\", \"smartwatch\", \"wave\", \"stone\", \"make\", \"sport\", \"edition\", \"come\", \"storm\", \"people\", \"customer\", \"fitness\", \"health\", \"measure\", \"inch\", \"late\", \"alexa\", \"meter\", \"mechanism\", \"select\", \"track\", \"sunburn\", \"deuce\", \"boat\", \"excellent\", \"perfect\", \"performance\", \"service\", \"fit\", \"feel\", \"button\", \"size\", \"staisfie\", \"bit\", \"actually\", \"introduction\", \"good\", \"product\", \"k\", \"sonda\", \"serivice\", \"compare\", \"flipkart\", \"better\", \"find\", \"condition\", \"far\", \"parcel\", \"pack\", \"band\", \"follow\", \"maintain\", \"tha\", \"prococt\", \"company\", \"help\", \"effect\", \"charge\", \"music\", \"type\", \"c\", \"dual\", \"day\", \"volume\", \"point\", \"last\", \"package\", \"color\", \"nd\", \"power\", \"expect\", \"stylish\", \"datum\", \"see\", \"outstanding\", \"level\", \"quite\", \"usb\", \"flexible\", \"charger\", \"pretty\", \"next\", \"black\", \"car\", \"port\", \"rapid\", \"hard\", \"full\", \"time\", \"boat\", \"bass\", \"nice\", \"great\", \"fast\", \"design\", \"delivery\", \"satisfy\", \"bluetooth\", \"premium\", \"keep\", \"never\", \"brand\", \"bad\", \"want\", \"item\", \"exchange\", \"return\", \"policy\", \"sleek\", \"beat\", \"product\", \"quality\", \"genuine\", \"unique\", \"pack\", \"especially\", \"changer\", \"parcel\", \"drain\", \"happen\", \"know\", \"purpose\", \"rockerz\", \"hour\", \"thank\", \"upto\", \"resistance\", \"r\", \"satisfied\", \"noise\", \"sweat\", \"playtime\", \"pairing\", \"uninterepte\", \"mm\", \"uninterrupted\", \"fully\", \"panel\", \"cancellation\", \"bliss\", \"metallic\", \"peerless\", \"e\", \"signature\", \"cvc\", \"uninterrupte\", \"ipx5\", \"rugby\", \"water\", \"ipx7\", \"boat\", \"nonstop\", \"driver\", \"technology\", \"wireless\", \"playback\", \"dynamic\", \"enx\", \"pro\", \"asap\", \"control\", \"trebel\", \"ear\", \"earbud\", \"total\", \"asaptm\", \"beast\", \"case\", \"friendly\", \"active\", \"mic\", \"quad\", \"iwp\", \"gamer\", \"resistant\", \"pocket\", \"gesture\", \"mah\", \"portable\", \"nonstop\", \"water\", \"extend\", \"also\", \"purchase\", \"happy\", \"feature\", \"experience\", \"year\", \"low\", \"ever\", \"enough\", \"right\", \"talk\", \"game\", \"p\", \"star\", \"rude\", \"recommend\", \"deliver\", \"new\", \"run\", \"partner\", \"budget\", \"small\", \"mind\", \"early\", \"alsoooo\", \"avoid\", \"block\", \"cab\", \"cause\", \"club\", \"product\", \"battery\", \"backup\", \"call\", \"life\", \"much\", \"neckband\", \"face\", \"monitoring\", \"month\", \"impress\", \"give\", \"rate\", \"think\", \"almost\", \"hesitation\", \"heart\", \"still\", \"material\", \"take\", \"listen\", \"connectivity\", \"disturbance\", \"leave\", \"speed\", \"transfer\", \"second\", \"especially\", \"believe\", \"purpose\", \"drain\", \"recently\", \"price\", \"headphone\", \"range\", \"friend\", \"enjoy\", \"decent\", \"high\", \"heavy\", \"suggest\", \"way\", \"hear\", \"praise\", \"studio\", \"definitely\", \"end\", \"less\", \"similar\", \"market\", \"candy\", \"skull\", \"girl\", \"accord\", \"\\u0930\", \"available\", \"specification\", \"ui\", \"military\", \"crisp\", \"congratulation\", \"instrument\", \"amaze\", \"easy\", \"amazing\", \"long\", \"speaker\", \"carry\", \"turn\", \"wear\", \"loud\", \"operate\", \"song\", \"bud\", \"launch\", \"team\", \"function\", \"loving\", \"ask\", \"strap\", \"due\", \"listening\", \"sure\", \"area\", \"scratch\", \"show\", \"softness\", \"suddenly\", \"open\", \"however\", \"assure\", \"initially\", \"product\", \"bass\", \"awesome\", \"get\", \"superb\", \"cable\", \"receive\", \"durable\", \"phone\", \"output\", \"original\", \"feedback\", \"cost\", \"hope\", \"offer\", \"laptop\", \"break\", \"initial\", \"let\", \"op\", \"cell\", \"hence\", \"length\", \"lite\", \"note\", \"oneplus\", \"simple\", \"support\", \"w\", \"daily\", \"unbox\", \"usage\", \"love\", \"really\", \"thing\", \"cheap\", \"accessory\", \"affordable\", \"highly\", \"gift\", \"simply\", \"air\", \"personalization\", \"worthy\", \"birthday\", \"brother\", \"product\", \"provide\", \"store\", \"miss\", \"future\", \"adorable\", \"system\", \"family\", \"commercially\", \"emi\", \"lover\", \"bonus\", \"flexibility\", \"pouch\", \"blood\", \"meditation\", \"amazed\", \"deal\", \"work\", \"well\", \"say\", \"need\", \"v2\", \"perfectly\", \"back\", \"attractive\", \"fine\", \"cycle\", \"handle\", \"machine\", \"pass\", \"test\", \"wash\", \"data\", \"chic\", \"image\", \"continue\", \"charm\", \"v1\", \"visually\", \"check\", \"look\", \"properly\", \"bonus\", \"flexibility\", \"review\", \"betry\", \"eryte\", \"provide\", \"ment\", \"jakash\", \"mast\", \"reply\", \"deep\", \"mehta\", \"osm\", \"complicate\", \"manual\", \"wonderfull\", \"ritesh\", \"\\ud835\\ude78\", \"\\ud835\\ude95\\ud835\\ude92\\ud835\\ude94\\ud835\\ude8e\", \"summary\", \"nish\", \"misfit\", \"supr\", \"message\", \"gooooooooddddddd\", \"veerrrrrrrrry\", \"com\", \"gmail\", \"ss0050985\", \"subwoofer\", \"coaxial\", \"directly\", \"understand\", \"epic\", \"home\", \"soundbar\", \"awsome\", \"wonderful\", \"fantastic\", \"cool\", \"blaze\", \"replace\", \"review\", \"today\", \"sonda\", \"serivice\", \"provide\", \"u\", \"condition\", \"problem\", \"useful\"], \"Freq\": [1238.0, 827.0, 820.0, 315.0, 423.0, 230.0, 456.0, 195.0, 219.0, 195.0, 151.0, 176.0, 167.0, 134.0, 125.0, 116.0, 116.0, 103.0, 109.0, 139.0, 157.0, 109.0, 131.0, 148.0, 187.0, 119.0, 90.0, 77.0, 101.0, 114.0, 421.9012079244727, 186.28274602575752, 81.91649265740212, 73.94253547536492, 49.3038182668315, 47.07890768205847, 44.27208557126422, 42.32836700502622, 37.89718462539903, 34.923858061775334, 28.367380614170408, 27.86315141726888, 27.69870626165939, 24.493106738866036, 22.680516670430748, 22.35036259096426, 22.14242612921878, 17.489264887545787, 16.9625554274891, 16.15961824080348, 15.94051570573311, 15.083451492234905, 14.385883670783391, 13.429067768863971, 12.64578946480362, 12.188394945800633, 11.921988299068706, 11.496596501131236, 11.38721126742063, 10.727497963485064, 384.44852570966896, 72.37854940530531, 114.63674741039601, 462.1992177635176, 26.76505387000059, 156.46858566282444, 147.86435254183104, 113.70913224748469, 88.31990286352159, 83.69771118367369, 59.03855852968114, 57.163726682148074, 54.41250804052871, 51.957630967829346, 47.059437640274176, 30.388604063257915, 25.016098758688724, 23.947252289532447, 21.443782629923525, 20.01101703780113, 17.263910088620317, 16.5836919222365, 13.679169905140443, 11.82208124367527, 10.201243967160485, 10.201243967160485, 9.441158438617887, 8.525492025385288, 6.867123457564438, 6.771354897598011, 6.320710518469432, 6.320710518469432, 6.320710518469432, 5.615832734251536, 5.460232727225783, 472.7672794149511, 92.451701756484, 63.56937464495166, 22.727046082016518, 22.70492197934376, 18.800356720440256, 16.795945224260567, 13.57637018929893, 8.718064269625723, 7.89721315176767, 7.616778248183319, 6.759876745175805, 2.1199115644035413, 775.0041576409371, 392.6654299074303, 0.0635715261439236, 0.062247471237429, 0.062247471237429, 0.06156166124897078, 0.061494098720239095, 0.061389855952058356, 0.06129105012959971, 0.061002410667069684, 0.06103144964578054, 0.060958570506141535, 0.060958340776040607, 0.06031974032332422, 0.06058677968660219, 0.06058677968660219, 0.06013385038331885, 0.06013385038331885, 0.06086480233661051, 0.06058662653320157, 0.060415515896356256, 218.5447969396113, 130.85147062728615, 83.13300089205686, 74.54251691215036, 43.166783978217644, 39.463870037904194, 38.36894627926725, 31.16112674740327, 26.89700906587119, 25.364526938766822, 19.671706209217767, 18.189903082435876, 16.681195721462355, 15.585453727981436, 15.21780512040916, 13.401136581557088, 13.359949105424702, 10.55999430413417, 8.962178366477836, 8.676645790281347, 8.173032331642647, 8.088707626622956, 8.01562076070693, 7.942683530889084, 7.407802292514113, 7.167080403591303, 7.150133975363862, 6.6777019894984395, 4.119500557425465, 3.9536395908560755, 28.49940431647965, 62.49608244349524, 87.03360933763145, 29.056312885202242, 314.70395420629166, 138.28021103966907, 64.58907539096805, 44.98827084260036, 40.59275558667031, 34.704196867951076, 31.06521640456175, 25.00912713953072, 23.744918003146473, 22.115805098405197, 19.18639629402225, 18.3384092443388, 10.00078493445227, 9.3525369271047, 7.939703935168156, 6.179927206325066, 4.650767724917892, 4.29973348141689, 3.395843025605196, 232.46631870106336, 71.34184408478886, 0.07225046414572633, 0.07088351777285334, 0.0700422019113588, 0.07152141745538258, 0.06970765841092229, 0.0694076443432815, 0.06847874352111737, 0.06847874352111737, 0.06847874352111737, 0.06870738727368764, 193.87241863078896, 166.85675720922472, 75.16517796942397, 45.72611770770521, 27.750062546257393, 27.58466982658253, 27.453113828662428, 25.474915384793096, 23.5306857791058, 20.65416168793937, 18.109062309157892, 18.109062309157892, 18.108836432685447, 18.10881512358427, 15.909788333334998, 10.632528696568041, 9.225451455098435, 9.078328093315406, 9.078328093315406, 9.078328093315406, 7.874574837066067, 5.9519675763403885, 4.5628501780680555, 4.5628501780680555, 4.5627430998346545, 3.2913153346207458, 25.47915802683691, 2.051339270012653, 266.92796148939004, 7.4856166169654195, 175.19467167769224, 100.51513824892379, 86.01232078802731, 72.84154577712359, 71.69512291315203, 66.32704465423076, 65.28777994916763, 61.30102945466804, 53.63951037428717, 37.69485570960391, 34.30827562316564, 26.874900519672465, 23.929888087663965, 17.531198775231978, 16.392326160251006, 15.192459559274313, 13.852753213959693, 13.28436348586541, 10.092059736446183, 10.092059736446183, 10.067751819334758, 8.025089707933352, 7.9568161578451875, 7.281108649404474, 6.37846749750416, 6.268017211008383, 5.297927994644352, 29.309295852664963, 9.672052857356372, 0.05908415052000857, 118.02669577617131, 60.37392931531864, 43.18882653395728, 41.01496132125481, 36.6217336274768, 31.56649968254672, 30.843782658247324, 29.837925297189344, 26.35447029082337, 23.414888759339537, 21.09515599976484, 18.133679422973213, 18.01742257996321, 17.782171522711412, 16.89884831690036, 15.291202947243237, 13.179877346389185, 13.047371899447368, 12.175077650631517, 11.962093489474913, 11.606524664650959, 9.673069325665077, 9.121136794403737, 9.105487664960318, 9.04180208551378, 9.04180208551378, 9.04180208551378, 9.04180208551378, 9.04180208551378, 9.04180208551378, 57.469764854345684, 229.4125296887583, 76.73721192722195, 75.48935222397961, 73.78303272093704, 49.500545596003064, 31.735637925035338, 27.48753849818556, 27.308156024759764, 22.215668498187924, 20.985056297056605, 20.352379172879687, 20.344568063273048, 18.320343225428594, 14.209957269071836, 13.969374768130878, 13.32389610320975, 12.66381833465949, 12.655700046585178, 11.092617537963681, 9.985743812328993, 7.70609601540413, 6.877832347310744, 6.8642848017164635, 5.488534837815157, 3.355534285151579, 0.07894882781997091, 0.07977817920864363, 0.0755066246640251, 0.0752089756870888, 0.07262574724013189, 0.07319266623090688, 150.35678647985975, 115.40434982545048, 33.47858187250682, 29.07076352468603, 26.56315720234724, 24.986476430582183, 20.640721692050622, 20.322722364312405, 18.5699841822935, 18.54671682625657, 18.1915534038353, 14.604404136869764, 14.604404136869764, 14.598453775334265, 13.886332335759134, 11.735804883079732, 11.376081552681159, 10.186105407790224, 9.667817092695644, 9.667817092695644, 9.517289449361735, 8.604352079516362, 8.578271978875025, 7.279798223042273, 5.037593099262662, 3.806929294433484, 3.355193349565893, 2.218988772697972, 0.08215996268737358, 0.08215996268737358, 124.83373806751351, 108.41400680205143, 75.79779107579739, 47.43903981324886, 35.44144235413983, 23.89993889807269, 15.140071024093912, 14.18982859915741, 12.570185258312833, 10.82815795686425, 10.553110250974475, 9.430730801450975, 9.372164826206307, 9.205973485487883, 8.331971358048282, 6.913797805450576, 6.642337803189559, 6.310267179218818, 5.056386777292625, 5.056386777292625, 4.424178133740927, 0.09375141177989396, 0.09375141177989396, 0.09375141177989396, 0.09375141177989396, 0.09375141177989396, 0.09375107276040752, 0.09374849022961373, 0.08906083787709583, 0.08861405007861071, 57.860687082003125, 4.046489685828877, 133.7731067804209, 115.72541500040786, 89.21378572154657, 65.02576009626637, 31.254390291561883, 27.9044379009224, 20.67149693796178, 6.528635748969352, 5.788972148771085, 5.34634992610005, 4.5123676124618965, 4.109796511628537, 3.855704796454929, 2.426768700958451, 2.3373792639745674, 2.3373792639745674, 2.3373792639745674, 2.3373792639745674, 2.337353193221064, 2.337353193221064, 2.337353193221064, 2.337353193221064, 2.337353193221064, 2.337353193221064, 2.337353193221064, 2.337353193221064, 2.337353193221064, 0.10230468504957979, 0.10230468504957979, 0.10230468504957979, 194.72011699876685, 108.15122866957492, 37.350584457842295, 20.726970399736608, 19.221800814941204, 16.035751274229657, 14.205048917887348, 8.064150651739384, 6.074183368117053, 5.479034919843307, 5.246054426033867, 5.246054426033867, 3.484411860017436, 3.484411860017436, 79.13673491503756, 0.11299067679018103, 0.09638859411604835, 0.09658199046419534, 0.09367477406743303, 0.093454123581119, 0.093454123581119, 0.09339720871959065, 0.09198324330323236, 0.09198324330323236, 0.09147743003771451, 0.0923478936591077, 0.0923478936591077, 0.09112498827096331, 0.08972266932164, 0.08972266932164, 0.09047538593166761, 0.09047538593166761, 102.56671419907084, 76.87526210491727, 50.16359736484459, 33.65919568018048, 27.058654947916523, 20.348421619720856, 15.090536247044124, 9.347560832951439, 9.332667257625804, 5.845151451479007, 5.845151451479007, 5.845151451479007, 5.845151451479007, 5.845151451479007, 5.845151451479007, 4.046206832375436, 4.041052907441867, 4.041052907441867, 3.5687434780548153, 2.601492404234437, 2.601492404234437, 2.601492404234437, 2.064772137724153, 11.404941817311297, 0.09254888826722615, 0.09232754812259417, 0.09232754812259417, 0.09226267231726085, 0.09095106237831012, 0.09095106237831012, 0.09231078943021152, 0.1728581576159562, 0.17285813948484063, 0.17285813948484063, 0.17285812135372505, 0.17285812135372505, 0.17285812135372505, 0.17285812135372505, 0.17285812135372505, 0.17285812135372505, 0.1728581032226095, 0.1728581032226095, 0.17285808509149395, 0.17285808509149395, 0.17285808509149395, 0.17285808509149395, 0.17285808509149395, 0.17285808509149395, 0.17285808509149395, 0.17285806696037836, 0.17285806696037836, 0.17285806696037836, 0.17285806696037836, 0.17285806696037836, 0.1728580488292628, 0.1728580488292628, 0.1728580488292628, 0.17285812135372505, 0.1728580488292628, 0.1728580488292628, 0.1728580488292628, 0.17285823014041846, 0.17285823014041846, 0.17285819387818732, 0.1728581576159562, 0.1728581576159562, 0.1728581576159562, 0.17285812135372505, 0.17285812135372505, 0.1728581032226095, 0.1728581032226095, 0.17285808509149395, 0.17285808509149395, 0.17285808509149395, 0.17285808509149395, 0.17285808509149395], \"Total\": [1238.0, 827.0, 820.0, 315.0, 423.0, 230.0, 456.0, 195.0, 219.0, 195.0, 151.0, 176.0, 167.0, 134.0, 125.0, 116.0, 116.0, 103.0, 109.0, 139.0, 157.0, 109.0, 131.0, 148.0, 187.0, 119.0, 90.0, 77.0, 101.0, 114.0, 423.01416603666473, 187.39570577453412, 83.02945097693399, 75.05549416202977, 50.41677791509693, 48.19186686458411, 45.38504321461123, 43.44132556380363, 39.01014238996931, 36.03682028581648, 29.48034066988004, 28.97611019006085, 28.811664402941368, 25.606066534185942, 23.793475493150996, 23.463319961568235, 23.25538351719745, 18.60222505965005, 18.075513680300283, 17.272576960990875, 17.05347511449527, 16.196410045353183, 15.498840894794366, 14.542026168654786, 13.758747222640732, 13.301352940145094, 13.034946701692984, 12.609554542430523, 12.50016854449036, 11.840455388567781, 456.8370856900793, 84.81319916261184, 148.69032855540408, 1238.2577198947333, 90.29530132418088, 157.57172909563397, 148.9674981454931, 114.81227499396827, 89.42304953820336, 84.8008595124727, 60.141701656294664, 58.26687119379595, 55.51565412002153, 53.06077394283353, 48.16258058556323, 31.491748621874052, 26.119241688806994, 25.050394994668636, 22.546925449281854, 21.114166762038487, 18.367052835788236, 17.68683947594205, 14.782313482232446, 12.925223868498307, 11.304386607064636, 11.304386607064636, 10.544301533491549, 9.628635508558297, 7.97026645665967, 7.874497654290388, 7.423853128583553, 7.423853128583553, 7.423853128583553, 6.718975317016835, 6.563375309991082, 827.705345894685, 93.57568210013058, 64.69335688482715, 23.85102619388745, 23.828902614684534, 19.9243370826647, 17.91992652435834, 14.700350821198478, 9.842044548463235, 9.02119302413648, 8.740759685268992, 7.883857802162166, 3.2438920300564504, 1238.2577198947333, 820.419669567108, 1.1879814191932525, 1.1862273979995834, 1.1862273979995834, 1.185593058223884, 1.1854739892201622, 1.188310300484386, 1.1878030092225298, 1.1860106430830373, 1.1875860668411586, 1.1881032191469552, 1.189843252093201, 1.185104700137636, 1.1914264821308789, 1.1914264821308789, 1.1841137590143578, 1.1841137590143578, 1.1995734672561906, 1.1968558120047001, 1.1965832267232415, 219.648597943311, 131.95527206803064, 84.23680104574471, 75.64631704031764, 44.27058432558992, 40.56767111110083, 39.472746993310494, 32.264929616729084, 28.000810766407664, 26.468328077195352, 20.77550734139016, 19.293706455434506, 17.784995664939146, 16.689254326708557, 16.32160709449586, 14.504936883890782, 14.46375022791409, 11.663794480264436, 10.06597826530657, 9.780446144508144, 9.276832264478369, 9.1925097534357, 9.119420829124678, 9.046484890142965, 8.511602607627125, 8.270880560306441, 8.2539339863521, 7.781501865230712, 5.223300437235665, 5.057439676620991, 37.23925702535632, 90.29530132418088, 827.705345894685, 148.69032855540408, 315.8203053393974, 139.3965634364141, 65.70542759404441, 46.10462306745451, 41.70910690066052, 35.82055294397404, 32.18156930359985, 26.125478982011874, 24.861269630256064, 23.23215800423151, 20.302747297659614, 19.45476125735139, 11.117136532534204, 10.468887709577526, 9.05605906102517, 7.2962779184451705, 5.767118484758574, 5.416084355256677, 4.51219399617922, 820.419669567108, 456.8370856900793, 1.1909485422861557, 1.1999770665261076, 1.189843252093201, 1.2189050840355302, 1.1909022657135129, 1.1881032191469552, 1.1889534232813155, 1.1889534232813155, 1.1889534232813155, 1.2006019152779253, 195.00715837513656, 167.9914974098155, 76.29991815931491, 46.86085702142632, 28.884801886568876, 28.719409227936726, 28.587853816689417, 26.609655367624388, 24.665425133851897, 21.78890199724053, 19.24380173472259, 19.24380173472259, 19.243576065314095, 19.243554805870584, 17.0445303609475, 11.767268962240577, 10.36019116794497, 10.213067251637522, 10.213067251637522, 10.213067251637522, 9.009316143944881, 7.086707906135623, 5.697589402150293, 5.697589402150293, 5.697482616935357, 4.4260544727925035, 36.232099113242235, 3.1860785304367214, 827.705345894685, 37.87580087303309, 176.32341514068543, 101.6438808716555, 87.14106424019253, 73.97028840366481, 72.82386591113182, 67.45578730876215, 66.41652304142241, 62.42977340924778, 54.768253997390914, 38.82359820966283, 35.43701944969649, 28.003647334240657, 25.05863081559514, 18.659941269469762, 17.521072268303826, 16.321202477706866, 14.981495946818548, 14.413106488032174, 11.220802361028511, 11.220802361028511, 11.196494609709319, 9.153832363971254, 9.085559048616254, 8.409851195521213, 7.507210236472519, 7.396759820419981, 6.426670930827903, 37.87580087303309, 36.232099113242235, 1.1992370392232663, 119.14218520168042, 61.489418531998375, 44.304315371598385, 42.130450638883325, 37.73722266523813, 32.68198889117548, 31.959271320756606, 30.9534146587705, 27.469959138596046, 24.530377498366423, 22.210644648404962, 19.24916884063506, 19.132911074640813, 18.897659612358268, 18.014337801749146, 16.406691504512565, 14.295365870774955, 14.162861971095568, 13.29056622377587, 13.077583226329786, 12.72201304229731, 10.788557872357437, 10.236625463318218, 10.22097618301316, 10.157290624392857, 10.157290624392857, 10.157290624392857, 10.157290624392857, 10.157290624392857, 10.157290624392857, 820.419669567108, 230.52607945019898, 77.85076160868005, 76.60290156856973, 74.89658243096514, 50.614095860304, 32.849188798530975, 28.601087984783444, 28.42170791912946, 23.329220434080394, 22.098606481771665, 21.465928912275974, 21.458117051691524, 19.43389311138966, 15.32350792144446, 15.082924982318984, 14.437445078382972, 13.777367936262797, 13.769250402347264, 12.20616794891955, 11.099294110117283, 8.819645251308787, 7.991381735712169, 7.97783383561199, 6.60208392539601, 4.4690836085431505, 1.1976642295832858, 1.2189050840355302, 1.2006505904896358, 1.2006019152779253, 1.1889534232813155, 1.201560783227492, 151.4676299832113, 116.51519340793445, 34.589425169635554, 30.181608162681826, 27.674000777705622, 26.0973232006791, 21.75156623425163, 21.433566545828956, 19.680827935084697, 19.65756038547457, 19.302398149503176, 15.715247675798247, 15.715247675798247, 15.709299101059488, 14.997178413377767, 12.846648858167486, 12.486924683647448, 11.296950490166823, 10.778660376485643, 10.778660376485643, 10.628132837943024, 9.715195435541084, 9.689115309081345, 8.390641659611957, 6.148436244697991, 4.917772301505179, 4.466036486905656, 3.3298318611846414, 1.19600795591183, 1.19600795591183, 125.93294622183237, 109.51321718976428, 76.89699920239102, 48.538248776741405, 36.5406507169976, 24.999147343233773, 16.23927970655882, 15.28903670643725, 13.66939326158246, 11.927365803143394, 11.65231819470713, 10.529939022145598, 10.471373042818842, 10.3051816442122, 9.431179180968666, 8.013005622753951, 7.741545810040037, 7.409474970949162, 6.155594654833725, 6.155594654833725, 5.523386068366194, 1.1956772641750233, 1.1956772641750233, 1.1956772641750233, 1.1956772641750233, 1.1956772641750233, 1.1967942069433553, 1.1968457793336416, 1.1914604611533022, 1.191455911218891, 820.419669567108, 148.69032855540408, 134.8614578882613, 116.81376785477548, 90.30213761499478, 66.11411104140699, 32.34274279919447, 28.99279092933203, 21.759848124650368, 7.6169867837091845, 6.877322917684346, 6.434700896442952, 5.600718399243241, 5.198148067289277, 4.9440555402421085, 3.5151194831221897, 3.425730017558207, 3.425730017558207, 3.425730017558207, 3.425730017558207, 3.42570398151729, 3.42570398151729, 3.42570398151729, 3.42570398151729, 3.42570398151729, 3.42570398151729, 3.42570398151729, 3.42570398151729, 3.42570398151729, 1.2003469275211047, 1.2003469275211047, 1.2003469275211047, 195.81619857459071, 109.24731043433916, 38.446666702151724, 21.823052142758396, 20.31788324030587, 17.131832868214527, 15.301130938225025, 9.160232073746029, 7.170264738293882, 6.575116664822518, 6.342135749171808, 6.342135749171808, 4.580493061288916, 4.580493061288916, 820.419669567108, 1.2348181990439033, 1.1979362780418117, 1.200383444861089, 1.194854370430552, 1.1936460002704892, 1.1936460002704892, 1.195048554552288, 1.191234242797256, 1.191234242797256, 1.1932461871575584, 1.2051302662417245, 1.2051302662417245, 1.1897724899000028, 1.1863732092048478, 1.1863732092048478, 1.197042974628994, 1.197042974628994, 103.6660589599085, 77.97460639052632, 51.26294284245188, 34.758541235610984, 28.158000668166707, 21.447765892002298, 16.18988014458987, 10.446905682693775, 10.432011098259084, 6.944495244846146, 6.944495244846146, 6.944495244846146, 6.944495244846146, 6.944495244846146, 6.944495244846146, 5.145550592083167, 5.140396591871192, 5.140396591871192, 4.668087267862888, 3.700836099688667, 3.700836099688667, 3.700836099688667, 3.1641158138029875, 84.81319916261184, 1.1976874385657053, 1.2051302662417245, 1.2051302662417245, 1.2105850248640957, 1.1936289608659907, 1.1936289608659907, 1.2348181990439033, 1.1825937278313996, 1.182593704624154, 1.182593704624154, 1.1825936635702432, 1.1825936635702432, 1.1825936635702432, 1.1825936635702432, 1.1825936635702432, 1.1825936635702432, 1.182593631188539, 1.182593631188539, 1.1825936130574235, 1.1825936130574235, 1.1825936130574235, 1.1825936130574235, 1.1825936130574235, 1.1825936130574235, 1.1825936130574235, 1.1825935949263078, 1.1825935949263078, 1.1825935949263078, 1.1825935949263078, 1.1825935949263078, 1.182627691715181, 1.1826349452999827, 1.1826349452999827, 1.182653025052455, 1.1826529201623093, 1.1826529201623093, 1.1826529201623093, 1.1826904852241615, 1.1853675868705769, 1.188164267423842, 1.1873984292683069, 1.1862708688485875, 1.1863570295814525, 1.2105850248640957, 1.20133044650064, 1.1862273979995834, 1.1862273979995834, 1.2348181990439033, 1.187457725325221, 1.1860106430830373, 1.191819773830105, 1.1843693289183534], \"Category\": [\"Default\", \"Default\", \"Default\", \"Default\", \"Default\", \"Default\", \"Default\", \"Default\", \"Default\", \"Default\", \"Default\", \"Default\", \"Default\", \"Default\", \"Default\", \"Default\", \"Default\", \"Default\", \"Default\", \"Default\", \"Default\", \"Default\", \"Default\", \"Default\", \"Default\", \"Default\", \"Default\", \"Default\", \"Default\", \"Default\", \"Topic1\", \"Topic1\", \"Topic1\", \"Topic1\", \"Topic1\", \"Topic1\", \"Topic1\", \"Topic1\", \"Topic1\", \"Topic1\", \"Topic1\", \"Topic1\", \"Topic1\", \"Topic1\", \"Topic1\", \"Topic1\", \"Topic1\", \"Topic1\", \"Topic1\", \"Topic1\", \"Topic1\", \"Topic1\", \"Topic1\", \"Topic1\", \"Topic1\", \"Topic1\", \"Topic1\", \"Topic1\", \"Topic1\", \"Topic1\", \"Topic1\", \"Topic1\", \"Topic1\", \"Topic1\", \"Topic1\", \"Topic2\", \"Topic2\", \"Topic2\", \"Topic2\", \"Topic2\", \"Topic2\", \"Topic2\", \"Topic2\", \"Topic2\", \"Topic2\", \"Topic2\", \"Topic2\", \"Topic2\", \"Topic2\", \"Topic2\", \"Topic2\", \"Topic2\", \"Topic2\", \"Topic2\", \"Topic2\", \"Topic2\", \"Topic2\", \"Topic2\", \"Topic2\", \"Topic2\", \"Topic2\", \"Topic2\", \"Topic2\", \"Topic2\", \"Topic2\", \"Topic2\", \"Topic3\", \"Topic3\", \"Topic3\", \"Topic3\", \"Topic3\", \"Topic3\", \"Topic3\", \"Topic3\", \"Topic3\", \"Topic3\", \"Topic3\", \"Topic3\", \"Topic3\", \"Topic3\", \"Topic3\", \"Topic3\", \"Topic3\", \"Topic3\", \"Topic3\", \"Topic3\", \"Topic3\", \"Topic3\", \"Topic3\", \"Topic3\", \"Topic3\", \"Topic3\", \"Topic3\", \"Topic3\", \"Topic3\", \"Topic3\", \"Topic3\", \"Topic3\", \"Topic3\", \"Topic4\", \"Topic4\", \"Topic4\", \"Topic4\", \"Topic4\", \"Topic4\", \"Topic4\", \"Topic4\", \"Topic4\", \"Topic4\", \"Topic4\", \"Topic4\", \"Topic4\", \"Topic4\", \"Topic4\", \"Topic4\", \"Topic4\", \"Topic4\", \"Topic4\", \"Topic4\", \"Topic4\", \"Topic4\", \"Topic4\", \"Topic4\", \"Topic4\", \"Topic4\", \"Topic4\", \"Topic4\", \"Topic4\", \"Topic4\", \"Topic4\", \"Topic4\", \"Topic4\", \"Topic4\", \"Topic5\", \"Topic5\", \"Topic5\", \"Topic5\", \"Topic5\", \"Topic5\", \"Topic5\", \"Topic5\", \"Topic5\", \"Topic5\", \"Topic5\", \"Topic5\", \"Topic5\", \"Topic5\", \"Topic5\", \"Topic5\", \"Topic5\", \"Topic5\", \"Topic5\", \"Topic5\", \"Topic5\", \"Topic5\", \"Topic5\", \"Topic5\", \"Topic5\", \"Topic5\", \"Topic5\", \"Topic5\", \"Topic5\", \"Topic5\", \"Topic5\", \"Topic6\", \"Topic6\", \"Topic6\", \"Topic6\", \"Topic6\", \"Topic6\", \"Topic6\", \"Topic6\", \"Topic6\", \"Topic6\", \"Topic6\", \"Topic6\", \"Topic6\", \"Topic6\", \"Topic6\", \"Topic6\", \"Topic6\", \"Topic6\", \"Topic6\", \"Topic6\", \"Topic6\", \"Topic6\", \"Topic6\", \"Topic6\", \"Topic6\", \"Topic6\", \"Topic6\", \"Topic6\", \"Topic6\", \"Topic6\", \"Topic7\", \"Topic7\", \"Topic7\", \"Topic7\", \"Topic7\", \"Topic7\", \"Topic7\", \"Topic7\", \"Topic7\", \"Topic7\", \"Topic7\", \"Topic7\", \"Topic7\", \"Topic7\", \"Topic7\", \"Topic7\", \"Topic7\", \"Topic7\", \"Topic7\", \"Topic7\", \"Topic7\", \"Topic7\", \"Topic7\", \"Topic7\", \"Topic7\", \"Topic7\", \"Topic7\", \"Topic7\", \"Topic7\", \"Topic7\", \"Topic8\", \"Topic8\", \"Topic8\", \"Topic8\", \"Topic8\", \"Topic8\", \"Topic8\", \"Topic8\", \"Topic8\", \"Topic8\", \"Topic8\", \"Topic8\", \"Topic8\", \"Topic8\", \"Topic8\", \"Topic8\", \"Topic8\", \"Topic8\", \"Topic8\", \"Topic8\", \"Topic8\", \"Topic8\", \"Topic8\", \"Topic8\", \"Topic8\", \"Topic8\", \"Topic8\", \"Topic8\", \"Topic8\", \"Topic8\", \"Topic8\", \"Topic9\", \"Topic9\", \"Topic9\", \"Topic9\", \"Topic9\", \"Topic9\", \"Topic9\", \"Topic9\", \"Topic9\", \"Topic9\", \"Topic9\", \"Topic9\", \"Topic9\", \"Topic9\", \"Topic9\", \"Topic9\", \"Topic9\", \"Topic9\", \"Topic9\", \"Topic9\", \"Topic9\", \"Topic9\", \"Topic9\", \"Topic9\", \"Topic9\", \"Topic9\", \"Topic9\", \"Topic9\", \"Topic9\", \"Topic9\", \"Topic9\", \"Topic10\", \"Topic10\", \"Topic10\", \"Topic10\", \"Topic10\", \"Topic10\", \"Topic10\", \"Topic10\", \"Topic10\", \"Topic10\", \"Topic10\", \"Topic10\", \"Topic10\", \"Topic10\", \"Topic10\", \"Topic10\", \"Topic10\", \"Topic10\", \"Topic10\", \"Topic10\", \"Topic10\", \"Topic10\", \"Topic10\", \"Topic10\", \"Topic10\", \"Topic10\", \"Topic10\", \"Topic10\", \"Topic10\", \"Topic10\", \"Topic11\", \"Topic11\", \"Topic11\", \"Topic11\", \"Topic11\", \"Topic11\", \"Topic11\", \"Topic11\", \"Topic11\", \"Topic11\", \"Topic11\", \"Topic11\", \"Topic11\", \"Topic11\", \"Topic11\", \"Topic11\", \"Topic11\", \"Topic11\", \"Topic11\", \"Topic11\", \"Topic11\", \"Topic11\", \"Topic11\", \"Topic11\", \"Topic11\", \"Topic11\", \"Topic11\", \"Topic11\", \"Topic11\", \"Topic11\", \"Topic11\", \"Topic11\", \"Topic12\", \"Topic12\", \"Topic12\", \"Topic12\", \"Topic12\", \"Topic12\", \"Topic12\", \"Topic12\", \"Topic12\", \"Topic12\", \"Topic12\", \"Topic12\", \"Topic12\", \"Topic12\", \"Topic12\", \"Topic12\", \"Topic12\", \"Topic12\", \"Topic12\", \"Topic12\", \"Topic12\", \"Topic12\", \"Topic12\", \"Topic12\", \"Topic12\", \"Topic12\", \"Topic12\", \"Topic12\", \"Topic12\", \"Topic12\", \"Topic13\", \"Topic13\", \"Topic13\", \"Topic13\", \"Topic13\", \"Topic13\", \"Topic13\", \"Topic13\", \"Topic13\", \"Topic13\", \"Topic13\", \"Topic13\", \"Topic13\", \"Topic13\", \"Topic13\", \"Topic13\", \"Topic13\", \"Topic13\", \"Topic13\", \"Topic13\", \"Topic13\", \"Topic13\", \"Topic13\", \"Topic13\", \"Topic13\", \"Topic13\", \"Topic13\", \"Topic13\", \"Topic13\", \"Topic13\", \"Topic13\", \"Topic13\", \"Topic14\", \"Topic14\", \"Topic14\", \"Topic14\", \"Topic14\", \"Topic14\", \"Topic14\", \"Topic14\", \"Topic14\", \"Topic14\", \"Topic14\", \"Topic14\", \"Topic14\", \"Topic14\", \"Topic14\", \"Topic14\", \"Topic14\", \"Topic14\", \"Topic14\", \"Topic14\", \"Topic14\", \"Topic14\", \"Topic14\", \"Topic14\", \"Topic14\", \"Topic14\", \"Topic14\", \"Topic14\", \"Topic14\", \"Topic14\", \"Topic14\", \"Topic15\", \"Topic15\", \"Topic15\", \"Topic15\", \"Topic15\", \"Topic15\", \"Topic15\", \"Topic15\", \"Topic15\", \"Topic15\", \"Topic15\", \"Topic15\", \"Topic15\", \"Topic15\", \"Topic15\", \"Topic15\", \"Topic15\", \"Topic15\", \"Topic15\", \"Topic15\", \"Topic15\", \"Topic15\", \"Topic15\", \"Topic15\", \"Topic15\", \"Topic15\", \"Topic15\", \"Topic15\", \"Topic15\", \"Topic15\", \"Topic15\", \"Topic15\", \"Topic15\", \"Topic15\", \"Topic15\", \"Topic15\", \"Topic15\", \"Topic15\", \"Topic15\", \"Topic15\", \"Topic15\", \"Topic15\", \"Topic15\", \"Topic15\", \"Topic15\"], \"logprob\": [30.0, 29.0, 28.0, 27.0, 26.0, 25.0, 24.0, 23.0, 22.0, 21.0, 20.0, 19.0, 18.0, 17.0, 16.0, 15.0, 14.0, 13.0, 12.0, 11.0, 10.0, 9.0, 8.0, 7.0, 6.0, 5.0, 4.0, 3.0, 2.0, 1.0, -1.805, -2.6225, -3.4441, -3.5465, -3.9518, -3.9979, -4.0594, -4.1043, -4.2149, -4.2966, -4.5045, -4.5225, -4.5284, -4.6514, -4.7283, -4.7429, -4.7523, -4.9882, -5.0188, -5.0673, -5.0809, -5.1362, -5.1835, -5.2523, -5.3124, -5.3493, -5.3714, -5.4077, -5.4173, -5.477, -1.898, -3.5679, -3.108, -1.7138, -4.5627, -2.3714, -2.4279, -2.6906, -2.9433, -2.997, -3.346, -3.3783, -3.4276, -3.4738, -3.5728, -4.0102, -4.2047, -4.2484, -4.3588, -4.428, -4.5756, -4.6158, -4.8084, -4.9543, -5.1017, -5.1017, -5.1792, -5.2812, -5.4975, -5.5115, -5.5804, -5.5804, -5.5804, -5.6986, -5.7267, -1.2656, -2.7889, -3.1634, -4.192, -4.193, -4.3817, -4.4944, -4.7072, -5.1502, -5.2491, -5.2852, -5.4046, -6.5642, -0.6627, -1.3426, -10.0712, -10.0922, -10.0922, -10.1033, -10.1044, -10.1061, -10.1077, -10.1124, -10.1119, -10.1131, -10.1131, -10.1237, -10.1192, -10.1192, -10.1267, -10.1267, -10.1147, -10.1192, -10.1221, -1.706, -2.2189, -2.6726, -2.7816, -3.3279, -3.4176, -3.4458, -3.6538, -3.801, -3.8597, -4.1138, -4.1921, -4.2787, -4.3467, -4.3705, -4.4977, -4.5007, -4.7359, -4.9, -4.9324, -4.9922, -5.0025, -5.0116, -5.0208, -5.0905, -5.1235, -5.1259, -5.1942, -5.6773, -5.7184, -3.7431, -2.9579, -2.6267, -3.7238, -1.3262, -2.1485, -2.9098, -3.2714, -3.3742, -3.531, -3.6417, -3.8586, -3.9105, -3.9815, -4.1236, -4.1688, -4.7752, -4.8422, -5.0059, -5.2565, -5.5408, -5.6193, -5.8553, -1.6291, -2.8103, -9.7054, -9.7245, -9.7365, -9.7156, -9.7413, -9.7456, -9.7591, -9.7591, -9.7591, -9.7557, -1.7751, -1.9252, -2.7226, -3.2196, -3.7191, -3.725, -3.7298, -3.8046, -3.884, -4.0144, -4.1459, -4.1459, -4.1459, -4.1459, -4.2754, -4.6784, -4.8203, -4.8364, -4.8364, -4.8364, -4.9787, -5.2586, -5.5244, -5.5244, -5.5244, -5.851, -3.8044, -6.3238, -1.4553, -5.0293, -1.8456, -2.4012, -2.557, -2.7232, -2.7391, -2.8169, -2.8327, -2.8957, -3.0292, -3.382, -3.4761, -3.7203, -3.8364, -4.1475, -4.2147, -4.2907, -4.383, -4.4249, -4.6998, -4.6998, -4.7022, -4.9289, -4.9375, -5.0262, -5.1586, -5.1761, -5.3442, -3.6336, -4.7423, -9.8403, -2.189, -2.8593, -3.1943, -3.2459, -3.3592, -3.5078, -3.5309, -3.5641, -3.6882, -3.8065, -3.9108, -4.0621, -4.0685, -4.0817, -4.1326, -4.2326, -4.3812, -4.3913, -4.4605, -4.4781, -4.5083, -4.6905, -4.7493, -4.751, -4.758, -4.758, -4.758, -4.758, -4.758, -4.758, -2.9086, -1.3359, -2.4311, -2.4474, -2.4703, -2.8695, -3.314, -3.4577, -3.4643, -3.6706, -3.7276, -3.7582, -3.7586, -3.8634, -4.1175, -4.1346, -4.1819, -4.2327, -4.2333, -4.3652, -4.4703, -4.7294, -4.8431, -4.8451, -5.0688, -5.5608, -9.3104, -9.2999, -9.355, -9.3589, -9.3939, -9.3861, -1.5347, -1.7993, -3.0368, -3.178, -3.2682, -3.3294, -3.5205, -3.536, -3.6262, -3.6274, -3.6468, -3.8664, -3.8664, -3.8668, -3.9168, -4.0851, -4.1162, -4.2267, -4.2789, -4.2789, -4.2946, -4.3955, -4.3985, -4.5626, -4.9308, -5.2109, -5.3372, -5.7507, -9.0468, -9.0468, -1.7027, -1.8438, -2.2017, -2.6703, -2.9618, -3.3559, -3.8124, -3.8772, -3.9984, -4.1476, -4.1733, -4.2858, -4.292, -4.3099, -4.4096, -4.5962, -4.6363, -4.6876, -4.9091, -4.9091, -5.0426, -8.8968, -8.8968, -8.8968, -8.8968, -8.8968, -8.8968, -8.8969, -8.9482, -8.9532, -2.4717, -5.1319, -1.5481, -1.693, -1.9532, -2.2694, -3.0021, -3.1154, -3.4155, -4.568, -4.6883, -4.7678, -4.9374, -5.0309, -5.0947, -5.5577, -5.5952, -5.5952, -5.5952, -5.5952, -5.5952, -5.5952, -5.5952, -5.5952, -5.5952, -5.5952, -5.5952, -5.5952, -5.5952, -8.724, -8.724, -8.724, -1.1313, -1.7193, -2.7825, -3.3714, -3.4468, -3.628, -3.7493, -4.3154, -4.5988, -4.7019, -4.7454, -4.7454, -5.1546, -5.1546, -2.0317, -8.5833, -8.7422, -8.7402, -8.7708, -8.7732, -8.7732, -8.7738, -8.789, -8.789, -8.7945, -8.7851, -8.7851, -8.7984, -8.8139, -8.8139, -8.8055, -8.8055, -1.5632, -1.8515, -2.2784, -2.6774, -2.8957, -3.1807, -3.4796, -3.9586, -3.9602, -4.4281, -4.4281, -4.4281, -4.4281, -4.4281, -4.4281, -4.7959, -4.7972, -4.7972, -4.9215, -5.2376, -5.2376, -5.2376, -5.4687, -3.7596, -8.5737, -8.5761, -8.5761, -8.5768, -8.5911, -8.5911, -8.5763, -6.8035, -6.8035, -6.8035, -6.8035, -6.8035, -6.8035, -6.8035, -6.8035, -6.8035, -6.8035, -6.8035, -6.8035, -6.8035, -6.8035, -6.8035, -6.8035, -6.8035, -6.8035, -6.8035, -6.8035, -6.8035, -6.8035, -6.8035, -6.8035, -6.8035, -6.8035, -6.8035, -6.8035, -6.8035, -6.8035, -6.8035, -6.8035, -6.8035, -6.8035, -6.8035, -6.8035, -6.8035, -6.8035, -6.8035, -6.8035, -6.8035, -6.8035, -6.8035, -6.8035, -6.8035], \"loglift\": [30.0, 29.0, 28.0, 27.0, 26.0, 25.0, 24.0, 23.0, 22.0, 21.0, 20.0, 19.0, 18.0, 17.0, 16.0, 15.0, 14.0, 13.0, 12.0, 11.0, 10.0, 9.0, 8.0, 7.0, 6.0, 5.0, 4.0, 3.0, 2.0, 1.0, 1.801, 1.7976, 1.7901, 1.7886, 1.7813, 1.7802, 1.7788, 1.7776, 1.7746, 1.7722, 1.7651, 1.7644, 1.7642, 1.7592, 1.7557, 1.755, 1.7545, 1.7419, 1.74, 1.737, 1.7361, 1.7324, 1.7291, 1.724, 1.7192, 1.7162, 1.7143, 1.7112, 1.7103, 1.7049, 1.6311, 1.645, 1.5435, 0.8181, 0.5876, 2.2221, 2.2217, 2.2195, 2.2167, 2.216, 2.2106, 2.21, 2.2091, 2.2081, 2.206, 2.1935, 2.186, 2.1841, 2.179, 2.1755, 2.1672, 2.1647, 2.1516, 2.1399, 2.1264, 2.1264, 2.1186, 2.1074, 2.0801, 2.0782, 2.0683, 2.0683, 2.0683, 2.0498, 2.0451, 1.6691, 2.3257, 2.3203, 2.2895, 2.2895, 2.2797, 2.273, 2.2583, 2.2165, 2.2047, 2.2002, 2.184, 1.9124, 1.8692, 1.6009, -0.59, -0.6096, -0.6096, -0.6202, -0.6212, -0.6252, -0.6264, -0.6296, -0.6305, -0.6321, -0.6336, -0.6401, -0.641, -0.641, -0.6424, -0.6424, -0.6433, -0.6456, -0.6482, 2.5553, 2.5519, 2.5472, 2.5456, 2.5351, 2.5328, 2.532, 2.5255, 2.5201, 2.5178, 2.5058, 2.5014, 2.4963, 2.4919, 2.4903, 2.4812, 2.481, 2.4609, 2.4442, 2.4406, 2.4337, 2.4324, 2.4313, 2.4302, 2.4215, 2.4171, 2.4168, 2.4074, 2.323, 2.3141, 2.2929, 2.1924, 0.308, 0.9277, 2.572, 2.5675, 2.5584, 2.551, 2.5484, 2.5439, 2.5402, 2.5319, 2.5296, 2.5263, 2.519, 2.5164, 2.4697, 2.4628, 2.444, 2.4095, 2.3604, 2.3447, 2.2913, 1.3145, 0.7187, -0.2268, -0.2535, -0.2569, -0.2602, -0.2626, -0.2646, -0.2788, -0.2788, -0.2788, -0.2852, 2.6052, 2.6043, 2.5961, 2.5865, 2.571, 2.5707, 2.5705, 2.5675, 2.564, 2.5576, 2.5503, 2.5503, 2.5503, 2.5503, 2.5422, 2.5096, 2.495, 2.4933, 2.4933, 2.4933, 2.4764, 2.4366, 2.389, 2.389, 2.389, 2.3148, 2.259, 2.1708, 1.4794, 0.9897, 2.6354, 2.6307, 2.6288, 2.6265, 2.6262, 2.625, 2.6247, 2.6236, 2.621, 2.6123, 2.6095, 2.6007, 2.5958, 2.5794, 2.5753, 2.5702, 2.5635, 2.5603, 2.5358, 2.5358, 2.5356, 2.5102, 2.5092, 2.4977, 2.4789, 2.4763, 2.4487, 2.3854, 1.3211, -0.3686, 2.6841, 2.6752, 2.668, 2.6667, 2.6635, 2.6588, 2.658, 2.6568, 2.652, 2.647, 2.642, 2.6338, 2.6334, 2.6327, 2.6296, 2.6231, 2.6123, 2.6115, 2.6058, 2.6043, 2.6017, 2.5844, 2.5781, 2.5779, 2.5772, 2.5772, 2.5772, 2.5772, 2.5772, 2.5772, 0.0349, 2.8771, 2.8675, 2.8673, 2.8669, 2.8597, 2.8474, 2.8422, 2.842, 2.833, 2.8302, 2.8286, 2.8286, 2.8229, 2.8065, 2.8052, 2.8017, 2.7976, 2.7976, 2.7863, 2.7762, 2.7469, 2.7319, 2.7316, 2.6972, 2.5953, 0.1626, 0.1555, 0.1155, 0.1116, 0.0864, 0.0836, 3.0983, 3.096, 3.073, 3.0681, 3.0647, 3.0621, 3.0532, 3.0524, 3.0475, 3.0475, 3.0464, 3.0323, 3.0323, 3.0323, 3.0287, 3.0152, 3.0125, 3.0021, 2.9969, 2.9969, 2.9952, 2.9842, 2.9839, 2.9636, 2.9064, 2.8496, 2.8196, 2.6998, 0.4276, 0.4276, 3.1149, 3.1135, 3.1092, 3.1007, 3.0931, 3.0787, 3.0535, 3.049, 3.0398, 3.0269, 3.0245, 3.0134, 3.0127, 3.0108, 2.9997, 2.9761, 2.9705, 2.963, 2.9269, 2.9269, 2.9017, 0.5778, 0.5778, 0.5778, 0.5778, 0.5778, 0.5769, 0.5768, 0.53, 0.525, 0.4719, -0.4804, 3.201, 3.1998, 3.197, 3.1925, 3.1749, 3.1709, 3.1578, 3.0549, 3.0369, 3.0238, 2.9931, 2.9742, 2.9605, 2.8386, 2.8268, 2.8268, 2.8268, 2.8268, 2.8268, 2.8268, 2.8268, 2.8268, 2.8268, 2.8268, 2.8268, 2.8268, 2.8268, 0.7467, 0.7467, 0.7467, 3.2449, 3.2404, 3.2216, 3.199, 3.195, 3.1844, 3.1762, 3.123, 3.0846, 3.0681, 3.0608, 3.0608, 2.977, 2.977, 0.9119, 0.8591, 0.7305, 0.7305, 0.7045, 0.7032, 0.7032, 0.7014, 0.6894, 0.6894, 0.6821, 0.6817, 0.6817, 0.6812, 0.6686, 0.6686, 0.668, 0.668, 3.449, 3.4455, 3.438, 3.4275, 3.4198, 3.4071, 3.3894, 3.3485, 3.3483, 3.2873, 3.2873, 3.2873, 3.2873, 3.2873, 3.2873, 3.2193, 3.219, 3.219, 3.1911, 3.1072, 3.1072, 3.1072, 3.0328, 1.4533, 0.8993, 0.8907, 0.8907, 0.8855, 0.8852, 0.8852, 0.8662, 2.6821, 2.6821, 2.6821, 2.6821, 2.6821, 2.6821, 2.6821, 2.6821, 2.6821, 2.6821, 2.6821, 2.6821, 2.6821, 2.6821, 2.6821, 2.6821, 2.6821, 2.6821, 2.6821, 2.6821, 2.6821, 2.6821, 2.6821, 2.6821, 2.6821, 2.6821, 2.6821, 2.6821, 2.6821, 2.6821, 2.6821, 2.6798, 2.6774, 2.6781, 2.679, 2.679, 2.6587, 2.6664, 2.6791, 2.6791, 2.6389, 2.678, 2.6793, 2.6744, 2.6806]}, \"token.table\": {\"Topic\": [13, 10, 7, 3, 13, 13, 2, 2, 9, 8, 8, 2, 11, 11, 7, 7, 11, 14, 2, 10, 8, 12, 14, 9, 5, 1, 1, 4, 11, 2, 9, 7, 5, 1, 1, 13, 3, 4, 6, 8, 1, 5, 2, 4, 6, 5, 12, 13, 11, 8, 1, 3, 1, 4, 8, 12, 9, 6, 10, 4, 11, 7, 8, 12, 4, 4, 14, 13, 14, 14, 1, 1, 8, 4, 1, 2, 1, 1, 9, 14, 7, 12, 10, 2, 6, 14, 14, 4, 4, 10, 10, 8, 5, 5, 2, 2, 9, 7, 4, 11, 12, 7, 6, 7, 7, 8, 1, 11, 2, 10, 10, 8, 7, 1, 8, 3, 5, 4, 8, 9, 5, 8, 12, 3, 14, 1, 3, 2, 4, 10, 7, 4, 8, 6, 11, 8, 7, 7, 12, 13, 10, 9, 2, 1, 3, 5, 14, 8, 4, 10, 2, 10, 9, 10, 12, 9, 10, 13, 12, 6, 14, 9, 2, 12, 3, 6, 6, 5, 7, 5, 12, 4, 2, 11, 9, 12, 10, 12, 4, 9, 1, 9, 11, 12, 11, 1, 14, 11, 13, 11, 8, 14, 7, 2, 10, 9, 2, 2, 6, 2, 7, 10, 8, 6, 2, 1, 9, 9, 9, 4, 4, 9, 14, 5, 8, 4, 5, 6, 6, 7, 12, 12, 12, 12, 11, 1, 12, 12, 4, 1, 8, 4, 1, 6, 6, 8, 14, 6, 2, 3, 14, 3, 13, 12, 7, 6, 7, 4, 5, 4, 7, 4, 10, 5, 4, 10, 7, 3, 5, 8, 11, 13, 8, 7, 1, 5, 4, 6, 10, 4, 9, 13, 12, 8, 6, 7, 5, 8, 6, 8, 6, 8, 6, 5, 14, 4, 2, 3, 6, 10, 12, 13, 3, 10, 5, 8, 1, 2, 1, 11, 1, 11, 10, 9, 2, 3, 8, 9, 2, 2, 11, 10, 4, 10, 2, 1, 12, 12, 11, 6, 9, 8, 11, 7, 14, 6, 13, 9, 1, 4, 7, 1, 2, 9, 7, 11, 4, 10, 6, 6, 6, 6, 4, 1, 14, 14, 1, 14, 1, 4, 12, 5, 14, 2, 6, 7, 2, 10, 11, 1, 14, 1, 7, 14, 1, 13, 8, 10], \"Freq\": [0.9351367844416242, 0.9263838344492088, 0.9019568412121608, 0.8878901897596674, 0.9339339300750202, 0.7604427806962669, 0.9935053071472801, 0.8782642384748693, 0.9136289204645969, 0.990413259587719, 0.8860630588226343, 0.9726986172810865, 0.9925917224219548, 0.988335055831891, 0.9770978920606496, 0.9646332611695023, 0.9042121782605325, 0.8614991149876368, 0.9905559976977013, 0.8342627755984672, 0.8860630588226343, 0.9936122751321949, 0.9265046971340618, 0.9890718909988777, 0.9252233816643893, 0.9448534659178727, 0.7734195029177665, 0.19503622247491503, 0.026901547927574487, 0.9929251903247197, 0.9933800138629059, 0.9131861198326604, 0.6648650307456424, 0.9263238505832154, 0.8723543692987368, 0.6549513250776158, 0.915252253586446, 0.8463427743829789, 0.8812240023737214, 0.8860630588226343, 0.9032933556148843, 0.9632842857210298, 0.5714593995870884, 0.1051098684229951, 0.32257856171195054, 0.9358339401776533, 0.583817168822183, 0.6549513250776158, 0.8547058041905113, 0.9432469499994374, 0.9668213263500279, 0.9523582239827538, 0.9859371499206817, 0.9914560673195343, 0.8860630588226343, 0.9831486648786789, 0.9790751846764587, 0.8687098388537964, 0.9277590767973038, 0.8480804440130629, 0.9600327431365694, 0.9190499303276523, 0.8860630588226343, 0.5838216059503697, 0.9970471109336269, 0.8772486926417974, 0.810627630943282, 0.9622851956099316, 0.6320881148772417, 0.7781500762656003, 0.9261311585713751, 0.9290183222699983, 0.8860630588226343, 0.962672038345598, 0.9376337208900922, 0.9472313175037688, 0.9460175096115233, 0.8939607073477415, 0.9070659615037061, 0.8568820097982557, 0.9859726403286927, 0.8927426168535078, 0.6006309277395369, 0.9470777369744766, 0.877564114766322, 0.8639936796634569, 0.7773706483722682, 0.8962465748084593, 0.9613566401973749, 0.9579526531421987, 0.9548484565417912, 0.9093856091208435, 0.9829987512715288, 0.9760409478711416, 0.7618031521660451, 0.9810164723502603, 0.8759436392230086, 0.9924943879992938, 0.9712995808628737, 0.8122692088040128, 0.9657573176810783, 0.9886868693274647, 0.8879697273556952, 0.9594486367078255, 0.9641601209206246, 0.8805421164132666, 0.9718986818736648, 0.9861823327942035, 0.931390847379099, 0.9335089317542381, 0.9756449823384914, 0.9464884847050714, 0.9784186447621069, 0.9382251941365413, 0.9691984012335662, 0.983161414752558, 0.8833864649171556, 0.9587007116545937, 0.9804643104825723, 0.9440200321877522, 0.9892637850498008, 0.9731678483913485, 0.7770368942500432, 0.9486646040033762, 0.8627291435207483, 0.9497854964955511, 0.9536076367896362, 0.9284171881344905, 0.8702737570672688, 0.9608500595358325, 0.9344861187225447, 0.7518947002872457, 0.21482705722492734, 0.9387175628293793, 0.8482502396034776, 0.9351053102096512, 0.87395089640131, 0.7992316467773886, 0.9930336306265957, 0.8733403188472323, 0.940899041485391, 0.9317090390885607, 0.9840863228714269, 0.37310488162292704, 0.6258794009908408, 0.9899813639448066, 0.8639936796634569, 0.970560082902567, 0.7909140307675416, 0.9869957439573604, 0.8846123498421874, 0.9325266145990933, 0.9004363257779424, 0.9331158189299142, 0.5838216059503697, 0.9282019247865751, 0.9654477187455054, 0.9149650477812354, 0.7695048213749545, 0.9940979309958959, 0.7781500762656003, 0.9502861647553268, 0.8535415998312994, 0.583817168822183, 0.6165433317351181, 0.8775805625343831, 0.6277309177705223, 0.8596901838737171, 0.8931366779141975, 0.9653569731930383, 0.5689707020210777, 0.9642577932918882, 0.934711880203634, 0.8594861402795793, 0.8774311604176225, 0.5838216059503697, 0.9340957422036787, 0.583817168822183, 0.8941008775092855, 0.9880290608481161, 0.9404988594336636, 0.9009581961509382, 0.8122692088040128, 0.5838216059503697, 0.9683085233705732, 0.8489244682535183, 0.1296967937609542, 0.9510297751500225, 0.9958318127890742, 0.8735798188038965, 0.9699845684487309, 0.8639936796634569, 0.8111659896588782, 0.9571487678646264, 0.8851946380312347, 0.9441327320028889, 0.8846123498421874, 0.8082056441686072, 0.8812240023737214, 0.8889455946673727, 0.8912018658069822, 0.6717365630119569, 0.8791959842870559, 0.9353770805855779, 0.9782574356947651, 0.9876013755984009, 0.9499780969118831, 0.9430233668614744, 0.9878670980906403, 0.9927606373503732, 0.93294671200566, 0.9741488654791698, 0.9781768391697107, 0.9469632565340212, 0.9178935745141902, 0.8224068160474739, 0.9974026200167343, 0.9395085977106328, 0.1848145739139704, 0.7656603776435917, 0.5838216059503697, 0.8090523998854838, 0.5838216059503697, 0.583817168822183, 0.9222489006835867, 0.9666515514566419, 0.8724324961638201, 0.9189985749970364, 0.9430893195702651, 0.9741056471962777, 0.9407873130115365, 0.9445250915391049, 0.9372778895172468, 0.9353661115475776, 0.9347963435948792, 0.9176007364908043, 0.8639936796634569, 0.8812240023737214, 0.9611666359681558, 0.9892824098452407, 0.9324980560076815, 0.9643190952469144, 0.7883779530661935, 0.9650802652528818, 0.9868827278545971, 0.9637934028368919, 0.8323571769888093, 0.960795525303944, 0.8669840949538447, 0.8995692761158849, 0.7780077825388027, 0.9558619141815893, 0.9544870249229517, 0.9569202546377504, 0.8843213797567702, 0.9903106031079116, 0.9786721289137801, 0.4790231324016954, 0.2827821036060899, 0.06947663752391002, 0.07069552590152248, 0.09629218183138406, 0.9757776448768449, 0.8912018658069822, 0.8405622311068407, 0.15541645418902522, 0.9202034208893042, 0.9749504169035301, 0.9540488122644248, 0.7657993347434033, 0.9320482292002139, 0.9885826897762502, 0.9584839539574266, 0.9142611108323904, 0.9693679087693414, 0.8805181890506136, 0.822337096676629, 0.9376129658637199, 0.9948352748507874, 0.9436927511345625, 0.6778045815842001, 0.9028960691330712, 0.9444570471476793, 0.9770926779031734, 0.9753634346289225, 0.8987987067773648, 0.8082056441686072, 0.965214402522518, 0.8466554681624794, 0.8809214661481313, 0.5838216059503697, 0.8367891868700599, 0.9144441437633287, 0.9277590767973038, 0.7385409343038996, 0.9269079443529807, 0.9021638666381483, 0.9800083213264777, 0.920602153167334, 0.944018161553172, 0.9976025246478937, 0.957837348630441, 0.8132149055480038, 0.7573366313576644, 0.9580687252679174, 0.8868006680043042, 0.9524989003521241, 0.9435764552518975, 0.952630492520892, 0.9255703760417932, 0.8097739750150466, 0.9544870249229517, 0.9190271468462474, 0.9654065399417981, 0.8929933087868444, 0.9718286180350447, 0.9855802127237954, 0.5838216059503697, 0.724193447731093, 0.9730219475139458, 0.9011837331775927, 0.9454925929629916, 0.8733470510978095, 0.9936653257812094, 0.8639936796634569, 0.982963046479281, 0.9623721163304189, 0.9262168880331395, 0.29901888142621946, 0.6866359499416891, 0.9577538444384477, 0.971228863212869, 0.8082056441686072, 0.6712785579274387, 0.978786144313181, 0.9236862884960169, 0.9853175686826822, 0.8133764141084211, 0.9353661115475776, 0.877564114766322, 0.9353781139495486, 0.9816295075219664, 0.8623633339402451, 0.9925520930761702, 0.810627630943282, 0.9588748973404261, 0.9694823863434082, 0.810627630943282, 0.9663132772598418, 0.9626895236462747, 0.5838216059503697, 0.899512205389858, 0.8639936796634569, 0.9900253103481523, 0.6899959045117238, 0.2759983618046895, 0.9758613311116533, 0.9665492374139948, 0.9156888212653373, 0.9138691713215843, 0.9875009771047112, 0.8799881346278661, 0.9869055507854787, 0.9935749562914696, 0.97526829852985, 0.7883779530661935, 0.9791325768622477, 0.9288773755808793], \"Term\": [\"accessory\", \"accord\", \"active\", \"actually\", \"affordable\", \"air\", \"airdope\", \"alexa\", \"almost\", \"also\", \"alsoooo\", \"always\", \"amaze\", \"amazing\", \"asap\", \"asaptm\", \"ask\", \"attractive\", \"audio\", \"available\", \"avoid\", \"awesome\", \"back\", \"backup\", \"bad\", \"base\", \"bass\", \"bass\", \"bass\", \"basshead\", \"battery\", \"beast\", \"beat\", \"beautiful\", \"big\", \"birthday\", \"bit\", \"black\", \"bliss\", \"block\", \"blue\", \"bluetooth\", \"boat\", \"boat\", \"boat\", \"brand\", \"break\", \"brother\", \"bud\", \"budget\", \"build\", \"button\", \"buy\", \"c\", \"cab\", \"cable\", \"call\", \"cancellation\", \"candy\", \"car\", \"carry\", \"case\", \"cause\", \"cell\", \"charge\", \"charger\", \"charm\", \"cheap\", \"check\", \"chic\", \"clarity\", \"clear\", \"club\", \"color\", \"colour\", \"come\", \"comfortable\", \"connect\", \"connectivity\", \"continue\", \"control\", \"cost\", \"crisp\", \"customer\", \"cvc\", \"cycle\", \"data\", \"datum\", \"day\", \"decent\", \"definitely\", \"deliver\", \"delivery\", \"design\", \"deuce\", \"display\", \"disturbance\", \"driver\", \"dual\", \"due\", \"durable\", \"dynamic\", \"e\", \"ear\", \"earbud\", \"early\", \"earphone\", \"easy\", \"edition\", \"end\", \"enjoy\", \"enough\", \"enx\", \"even\", \"ever\", \"excellent\", \"exchange\", \"expect\", \"experience\", \"face\", \"fast\", \"feature\", \"feedback\", \"feel\", \"fine\", \"first\", \"fit\", \"fitness\", \"flexible\", \"friend\", \"friendly\", \"full\", \"full\", \"fully\", \"function\", \"game\", \"gamer\", \"gesture\", \"get\", \"gift\", \"girl\", \"give\", \"go\", \"good\", \"good\", \"great\", \"handle\", \"happy\", \"hard\", \"headphone\", \"health\", \"hear\", \"heart\", \"heavy\", \"hence\", \"hesitation\", \"high\", \"highly\", \"hope\", \"hour\", \"image\", \"impress\", \"inch\", \"initial\", \"introduction\", \"ipx5\", \"ipx7\", \"item\", \"iwp\", \"keep\", \"laptop\", \"last\", \"late\", \"launch\", \"leave\", \"length\", \"less\", \"let\", \"level\", \"life\", \"light\", \"listen\", \"listening\", \"lite\", \"long\", \"look\", \"look\", \"loud\", \"love\", \"loving\", \"low\", \"machine\", \"mah\", \"make\", \"market\", \"material\", \"measure\", \"mechanism\", \"metallic\", \"meter\", \"mic\", \"military\", \"mind\", \"mm\", \"mode\", \"money\", \"monitoring\", \"month\", \"much\", \"music\", \"nd\", \"neckband\", \"need\", \"never\", \"new\", \"next\", \"nice\", \"noise\", \"nonstop\", \"nonstop\", \"note\", \"offer\", \"oneplus\", \"op\", \"operate\", \"order\", \"original\", \"output\", \"outstanding\", \"overall\", \"p\", \"package\", \"packaging\", \"pairing\", \"panel\", \"partner\", \"pass\", \"peerless\", \"people\", \"perfect\", \"perfectly\", \"performance\", \"personalization\", \"phone\", \"playback\", \"playtime\", \"pocket\", \"point\", \"policy\", \"port\", \"portable\", \"power\", \"praise\", \"premium\", \"pretty\", \"price\", \"pro\", \"product\", \"product\", \"product\", \"product\", \"product\", \"purchase\", \"quad\", \"quality\", \"quality\", \"quite\", \"r\", \"range\", \"rapid\", \"rate\", \"really\", \"receive\", \"recommend\", \"resistance\", \"resistant\", \"return\", \"right\", \"rockerz\", \"rude\", \"rugby\", \"run\", \"satisfied\", \"satisfy\", \"say\", \"see\", \"select\", \"service\", \"signature\", \"similar\", \"simple\", \"simply\", \"size\", \"skull\", \"sleek\", \"small\", \"smart\", \"smartwatch\", \"smooth\", \"song\", \"sound\", \"speaker\", \"specification\", \"speed\", \"sport\", \"staisfie\", \"star\", \"still\", \"stone\", \"storm\", \"strap\", \"studio\", \"stylish\", \"suggest\", \"sunburn\", \"super\", \"superb\", \"support\", \"sure\", \"sweat\", \"take\", \"talk\", \"team\", \"technology\", \"test\", \"thank\", \"thing\", \"think\", \"time\", \"time\", \"total\", \"touch\", \"track\", \"transfer\", \"trebel\", \"turn\", \"type\", \"ui\", \"uninterepte\", \"uninterrupte\", \"uninterrupted\", \"upto\", \"usb\", \"use\", \"v1\", \"v2\", \"value\", \"visually\", \"voice\", \"volume\", \"w\", \"want\", \"wash\", \"watch\", \"water\", \"water\", \"wave\", \"way\", \"wear\", \"week\", \"well\", \"wire\", \"wireless\", \"work\", \"worth\", \"worthy\", \"year\", \"\\u0930\"]}, \"R\": 30, \"lambda.step\": 0.01, \"plot.opts\": {\"xlab\": \"PC1\", \"ylab\": \"PC2\"}, \"topic.order\": [6, 15, 8, 14, 1, 5, 10, 4, 7, 9, 11, 2, 13, 12, 3]};\n",
       "\n",
       "function LDAvis_load_lib(url, callback){\n",
       "  var s = document.createElement('script');\n",
       "  s.src = url;\n",
       "  s.async = true;\n",
       "  s.onreadystatechange = s.onload = callback;\n",
       "  s.onerror = function(){console.warn(\"failed to load library \" + url);};\n",
       "  document.getElementsByTagName(\"head\")[0].appendChild(s);\n",
       "}\n",
       "\n",
       "if(typeof(LDAvis) !== \"undefined\"){\n",
       "   // already loaded: just create the visualization\n",
       "   !function(LDAvis){\n",
       "       new LDAvis(\"#\" + \"ldavis_el831399454757104647742964468\", ldavis_el831399454757104647742964468_data);\n",
       "   }(LDAvis);\n",
       "}else if(typeof define === \"function\" && define.amd){\n",
       "   // require.js is available: use it to load d3/LDAvis\n",
       "   require.config({paths: {d3: \"https://d3js.org/d3.v5\"}});\n",
       "   require([\"d3\"], function(d3){\n",
       "      window.d3 = d3;\n",
       "      LDAvis_load_lib(\"https://cdn.jsdelivr.net/gh/bmabey/pyLDAvis@3.4.0/pyLDAvis/js/ldavis.v3.0.0.js\", function(){\n",
       "        new LDAvis(\"#\" + \"ldavis_el831399454757104647742964468\", ldavis_el831399454757104647742964468_data);\n",
       "      });\n",
       "    });\n",
       "}else{\n",
       "    // require.js not available: dynamically load d3 & LDAvis\n",
       "    LDAvis_load_lib(\"https://d3js.org/d3.v5.js\", function(){\n",
       "         LDAvis_load_lib(\"https://cdn.jsdelivr.net/gh/bmabey/pyLDAvis@3.4.0/pyLDAvis/js/ldavis.v3.0.0.js\", function(){\n",
       "                 new LDAvis(\"#\" + \"ldavis_el831399454757104647742964468\", ldavis_el831399454757104647742964468_data);\n",
       "            })\n",
       "         });\n",
       "}\n",
       "</script>"
      ],
      "text/plain": [
       "PreparedData(topic_coordinates=              x         y  topics  cluster       Freq\n",
       "topic                                                \n",
       "5      0.169384 -0.214613       1        1  16.470677\n",
       "14    -0.255547 -0.202482       2        1  10.762286\n",
       "7      0.297757 -0.182887       3        1   9.654022\n",
       "13    -0.175732 -0.124124       4        1   7.727781\n",
       "0      0.228665 -0.067310       5        1   7.611308\n",
       "4     -0.258287 -0.208933       6        1   7.345728\n",
       "9     -0.073549  0.067446       7        1   7.122991\n",
       "3      0.087974  0.090918       8        1   6.764398\n",
       "6     -0.058187  0.122261       9        1   5.602717\n",
       "8     -0.058849  0.143919      10        1   4.479633\n",
       "10     0.114918  0.062923      11        1   4.399724\n",
       "1     -0.058104  0.156739      12        1   4.039180\n",
       "12     0.140936  0.058210      13        1   3.875523\n",
       "11    -0.050226  0.147122      14        1   3.144000\n",
       "2     -0.051153  0.150811      15        1   1.000033, topic_info=          Term         Freq        Total Category  logprob  loglift\n",
       "0         good  1238.000000  1238.000000  Default  30.0000  30.0000\n",
       "17        boat   827.000000   827.000000  Default  29.0000  29.0000\n",
       "2      product   820.000000   820.000000  Default  28.0000  28.0000\n",
       "20        nice   315.000000   315.000000  Default  27.0000  27.0000\n",
       "8        sound   423.000000   423.000000  Default  26.0000  26.0000\n",
       "..         ...          ...          ...      ...      ...      ...\n",
       "163    provide     0.172858     1.234818  Topic15  -6.8035   2.6389\n",
       "204          u     0.172858     1.187458  Topic15  -6.8035   2.6780\n",
       "214  condition     0.172858     1.186011  Topic15  -6.8035   2.6793\n",
       "236    problem     0.172858     1.191820  Topic15  -6.8035   2.6744\n",
       "249     useful     0.172858     1.184369  Topic15  -6.8035   2.6806\n",
       "\n",
       "[516 rows x 6 columns], token_table=      Topic      Freq        Term\n",
       "term                             \n",
       "336      13  0.935137   accessory\n",
       "224      10  0.926384      accord\n",
       "577       7  0.901957      active\n",
       "215       3  0.887890    actually\n",
       "13       13  0.933934  affordable\n",
       "...     ...       ...         ...\n",
       "11       14  0.993575        work\n",
       "86        1  0.975268       worth\n",
       "227      13  0.788378      worthy\n",
       "455       8  0.979133        year\n",
       "741      10  0.928877           र\n",
       "\n",
       "[368 rows x 3 columns], R=30, lambda_step=0.01, plot_opts={'xlab': 'PC1', 'ylab': 'PC2'}, topic_order=[6, 15, 8, 14, 1, 5, 10, 4, 7, 9, 11, 2, 13, 12, 3])"
      ]
     },
     "execution_count": 73,
     "metadata": {},
     "output_type": "execute_result"
    }
   ],
   "source": [
    "# show visualization\n",
    "\n",
    "vis"
   ]
  },
  {
   "cell_type": "markdown",
   "metadata": {
    "cell_id": "818b0f5657c448c7b001e50b2d25a877",
    "deepnote_app_block_visible": true,
    "deepnote_cell_type": "markdown",
    "id": "nG4aN5g4MnmM"
   },
   "source": [
    "# Plot the dependency parser for any two random sentences from the entire corpus/dataset that has at least 10 words in the sentence. \n"
   ]
  },
  {
   "cell_type": "code",
   "execution_count": null,
   "metadata": {
    "cell_id": "ae17a44d48334c20ba7944ea348dacb0",
    "deepnote_app_block_visible": true,
    "deepnote_cell_type": "code",
    "deepnote_to_be_reexecuted": false,
    "execution_millis": 23,
    "execution_start": 1709979300148,
    "id": "VC1ucxwZMnmM",
    "outputId": "a9efc2d2-31d9-4ff4-874e-09c2ab19f0ad",
    "source_hash": "c7ca0a9d"
   },
   "outputs": [
    {
     "data": {
      "text/plain": [
       "2809    boat rockerz bluetooth headphone mm dynamic dr...\n",
       "1059    boat trebel airdopes earbuds woman upto hour p...\n",
       "Name: Summary, dtype: category\n",
       "Categories (654, object): ['', 'a400 usb type c data cable', 'accessory miss quick response boat team send ..., 'add usb hub also', ..., 'write product description website exactly', 'write review use approximately year really am..., 'xtend talk premium design smartwatch build al..., '𝙸 𝚕𝚒𝚔𝚎 𝚒𝚝']"
      ]
     },
     "execution_count": 83,
     "metadata": {},
     "output_type": "execute_result"
    }
   ],
   "source": [
    "# Select two sentences with at least 10 words\n",
    "\n",
    "sentences = df[df['Summary'].str.split().apply(len) >= 10]['Summary'].sample(n=2, random_state=42)\n",
    "\n",
    "sentences"
   ]
  },
  {
   "cell_type": "code",
   "execution_count": null,
   "metadata": {
    "cell_id": "bb41be76136e4e42af07e7fb7a4351f7",
    "deepnote_app_block_visible": true,
    "deepnote_cell_type": "code",
    "deepnote_to_be_reexecuted": false,
    "execution_millis": 426,
    "execution_start": 1709979336268,
    "id": "bn4hNAEXMnmM",
    "outputId": "1f80ce9d-70e7-4d2c-e433-162b8ca90be3",
    "source_hash": "7e86b3a"
   },
   "outputs": [
    {
     "data": {
      "text/html": [
       "<span class=\"tex2jax_ignore\"><svg xmlns=\"http://www.w3.org/2000/svg\" xmlns:xlink=\"http://www.w3.org/1999/xlink\" xml:lang=\"en\" id=\"15955e811b334ba3b47f413793418a11-0\" class=\"displacy\" width=\"2150\" height=\"512.0\" direction=\"ltr\" style=\"max-width: none; height: 512.0px; color: #000000; background: #ffffff; font-family: Arial; direction: ltr\">\n",
       "<text class=\"displacy-token\" fill=\"currentColor\" text-anchor=\"middle\" y=\"422.0\">\n",
       "    <tspan class=\"displacy-word\" fill=\"currentColor\" x=\"50\">boat</tspan>\n",
       "    <tspan class=\"displacy-tag\" dy=\"2em\" fill=\"currentColor\" x=\"50\">NOUN</tspan>\n",
       "</text>\n",
       "\n",
       "<text class=\"displacy-token\" fill=\"currentColor\" text-anchor=\"middle\" y=\"422.0\">\n",
       "    <tspan class=\"displacy-word\" fill=\"currentColor\" x=\"200\">rockerz</tspan>\n",
       "    <tspan class=\"displacy-tag\" dy=\"2em\" fill=\"currentColor\" x=\"200\">VERB</tspan>\n",
       "</text>\n",
       "\n",
       "<text class=\"displacy-token\" fill=\"currentColor\" text-anchor=\"middle\" y=\"422.0\">\n",
       "    <tspan class=\"displacy-word\" fill=\"currentColor\" x=\"350\">bluetooth</tspan>\n",
       "    <tspan class=\"displacy-tag\" dy=\"2em\" fill=\"currentColor\" x=\"350\">DET</tspan>\n",
       "</text>\n",
       "\n",
       "<text class=\"displacy-token\" fill=\"currentColor\" text-anchor=\"middle\" y=\"422.0\">\n",
       "    <tspan class=\"displacy-word\" fill=\"currentColor\" x=\"500\">headphone</tspan>\n",
       "    <tspan class=\"displacy-tag\" dy=\"2em\" fill=\"currentColor\" x=\"500\">PROPN</tspan>\n",
       "</text>\n",
       "\n",
       "<text class=\"displacy-token\" fill=\"currentColor\" text-anchor=\"middle\" y=\"422.0\">\n",
       "    <tspan class=\"displacy-word\" fill=\"currentColor\" x=\"650\">mm</tspan>\n",
       "    <tspan class=\"displacy-tag\" dy=\"2em\" fill=\"currentColor\" x=\"650\">PROPN</tspan>\n",
       "</text>\n",
       "\n",
       "<text class=\"displacy-token\" fill=\"currentColor\" text-anchor=\"middle\" y=\"422.0\">\n",
       "    <tspan class=\"displacy-word\" fill=\"currentColor\" x=\"800\">dynamic</tspan>\n",
       "    <tspan class=\"displacy-tag\" dy=\"2em\" fill=\"currentColor\" x=\"800\">ADJ</tspan>\n",
       "</text>\n",
       "\n",
       "<text class=\"displacy-token\" fill=\"currentColor\" text-anchor=\"middle\" y=\"422.0\">\n",
       "    <tspan class=\"displacy-word\" fill=\"currentColor\" x=\"950\">driver</tspan>\n",
       "    <tspan class=\"displacy-tag\" dy=\"2em\" fill=\"currentColor\" x=\"950\">NOUN</tspan>\n",
       "</text>\n",
       "\n",
       "<text class=\"displacy-token\" fill=\"currentColor\" text-anchor=\"middle\" y=\"422.0\">\n",
       "    <tspan class=\"displacy-word\" fill=\"currentColor\" x=\"1100\">hour</tspan>\n",
       "    <tspan class=\"displacy-tag\" dy=\"2em\" fill=\"currentColor\" x=\"1100\">NOUN</tspan>\n",
       "</text>\n",
       "\n",
       "<text class=\"displacy-token\" fill=\"currentColor\" text-anchor=\"middle\" y=\"422.0\">\n",
       "    <tspan class=\"displacy-word\" fill=\"currentColor\" x=\"1250\">palyabck</tspan>\n",
       "    <tspan class=\"displacy-tag\" dy=\"2em\" fill=\"currentColor\" x=\"1250\">ADJ</tspan>\n",
       "</text>\n",
       "\n",
       "<text class=\"displacy-token\" fill=\"currentColor\" text-anchor=\"middle\" y=\"422.0\">\n",
       "    <tspan class=\"displacy-word\" fill=\"currentColor\" x=\"1400\">easy</tspan>\n",
       "    <tspan class=\"displacy-tag\" dy=\"2em\" fill=\"currentColor\" x=\"1400\">ADJ</tspan>\n",
       "</text>\n",
       "\n",
       "<text class=\"displacy-token\" fill=\"currentColor\" text-anchor=\"middle\" y=\"422.0\">\n",
       "    <tspan class=\"displacy-word\" fill=\"currentColor\" x=\"1550\">tap</tspan>\n",
       "    <tspan class=\"displacy-tag\" dy=\"2em\" fill=\"currentColor\" x=\"1550\">NOUN</tspan>\n",
       "</text>\n",
       "\n",
       "<text class=\"displacy-token\" fill=\"currentColor\" text-anchor=\"middle\" y=\"422.0\">\n",
       "    <tspan class=\"displacy-word\" fill=\"currentColor\" x=\"1700\">control</tspan>\n",
       "    <tspan class=\"displacy-tag\" dy=\"2em\" fill=\"currentColor\" x=\"1700\">NOUN</tspan>\n",
       "</text>\n",
       "\n",
       "<text class=\"displacy-token\" fill=\"currentColor\" text-anchor=\"middle\" y=\"422.0\">\n",
       "    <tspan class=\"displacy-word\" fill=\"currentColor\" x=\"1850\">extend</tspan>\n",
       "    <tspan class=\"displacy-tag\" dy=\"2em\" fill=\"currentColor\" x=\"1850\">VERB</tspan>\n",
       "</text>\n",
       "\n",
       "<text class=\"displacy-token\" fill=\"currentColor\" text-anchor=\"middle\" y=\"422.0\">\n",
       "    <tspan class=\"displacy-word\" fill=\"currentColor\" x=\"2000\">battery</tspan>\n",
       "    <tspan class=\"displacy-tag\" dy=\"2em\" fill=\"currentColor\" x=\"2000\">NOUN</tspan>\n",
       "</text>\n",
       "\n",
       "<g class=\"displacy-arrow\">\n",
       "    <path class=\"displacy-arc\" id=\"arrow-15955e811b334ba3b47f413793418a11-0-0\" stroke-width=\"2px\" d=\"M62,377.0 62,352.0 188.0,352.0 188.0,377.0\" fill=\"none\" stroke=\"currentColor\"/>\n",
       "    <text dy=\"1.25em\" style=\"font-size: 0.8em; letter-spacing: 1px\">\n",
       "        <textPath xlink:href=\"#arrow-15955e811b334ba3b47f413793418a11-0-0\" class=\"displacy-label\" startOffset=\"50%\" side=\"left\" fill=\"currentColor\" text-anchor=\"middle\">nsubj</textPath>\n",
       "    </text>\n",
       "    <path class=\"displacy-arrowhead\" d=\"M62,379.0 L58,371.0 66,371.0\" fill=\"currentColor\"/>\n",
       "</g>\n",
       "\n",
       "<g class=\"displacy-arrow\">\n",
       "    <path class=\"displacy-arc\" id=\"arrow-15955e811b334ba3b47f413793418a11-0-1\" stroke-width=\"2px\" d=\"M362,377.0 362,302.0 1094.0,302.0 1094.0,377.0\" fill=\"none\" stroke=\"currentColor\"/>\n",
       "    <text dy=\"1.25em\" style=\"font-size: 0.8em; letter-spacing: 1px\">\n",
       "        <textPath xlink:href=\"#arrow-15955e811b334ba3b47f413793418a11-0-1\" class=\"displacy-label\" startOffset=\"50%\" side=\"left\" fill=\"currentColor\" text-anchor=\"middle\">det</textPath>\n",
       "    </text>\n",
       "    <path class=\"displacy-arrowhead\" d=\"M362,379.0 L358,371.0 366,371.0\" fill=\"currentColor\"/>\n",
       "</g>\n",
       "\n",
       "<g class=\"displacy-arrow\">\n",
       "    <path class=\"displacy-arc\" id=\"arrow-15955e811b334ba3b47f413793418a11-0-2\" stroke-width=\"2px\" d=\"M512,377.0 512,352.0 638.0,352.0 638.0,377.0\" fill=\"none\" stroke=\"currentColor\"/>\n",
       "    <text dy=\"1.25em\" style=\"font-size: 0.8em; letter-spacing: 1px\">\n",
       "        <textPath xlink:href=\"#arrow-15955e811b334ba3b47f413793418a11-0-2\" class=\"displacy-label\" startOffset=\"50%\" side=\"left\" fill=\"currentColor\" text-anchor=\"middle\">nmod</textPath>\n",
       "    </text>\n",
       "    <path class=\"displacy-arrowhead\" d=\"M512,379.0 L508,371.0 516,371.0\" fill=\"currentColor\"/>\n",
       "</g>\n",
       "\n",
       "<g class=\"displacy-arrow\">\n",
       "    <path class=\"displacy-arc\" id=\"arrow-15955e811b334ba3b47f413793418a11-0-3\" stroke-width=\"2px\" d=\"M662,377.0 662,327.0 1091.0,327.0 1091.0,377.0\" fill=\"none\" stroke=\"currentColor\"/>\n",
       "    <text dy=\"1.25em\" style=\"font-size: 0.8em; letter-spacing: 1px\">\n",
       "        <textPath xlink:href=\"#arrow-15955e811b334ba3b47f413793418a11-0-3\" class=\"displacy-label\" startOffset=\"50%\" side=\"left\" fill=\"currentColor\" text-anchor=\"middle\">nmod</textPath>\n",
       "    </text>\n",
       "    <path class=\"displacy-arrowhead\" d=\"M662,379.0 L658,371.0 666,371.0\" fill=\"currentColor\"/>\n",
       "</g>\n",
       "\n",
       "<g class=\"displacy-arrow\">\n",
       "    <path class=\"displacy-arc\" id=\"arrow-15955e811b334ba3b47f413793418a11-0-4\" stroke-width=\"2px\" d=\"M812,377.0 812,352.0 938.0,352.0 938.0,377.0\" fill=\"none\" stroke=\"currentColor\"/>\n",
       "    <text dy=\"1.25em\" style=\"font-size: 0.8em; letter-spacing: 1px\">\n",
       "        <textPath xlink:href=\"#arrow-15955e811b334ba3b47f413793418a11-0-4\" class=\"displacy-label\" startOffset=\"50%\" side=\"left\" fill=\"currentColor\" text-anchor=\"middle\">amod</textPath>\n",
       "    </text>\n",
       "    <path class=\"displacy-arrowhead\" d=\"M812,379.0 L808,371.0 816,371.0\" fill=\"currentColor\"/>\n",
       "</g>\n",
       "\n",
       "<g class=\"displacy-arrow\">\n",
       "    <path class=\"displacy-arc\" id=\"arrow-15955e811b334ba3b47f413793418a11-0-5\" stroke-width=\"2px\" d=\"M962,377.0 962,352.0 1088.0,352.0 1088.0,377.0\" fill=\"none\" stroke=\"currentColor\"/>\n",
       "    <text dy=\"1.25em\" style=\"font-size: 0.8em; letter-spacing: 1px\">\n",
       "        <textPath xlink:href=\"#arrow-15955e811b334ba3b47f413793418a11-0-5\" class=\"displacy-label\" startOffset=\"50%\" side=\"left\" fill=\"currentColor\" text-anchor=\"middle\">compound</textPath>\n",
       "    </text>\n",
       "    <path class=\"displacy-arrowhead\" d=\"M962,379.0 L958,371.0 966,371.0\" fill=\"currentColor\"/>\n",
       "</g>\n",
       "\n",
       "<g class=\"displacy-arrow\">\n",
       "    <path class=\"displacy-arc\" id=\"arrow-15955e811b334ba3b47f413793418a11-0-6\" stroke-width=\"2px\" d=\"M1112,377.0 1112,277.0 1697.0,277.0 1697.0,377.0\" fill=\"none\" stroke=\"currentColor\"/>\n",
       "    <text dy=\"1.25em\" style=\"font-size: 0.8em; letter-spacing: 1px\">\n",
       "        <textPath xlink:href=\"#arrow-15955e811b334ba3b47f413793418a11-0-6\" class=\"displacy-label\" startOffset=\"50%\" side=\"left\" fill=\"currentColor\" text-anchor=\"middle\">compound</textPath>\n",
       "    </text>\n",
       "    <path class=\"displacy-arrowhead\" d=\"M1112,379.0 L1108,371.0 1116,371.0\" fill=\"currentColor\"/>\n",
       "</g>\n",
       "\n",
       "<g class=\"displacy-arrow\">\n",
       "    <path class=\"displacy-arc\" id=\"arrow-15955e811b334ba3b47f413793418a11-0-7\" stroke-width=\"2px\" d=\"M1262,377.0 1262,302.0 1694.0,302.0 1694.0,377.0\" fill=\"none\" stroke=\"currentColor\"/>\n",
       "    <text dy=\"1.25em\" style=\"font-size: 0.8em; letter-spacing: 1px\">\n",
       "        <textPath xlink:href=\"#arrow-15955e811b334ba3b47f413793418a11-0-7\" class=\"displacy-label\" startOffset=\"50%\" side=\"left\" fill=\"currentColor\" text-anchor=\"middle\">amod</textPath>\n",
       "    </text>\n",
       "    <path class=\"displacy-arrowhead\" d=\"M1262,379.0 L1258,371.0 1266,371.0\" fill=\"currentColor\"/>\n",
       "</g>\n",
       "\n",
       "<g class=\"displacy-arrow\">\n",
       "    <path class=\"displacy-arc\" id=\"arrow-15955e811b334ba3b47f413793418a11-0-8\" stroke-width=\"2px\" d=\"M1412,377.0 1412,327.0 1691.0,327.0 1691.0,377.0\" fill=\"none\" stroke=\"currentColor\"/>\n",
       "    <text dy=\"1.25em\" style=\"font-size: 0.8em; letter-spacing: 1px\">\n",
       "        <textPath xlink:href=\"#arrow-15955e811b334ba3b47f413793418a11-0-8\" class=\"displacy-label\" startOffset=\"50%\" side=\"left\" fill=\"currentColor\" text-anchor=\"middle\">amod</textPath>\n",
       "    </text>\n",
       "    <path class=\"displacy-arrowhead\" d=\"M1412,379.0 L1408,371.0 1416,371.0\" fill=\"currentColor\"/>\n",
       "</g>\n",
       "\n",
       "<g class=\"displacy-arrow\">\n",
       "    <path class=\"displacy-arc\" id=\"arrow-15955e811b334ba3b47f413793418a11-0-9\" stroke-width=\"2px\" d=\"M1562,377.0 1562,352.0 1688.0,352.0 1688.0,377.0\" fill=\"none\" stroke=\"currentColor\"/>\n",
       "    <text dy=\"1.25em\" style=\"font-size: 0.8em; letter-spacing: 1px\">\n",
       "        <textPath xlink:href=\"#arrow-15955e811b334ba3b47f413793418a11-0-9\" class=\"displacy-label\" startOffset=\"50%\" side=\"left\" fill=\"currentColor\" text-anchor=\"middle\">compound</textPath>\n",
       "    </text>\n",
       "    <path class=\"displacy-arrowhead\" d=\"M1562,379.0 L1558,371.0 1566,371.0\" fill=\"currentColor\"/>\n",
       "</g>\n",
       "\n",
       "<g class=\"displacy-arrow\">\n",
       "    <path class=\"displacy-arc\" id=\"arrow-15955e811b334ba3b47f413793418a11-0-10\" stroke-width=\"2px\" d=\"M1712,377.0 1712,352.0 1838.0,352.0 1838.0,377.0\" fill=\"none\" stroke=\"currentColor\"/>\n",
       "    <text dy=\"1.25em\" style=\"font-size: 0.8em; letter-spacing: 1px\">\n",
       "        <textPath xlink:href=\"#arrow-15955e811b334ba3b47f413793418a11-0-10\" class=\"displacy-label\" startOffset=\"50%\" side=\"left\" fill=\"currentColor\" text-anchor=\"middle\">nsubj</textPath>\n",
       "    </text>\n",
       "    <path class=\"displacy-arrowhead\" d=\"M1712,379.0 L1708,371.0 1716,371.0\" fill=\"currentColor\"/>\n",
       "</g>\n",
       "\n",
       "<g class=\"displacy-arrow\">\n",
       "    <path class=\"displacy-arc\" id=\"arrow-15955e811b334ba3b47f413793418a11-0-11\" stroke-width=\"2px\" d=\"M212,377.0 212,252.0 1850.0,252.0 1850.0,377.0\" fill=\"none\" stroke=\"currentColor\"/>\n",
       "    <text dy=\"1.25em\" style=\"font-size: 0.8em; letter-spacing: 1px\">\n",
       "        <textPath xlink:href=\"#arrow-15955e811b334ba3b47f413793418a11-0-11\" class=\"displacy-label\" startOffset=\"50%\" side=\"left\" fill=\"currentColor\" text-anchor=\"middle\">prep</textPath>\n",
       "    </text>\n",
       "    <path class=\"displacy-arrowhead\" d=\"M1850.0,379.0 L1854.0,371.0 1846.0,371.0\" fill=\"currentColor\"/>\n",
       "</g>\n",
       "\n",
       "<g class=\"displacy-arrow\">\n",
       "    <path class=\"displacy-arc\" id=\"arrow-15955e811b334ba3b47f413793418a11-0-12\" stroke-width=\"2px\" d=\"M1862,377.0 1862,352.0 1988.0,352.0 1988.0,377.0\" fill=\"none\" stroke=\"currentColor\"/>\n",
       "    <text dy=\"1.25em\" style=\"font-size: 0.8em; letter-spacing: 1px\">\n",
       "        <textPath xlink:href=\"#arrow-15955e811b334ba3b47f413793418a11-0-12\" class=\"displacy-label\" startOffset=\"50%\" side=\"left\" fill=\"currentColor\" text-anchor=\"middle\">dobj</textPath>\n",
       "    </text>\n",
       "    <path class=\"displacy-arrowhead\" d=\"M1988.0,379.0 L1992.0,371.0 1984.0,371.0\" fill=\"currentColor\"/>\n",
       "</g>\n",
       "</svg></span>"
      ],
      "text/plain": [
       "<IPython.core.display.HTML object>"
      ]
     },
     "metadata": {},
     "output_type": "display_data"
    },
    {
     "data": {
      "text/html": [
       "<span class=\"tex2jax_ignore\"><svg xmlns=\"http://www.w3.org/2000/svg\" xmlns:xlink=\"http://www.w3.org/1999/xlink\" xml:lang=\"en\" id=\"3594c818ff234d3c8ccec276e70fbef8-0\" class=\"displacy\" width=\"2900\" height=\"362.0\" direction=\"ltr\" style=\"max-width: none; height: 362.0px; color: #000000; background: #ffffff; font-family: Arial; direction: ltr\">\n",
       "<text class=\"displacy-token\" fill=\"currentColor\" text-anchor=\"middle\" y=\"272.0\">\n",
       "    <tspan class=\"displacy-word\" fill=\"currentColor\" x=\"50\">boat</tspan>\n",
       "    <tspan class=\"displacy-tag\" dy=\"2em\" fill=\"currentColor\" x=\"50\">NOUN</tspan>\n",
       "</text>\n",
       "\n",
       "<text class=\"displacy-token\" fill=\"currentColor\" text-anchor=\"middle\" y=\"272.0\">\n",
       "    <tspan class=\"displacy-word\" fill=\"currentColor\" x=\"200\">trebel</tspan>\n",
       "    <tspan class=\"displacy-tag\" dy=\"2em\" fill=\"currentColor\" x=\"200\">NOUN</tspan>\n",
       "</text>\n",
       "\n",
       "<text class=\"displacy-token\" fill=\"currentColor\" text-anchor=\"middle\" y=\"272.0\">\n",
       "    <tspan class=\"displacy-word\" fill=\"currentColor\" x=\"350\">airdopes</tspan>\n",
       "    <tspan class=\"displacy-tag\" dy=\"2em\" fill=\"currentColor\" x=\"350\">PROPN</tspan>\n",
       "</text>\n",
       "\n",
       "<text class=\"displacy-token\" fill=\"currentColor\" text-anchor=\"middle\" y=\"272.0\">\n",
       "    <tspan class=\"displacy-word\" fill=\"currentColor\" x=\"500\">earbuds</tspan>\n",
       "    <tspan class=\"displacy-tag\" dy=\"2em\" fill=\"currentColor\" x=\"500\">PROPN</tspan>\n",
       "</text>\n",
       "\n",
       "<text class=\"displacy-token\" fill=\"currentColor\" text-anchor=\"middle\" y=\"272.0\">\n",
       "    <tspan class=\"displacy-word\" fill=\"currentColor\" x=\"650\">woman</tspan>\n",
       "    <tspan class=\"displacy-tag\" dy=\"2em\" fill=\"currentColor\" x=\"650\">PROPN</tspan>\n",
       "</text>\n",
       "\n",
       "<text class=\"displacy-token\" fill=\"currentColor\" text-anchor=\"middle\" y=\"272.0\">\n",
       "    <tspan class=\"displacy-word\" fill=\"currentColor\" x=\"800\">upto</tspan>\n",
       "    <tspan class=\"displacy-tag\" dy=\"2em\" fill=\"currentColor\" x=\"800\">PROPN</tspan>\n",
       "</text>\n",
       "\n",
       "<text class=\"displacy-token\" fill=\"currentColor\" text-anchor=\"middle\" y=\"272.0\">\n",
       "    <tspan class=\"displacy-word\" fill=\"currentColor\" x=\"950\">hour</tspan>\n",
       "    <tspan class=\"displacy-tag\" dy=\"2em\" fill=\"currentColor\" x=\"950\">NOUN</tspan>\n",
       "</text>\n",
       "\n",
       "<text class=\"displacy-token\" fill=\"currentColor\" text-anchor=\"middle\" y=\"272.0\">\n",
       "    <tspan class=\"displacy-word\" fill=\"currentColor\" x=\"1100\">playback</tspan>\n",
       "    <tspan class=\"displacy-tag\" dy=\"2em\" fill=\"currentColor\" x=\"1100\">NOUN</tspan>\n",
       "</text>\n",
       "\n",
       "<text class=\"displacy-token\" fill=\"currentColor\" text-anchor=\"middle\" y=\"272.0\">\n",
       "    <tspan class=\"displacy-word\" fill=\"currentColor\" x=\"1250\">time</tspan>\n",
       "    <tspan class=\"displacy-tag\" dy=\"2em\" fill=\"currentColor\" x=\"1250\">NOUN</tspan>\n",
       "</text>\n",
       "\n",
       "<text class=\"displacy-token\" fill=\"currentColor\" text-anchor=\"middle\" y=\"272.0\">\n",
       "    <tspan class=\"displacy-word\" fill=\"currentColor\" x=\"1400\">mm</tspan>\n",
       "    <tspan class=\"displacy-tag\" dy=\"2em\" fill=\"currentColor\" x=\"1400\">PROPN</tspan>\n",
       "</text>\n",
       "\n",
       "<text class=\"displacy-token\" fill=\"currentColor\" text-anchor=\"middle\" y=\"272.0\">\n",
       "    <tspan class=\"displacy-word\" fill=\"currentColor\" x=\"1550\">driver</tspan>\n",
       "    <tspan class=\"displacy-tag\" dy=\"2em\" fill=\"currentColor\" x=\"1550\">NOUN</tspan>\n",
       "</text>\n",
       "\n",
       "<text class=\"displacy-token\" fill=\"currentColor\" text-anchor=\"middle\" y=\"272.0\">\n",
       "    <tspan class=\"displacy-word\" fill=\"currentColor\" x=\"1700\">iwp</tspan>\n",
       "    <tspan class=\"displacy-tag\" dy=\"2em\" fill=\"currentColor\" x=\"1700\">NOUN</tspan>\n",
       "</text>\n",
       "\n",
       "<text class=\"displacy-token\" fill=\"currentColor\" text-anchor=\"middle\" y=\"272.0\">\n",
       "    <tspan class=\"displacy-word\" fill=\"currentColor\" x=\"1850\">technology</tspan>\n",
       "    <tspan class=\"displacy-tag\" dy=\"2em\" fill=\"currentColor\" x=\"1850\">NOUN</tspan>\n",
       "</text>\n",
       "\n",
       "<text class=\"displacy-token\" fill=\"currentColor\" text-anchor=\"middle\" y=\"272.0\">\n",
       "    <tspan class=\"displacy-word\" fill=\"currentColor\" x=\"2000\">mah</tspan>\n",
       "    <tspan class=\"displacy-tag\" dy=\"2em\" fill=\"currentColor\" x=\"2000\">PRON</tspan>\n",
       "</text>\n",
       "\n",
       "<text class=\"displacy-token\" fill=\"currentColor\" text-anchor=\"middle\" y=\"272.0\">\n",
       "    <tspan class=\"displacy-word\" fill=\"currentColor\" x=\"2150\">carry</tspan>\n",
       "    <tspan class=\"displacy-tag\" dy=\"2em\" fill=\"currentColor\" x=\"2150\">VERB</tspan>\n",
       "</text>\n",
       "\n",
       "<text class=\"displacy-token\" fill=\"currentColor\" text-anchor=\"middle\" y=\"272.0\">\n",
       "    <tspan class=\"displacy-word\" fill=\"currentColor\" x=\"2300\">case</tspan>\n",
       "    <tspan class=\"displacy-tag\" dy=\"2em\" fill=\"currentColor\" x=\"2300\">NOUN</tspan>\n",
       "</text>\n",
       "\n",
       "<text class=\"displacy-token\" fill=\"currentColor\" text-anchor=\"middle\" y=\"272.0\">\n",
       "    <tspan class=\"displacy-word\" fill=\"currentColor\" x=\"2450\">type</tspan>\n",
       "    <tspan class=\"displacy-tag\" dy=\"2em\" fill=\"currentColor\" x=\"2450\">NOUN</tspan>\n",
       "</text>\n",
       "\n",
       "<text class=\"displacy-token\" fill=\"currentColor\" text-anchor=\"middle\" y=\"272.0\">\n",
       "    <tspan class=\"displacy-word\" fill=\"currentColor\" x=\"2600\">c</tspan>\n",
       "    <tspan class=\"displacy-tag\" dy=\"2em\" fill=\"currentColor\" x=\"2600\">NOUN</tspan>\n",
       "</text>\n",
       "\n",
       "<text class=\"displacy-token\" fill=\"currentColor\" text-anchor=\"middle\" y=\"272.0\">\n",
       "    <tspan class=\"displacy-word\" fill=\"currentColor\" x=\"2750\">charge</tspan>\n",
       "    <tspan class=\"displacy-tag\" dy=\"2em\" fill=\"currentColor\" x=\"2750\">NOUN</tspan>\n",
       "</text>\n",
       "\n",
       "<g class=\"displacy-arrow\">\n",
       "    <path class=\"displacy-arc\" id=\"arrow-3594c818ff234d3c8ccec276e70fbef8-0-0\" stroke-width=\"2px\" d=\"M62,227.0 62,177.0 347.0,177.0 347.0,227.0\" fill=\"none\" stroke=\"currentColor\"/>\n",
       "    <text dy=\"1.25em\" style=\"font-size: 0.8em; letter-spacing: 1px\">\n",
       "        <textPath xlink:href=\"#arrow-3594c818ff234d3c8ccec276e70fbef8-0-0\" class=\"displacy-label\" startOffset=\"50%\" side=\"left\" fill=\"currentColor\" text-anchor=\"middle\">compound</textPath>\n",
       "    </text>\n",
       "    <path class=\"displacy-arrowhead\" d=\"M62,229.0 L58,221.0 66,221.0\" fill=\"currentColor\"/>\n",
       "</g>\n",
       "\n",
       "<g class=\"displacy-arrow\">\n",
       "    <path class=\"displacy-arc\" id=\"arrow-3594c818ff234d3c8ccec276e70fbef8-0-1\" stroke-width=\"2px\" d=\"M212,227.0 212,202.0 344.0,202.0 344.0,227.0\" fill=\"none\" stroke=\"currentColor\"/>\n",
       "    <text dy=\"1.25em\" style=\"font-size: 0.8em; letter-spacing: 1px\">\n",
       "        <textPath xlink:href=\"#arrow-3594c818ff234d3c8ccec276e70fbef8-0-1\" class=\"displacy-label\" startOffset=\"50%\" side=\"left\" fill=\"currentColor\" text-anchor=\"middle\">compound</textPath>\n",
       "    </text>\n",
       "    <path class=\"displacy-arrowhead\" d=\"M212,229.0 L208,221.0 216,221.0\" fill=\"currentColor\"/>\n",
       "</g>\n",
       "\n",
       "<g class=\"displacy-arrow\">\n",
       "    <path class=\"displacy-arc\" id=\"arrow-3594c818ff234d3c8ccec276e70fbef8-0-2\" stroke-width=\"2px\" d=\"M362,227.0 362,177.0 647.0,177.0 647.0,227.0\" fill=\"none\" stroke=\"currentColor\"/>\n",
       "    <text dy=\"1.25em\" style=\"font-size: 0.8em; letter-spacing: 1px\">\n",
       "        <textPath xlink:href=\"#arrow-3594c818ff234d3c8ccec276e70fbef8-0-2\" class=\"displacy-label\" startOffset=\"50%\" side=\"left\" fill=\"currentColor\" text-anchor=\"middle\">compound</textPath>\n",
       "    </text>\n",
       "    <path class=\"displacy-arrowhead\" d=\"M362,229.0 L358,221.0 366,221.0\" fill=\"currentColor\"/>\n",
       "</g>\n",
       "\n",
       "<g class=\"displacy-arrow\">\n",
       "    <path class=\"displacy-arc\" id=\"arrow-3594c818ff234d3c8ccec276e70fbef8-0-3\" stroke-width=\"2px\" d=\"M512,227.0 512,202.0 644.0,202.0 644.0,227.0\" fill=\"none\" stroke=\"currentColor\"/>\n",
       "    <text dy=\"1.25em\" style=\"font-size: 0.8em; letter-spacing: 1px\">\n",
       "        <textPath xlink:href=\"#arrow-3594c818ff234d3c8ccec276e70fbef8-0-3\" class=\"displacy-label\" startOffset=\"50%\" side=\"left\" fill=\"currentColor\" text-anchor=\"middle\">compound</textPath>\n",
       "    </text>\n",
       "    <path class=\"displacy-arrowhead\" d=\"M512,229.0 L508,221.0 516,221.0\" fill=\"currentColor\"/>\n",
       "</g>\n",
       "\n",
       "<g class=\"displacy-arrow\">\n",
       "    <path class=\"displacy-arc\" id=\"arrow-3594c818ff234d3c8ccec276e70fbef8-0-4\" stroke-width=\"2px\" d=\"M662,227.0 662,177.0 947.0,177.0 947.0,227.0\" fill=\"none\" stroke=\"currentColor\"/>\n",
       "    <text dy=\"1.25em\" style=\"font-size: 0.8em; letter-spacing: 1px\">\n",
       "        <textPath xlink:href=\"#arrow-3594c818ff234d3c8ccec276e70fbef8-0-4\" class=\"displacy-label\" startOffset=\"50%\" side=\"left\" fill=\"currentColor\" text-anchor=\"middle\">compound</textPath>\n",
       "    </text>\n",
       "    <path class=\"displacy-arrowhead\" d=\"M662,229.0 L658,221.0 666,221.0\" fill=\"currentColor\"/>\n",
       "</g>\n",
       "\n",
       "<g class=\"displacy-arrow\">\n",
       "    <path class=\"displacy-arc\" id=\"arrow-3594c818ff234d3c8ccec276e70fbef8-0-5\" stroke-width=\"2px\" d=\"M812,227.0 812,202.0 944.0,202.0 944.0,227.0\" fill=\"none\" stroke=\"currentColor\"/>\n",
       "    <text dy=\"1.25em\" style=\"font-size: 0.8em; letter-spacing: 1px\">\n",
       "        <textPath xlink:href=\"#arrow-3594c818ff234d3c8ccec276e70fbef8-0-5\" class=\"displacy-label\" startOffset=\"50%\" side=\"left\" fill=\"currentColor\" text-anchor=\"middle\">compound</textPath>\n",
       "    </text>\n",
       "    <path class=\"displacy-arrowhead\" d=\"M812,229.0 L808,221.0 816,221.0\" fill=\"currentColor\"/>\n",
       "</g>\n",
       "\n",
       "<g class=\"displacy-arrow\">\n",
       "    <path class=\"displacy-arc\" id=\"arrow-3594c818ff234d3c8ccec276e70fbef8-0-6\" stroke-width=\"2px\" d=\"M962,227.0 962,177.0 1247.0,177.0 1247.0,227.0\" fill=\"none\" stroke=\"currentColor\"/>\n",
       "    <text dy=\"1.25em\" style=\"font-size: 0.8em; letter-spacing: 1px\">\n",
       "        <textPath xlink:href=\"#arrow-3594c818ff234d3c8ccec276e70fbef8-0-6\" class=\"displacy-label\" startOffset=\"50%\" side=\"left\" fill=\"currentColor\" text-anchor=\"middle\">compound</textPath>\n",
       "    </text>\n",
       "    <path class=\"displacy-arrowhead\" d=\"M962,229.0 L958,221.0 966,221.0\" fill=\"currentColor\"/>\n",
       "</g>\n",
       "\n",
       "<g class=\"displacy-arrow\">\n",
       "    <path class=\"displacy-arc\" id=\"arrow-3594c818ff234d3c8ccec276e70fbef8-0-7\" stroke-width=\"2px\" d=\"M1112,227.0 1112,202.0 1244.0,202.0 1244.0,227.0\" fill=\"none\" stroke=\"currentColor\"/>\n",
       "    <text dy=\"1.25em\" style=\"font-size: 0.8em; letter-spacing: 1px\">\n",
       "        <textPath xlink:href=\"#arrow-3594c818ff234d3c8ccec276e70fbef8-0-7\" class=\"displacy-label\" startOffset=\"50%\" side=\"left\" fill=\"currentColor\" text-anchor=\"middle\">compound</textPath>\n",
       "    </text>\n",
       "    <path class=\"displacy-arrowhead\" d=\"M1112,229.0 L1108,221.0 1116,221.0\" fill=\"currentColor\"/>\n",
       "</g>\n",
       "\n",
       "<g class=\"displacy-arrow\">\n",
       "    <path class=\"displacy-arc\" id=\"arrow-3594c818ff234d3c8ccec276e70fbef8-0-8\" stroke-width=\"2px\" d=\"M1262,227.0 1262,152.0 1700.0,152.0 1700.0,227.0\" fill=\"none\" stroke=\"currentColor\"/>\n",
       "    <text dy=\"1.25em\" style=\"font-size: 0.8em; letter-spacing: 1px\">\n",
       "        <textPath xlink:href=\"#arrow-3594c818ff234d3c8ccec276e70fbef8-0-8\" class=\"displacy-label\" startOffset=\"50%\" side=\"left\" fill=\"currentColor\" text-anchor=\"middle\">npadvmod</textPath>\n",
       "    </text>\n",
       "    <path class=\"displacy-arrowhead\" d=\"M1262,229.0 L1258,221.0 1266,221.0\" fill=\"currentColor\"/>\n",
       "</g>\n",
       "\n",
       "<g class=\"displacy-arrow\">\n",
       "    <path class=\"displacy-arc\" id=\"arrow-3594c818ff234d3c8ccec276e70fbef8-0-9\" stroke-width=\"2px\" d=\"M1412,227.0 1412,177.0 1697.0,177.0 1697.0,227.0\" fill=\"none\" stroke=\"currentColor\"/>\n",
       "    <text dy=\"1.25em\" style=\"font-size: 0.8em; letter-spacing: 1px\">\n",
       "        <textPath xlink:href=\"#arrow-3594c818ff234d3c8ccec276e70fbef8-0-9\" class=\"displacy-label\" startOffset=\"50%\" side=\"left\" fill=\"currentColor\" text-anchor=\"middle\">compound</textPath>\n",
       "    </text>\n",
       "    <path class=\"displacy-arrowhead\" d=\"M1412,229.0 L1408,221.0 1416,221.0\" fill=\"currentColor\"/>\n",
       "</g>\n",
       "\n",
       "<g class=\"displacy-arrow\">\n",
       "    <path class=\"displacy-arc\" id=\"arrow-3594c818ff234d3c8ccec276e70fbef8-0-10\" stroke-width=\"2px\" d=\"M1562,227.0 1562,202.0 1694.0,202.0 1694.0,227.0\" fill=\"none\" stroke=\"currentColor\"/>\n",
       "    <text dy=\"1.25em\" style=\"font-size: 0.8em; letter-spacing: 1px\">\n",
       "        <textPath xlink:href=\"#arrow-3594c818ff234d3c8ccec276e70fbef8-0-10\" class=\"displacy-label\" startOffset=\"50%\" side=\"left\" fill=\"currentColor\" text-anchor=\"middle\">compound</textPath>\n",
       "    </text>\n",
       "    <path class=\"displacy-arrowhead\" d=\"M1562,229.0 L1558,221.0 1566,221.0\" fill=\"currentColor\"/>\n",
       "</g>\n",
       "\n",
       "<g class=\"displacy-arrow\">\n",
       "    <path class=\"displacy-arc\" id=\"arrow-3594c818ff234d3c8ccec276e70fbef8-0-11\" stroke-width=\"2px\" d=\"M1712,227.0 1712,177.0 2147.0,177.0 2147.0,227.0\" fill=\"none\" stroke=\"currentColor\"/>\n",
       "    <text dy=\"1.25em\" style=\"font-size: 0.8em; letter-spacing: 1px\">\n",
       "        <textPath xlink:href=\"#arrow-3594c818ff234d3c8ccec276e70fbef8-0-11\" class=\"displacy-label\" startOffset=\"50%\" side=\"left\" fill=\"currentColor\" text-anchor=\"middle\">advcl</textPath>\n",
       "    </text>\n",
       "    <path class=\"displacy-arrowhead\" d=\"M1712,229.0 L1708,221.0 1716,221.0\" fill=\"currentColor\"/>\n",
       "</g>\n",
       "\n",
       "<g class=\"displacy-arrow\">\n",
       "    <path class=\"displacy-arc\" id=\"arrow-3594c818ff234d3c8ccec276e70fbef8-0-12\" stroke-width=\"2px\" d=\"M1862,227.0 1862,202.0 1994.0,202.0 1994.0,227.0\" fill=\"none\" stroke=\"currentColor\"/>\n",
       "    <text dy=\"1.25em\" style=\"font-size: 0.8em; letter-spacing: 1px\">\n",
       "        <textPath xlink:href=\"#arrow-3594c818ff234d3c8ccec276e70fbef8-0-12\" class=\"displacy-label\" startOffset=\"50%\" side=\"left\" fill=\"currentColor\" text-anchor=\"middle\">compound</textPath>\n",
       "    </text>\n",
       "    <path class=\"displacy-arrowhead\" d=\"M1862,229.0 L1858,221.0 1866,221.0\" fill=\"currentColor\"/>\n",
       "</g>\n",
       "\n",
       "<g class=\"displacy-arrow\">\n",
       "    <path class=\"displacy-arc\" id=\"arrow-3594c818ff234d3c8ccec276e70fbef8-0-13\" stroke-width=\"2px\" d=\"M2012,227.0 2012,202.0 2144.0,202.0 2144.0,227.0\" fill=\"none\" stroke=\"currentColor\"/>\n",
       "    <text dy=\"1.25em\" style=\"font-size: 0.8em; letter-spacing: 1px\">\n",
       "        <textPath xlink:href=\"#arrow-3594c818ff234d3c8ccec276e70fbef8-0-13\" class=\"displacy-label\" startOffset=\"50%\" side=\"left\" fill=\"currentColor\" text-anchor=\"middle\">nsubj</textPath>\n",
       "    </text>\n",
       "    <path class=\"displacy-arrowhead\" d=\"M2012,229.0 L2008,221.0 2016,221.0\" fill=\"currentColor\"/>\n",
       "</g>\n",
       "\n",
       "<g class=\"displacy-arrow\">\n",
       "    <path class=\"displacy-arc\" id=\"arrow-3594c818ff234d3c8ccec276e70fbef8-0-14\" stroke-width=\"2px\" d=\"M2312,227.0 2312,202.0 2444.0,202.0 2444.0,227.0\" fill=\"none\" stroke=\"currentColor\"/>\n",
       "    <text dy=\"1.25em\" style=\"font-size: 0.8em; letter-spacing: 1px\">\n",
       "        <textPath xlink:href=\"#arrow-3594c818ff234d3c8ccec276e70fbef8-0-14\" class=\"displacy-label\" startOffset=\"50%\" side=\"left\" fill=\"currentColor\" text-anchor=\"middle\">compound</textPath>\n",
       "    </text>\n",
       "    <path class=\"displacy-arrowhead\" d=\"M2312,229.0 L2308,221.0 2316,221.0\" fill=\"currentColor\"/>\n",
       "</g>\n",
       "\n",
       "<g class=\"displacy-arrow\">\n",
       "    <path class=\"displacy-arc\" id=\"arrow-3594c818ff234d3c8ccec276e70fbef8-0-15\" stroke-width=\"2px\" d=\"M2462,227.0 2462,202.0 2594.0,202.0 2594.0,227.0\" fill=\"none\" stroke=\"currentColor\"/>\n",
       "    <text dy=\"1.25em\" style=\"font-size: 0.8em; letter-spacing: 1px\">\n",
       "        <textPath xlink:href=\"#arrow-3594c818ff234d3c8ccec276e70fbef8-0-15\" class=\"displacy-label\" startOffset=\"50%\" side=\"left\" fill=\"currentColor\" text-anchor=\"middle\">compound</textPath>\n",
       "    </text>\n",
       "    <path class=\"displacy-arrowhead\" d=\"M2462,229.0 L2458,221.0 2466,221.0\" fill=\"currentColor\"/>\n",
       "</g>\n",
       "\n",
       "<g class=\"displacy-arrow\">\n",
       "    <path class=\"displacy-arc\" id=\"arrow-3594c818ff234d3c8ccec276e70fbef8-0-16\" stroke-width=\"2px\" d=\"M2612,227.0 2612,202.0 2744.0,202.0 2744.0,227.0\" fill=\"none\" stroke=\"currentColor\"/>\n",
       "    <text dy=\"1.25em\" style=\"font-size: 0.8em; letter-spacing: 1px\">\n",
       "        <textPath xlink:href=\"#arrow-3594c818ff234d3c8ccec276e70fbef8-0-16\" class=\"displacy-label\" startOffset=\"50%\" side=\"left\" fill=\"currentColor\" text-anchor=\"middle\">compound</textPath>\n",
       "    </text>\n",
       "    <path class=\"displacy-arrowhead\" d=\"M2612,229.0 L2608,221.0 2616,221.0\" fill=\"currentColor\"/>\n",
       "</g>\n",
       "\n",
       "<g class=\"displacy-arrow\">\n",
       "    <path class=\"displacy-arc\" id=\"arrow-3594c818ff234d3c8ccec276e70fbef8-0-17\" stroke-width=\"2px\" d=\"M2162,227.0 2162,177.0 2747.0,177.0 2747.0,227.0\" fill=\"none\" stroke=\"currentColor\"/>\n",
       "    <text dy=\"1.25em\" style=\"font-size: 0.8em; letter-spacing: 1px\">\n",
       "        <textPath xlink:href=\"#arrow-3594c818ff234d3c8ccec276e70fbef8-0-17\" class=\"displacy-label\" startOffset=\"50%\" side=\"left\" fill=\"currentColor\" text-anchor=\"middle\">dobj</textPath>\n",
       "    </text>\n",
       "    <path class=\"displacy-arrowhead\" d=\"M2747.0,229.0 L2751.0,221.0 2743.0,221.0\" fill=\"currentColor\"/>\n",
       "</g>\n",
       "</svg></span>"
      ],
      "text/plain": [
       "<IPython.core.display.HTML object>"
      ]
     },
     "metadata": {},
     "output_type": "display_data"
    }
   ],
   "source": [
    "# Load the English language model for spacy\n",
    "nlp = spacy.load('en_core_web_sm')\n",
    "\n",
    "# Process each sentence with the spacy parser and plot the dependency charts\n",
    "for sentence in sentences:\n",
    "    doc = nlp(sentence)\n",
    "    # displacy.render(doc, style='dep', jupyter=True, options={'distance': 100})\n",
    "    displacy.render(doc, style='dep', options={'compact': True, 'collapse_punct': False})"
   ]
  },
  {
   "cell_type": "markdown",
   "metadata": {
    "cell_id": "1a487e2c41764e568fe7398d448fb3fe",
    "deepnote_app_block_visible": true,
    "deepnote_cell_type": "markdown",
    "id": "vpxNgooDMnmN"
   },
   "source": [
    "### Obervations :-\n",
    "We use the spacy library to load the English language model and visualize the dependency relationships for two sentences stored in a pandas Series object called 'sentences'. The 'nlp()' function is called on each sentence to parse it and generate a 'doc' object containing the tokenized, tagged, and dependency-labeled tokens for the sentence.\n",
    "The 'displacy.render()' function is then used to create a visual dependency chart to display the resulting parsed sentence.\n",
    "It is a useful way to visualize the dependency relationships between words in a sentence, which can be helpful in natural language processing tasks like text classification or sentiment analysis. By providing powerful visualization tools, it allows data scientists and analysts to explore and analyze text data more effectively."
   ]
  },
  {
   "cell_type": "markdown",
   "metadata": {
    "cell_id": "1a487e2c41764e568fe7398d448fb3fe",
    "deepnote_app_block_visible": true,
    "deepnote_cell_type": "markdown",
    "id": "-6EzPARoOo_X"
   },
   "source": [
    "### Obervations :-\n",
    "Arcs sometimes don't appear in Jupyter notebooks, and at other times are missing in the .html file conversion. We have attached a screenshot from Google Colab which displays how the arcs should appear. Unfortunately, they are not visible in the local Jupyter notebook on our PC or in the produced HTML file. However, they do appear when we create a PDF.\n",
    "As a result, we have manually included the screenshot here for reference.\n",
    "\n",
    "![Visiblity of Arcs.png](data:image/png;base64,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)"
   ]
  }
 ],
 "metadata": {
  "colab": {
   "provenance": []
  },
  "deepnote_app_layout": "powerful-article",
  "deepnote_app_reactivity_enabled": true,
  "deepnote_execution_queue": [],
  "deepnote_notebook_id": "d94e23b92edb49c39fc1181dcf7fbed8",
  "kernelspec": {
   "display_name": "Python 3 (ipykernel)",
   "language": "python",
   "name": "python3"
  },
  "language_info": {
   "codemirror_mode": {
    "name": "ipython",
    "version": 3
   },
   "file_extension": ".py",
   "mimetype": "text/x-python",
   "name": "python",
   "nbconvert_exporter": "python",
   "pygments_lexer": "ipython3",
   "version": "3.10.9"
  }
 },
 "nbformat": 4,
 "nbformat_minor": 1
}
